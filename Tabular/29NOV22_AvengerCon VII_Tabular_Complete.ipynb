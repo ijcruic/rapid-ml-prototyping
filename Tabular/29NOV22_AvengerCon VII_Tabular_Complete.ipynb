{
 "cells": [
  {
   "cell_type": "code",
   "execution_count": null,
   "id": "L0PWpLd57OkE",
   "metadata": {
    "id": "L0PWpLd57OkE"
   },
   "outputs": [],
   "source": [
    "! pip install optuna textstat category_encoders\n",
    "! pip install https://github.com/pandas-profiling/pandas-profiling/archive/master.zip"
   ]
  },
  {
   "cell_type": "code",
   "execution_count": null,
   "id": "WHhLq4Ye8qXu",
   "metadata": {
    "colab": {
     "base_uri": "https://localhost:8080/"
    },
    "id": "WHhLq4Ye8qXu",
    "outputId": "a6e5c6fa-d4cb-4539-97c6-e66374cd16b8"
   },
   "outputs": [
    {
     "name": "stdout",
     "output_type": "stream",
     "text": [
      "Archive:  Data.zip\n",
      "  inflating: Data/power.csv          \n",
      "  inflating: Data/text.csv           \n"
     ]
    }
   ],
   "source": [
    "! unzip Data.zip"
   ]
  },
  {
   "cell_type": "code",
   "execution_count": null,
   "id": "70b65a7e-54aa-414c-974a-02b4aacb0869",
   "metadata": {
    "id": "70b65a7e-54aa-414c-974a-02b4aacb0869"
   },
   "outputs": [],
   "source": [
    "import os, random, optuna, textstat\n",
    "import numpy as np\n",
    "import pandas as pd\n",
    "from pandas.api.types import CategoricalDtype\n",
    "from pandas_profiling import ProfileReport\n",
    "\n",
    "from scipy.stats import mode\n",
    "from sklearn.model_selection import cross_validate, KFold, RepeatedKFold, train_test_split\n",
    "from sklearn.preprocessing import FunctionTransformer, StandardScaler, OneHotEncoder, RobustScaler, OrdinalEncoder\n",
    "from sklearn.metrics import mean_squared_error, mean_absolute_error, balanced_accuracy_score\n",
    "from sklearn.experimental import enable_iterative_imputer\n",
    "from sklearn.impute import IterativeImputer, SimpleImputer, KNNImputer\n",
    "from sklearn.compose import ColumnTransformer\n",
    "from sklearn.neighbors import NearestNeighbors, LocalOutlierFactor\n",
    "from sklearn.metrics import accuracy_score, mean_squared_error\n",
    "from sklearn.feature_extraction.text import TfidfVectorizer, CountVectorizer\n",
    "from sklearn.cluster import KMeans, DBSCAN\n",
    "from sklearn.decomposition import PCA\n",
    "from sklearn.feature_selection import mutual_info_regression\n",
    "from sklearn.base import TransformerMixin\n",
    "\n",
    "import category_encoders as ce\n",
    "\n",
    "import lightgbm as lgb\n",
    "from lightgbm import LGBMClassifier, LGBMRegressor, early_stopping, Dataset\n",
    "\n",
    "import seaborn as sns\n",
    "from matplotlib import pyplot as plt\n",
    "\n",
    "plt.style.use(\"seaborn-whitegrid\")\n",
    "plt.rc(\"figure\", autolayout=True)\n",
    "plt.rc(\n",
    "    \"axes\",\n",
    "    labelweight=\"bold\",\n",
    "    labelsize=\"large\",\n",
    "    titleweight=\"bold\",\n",
    "    titlesize=14,\n",
    "    titlepad=10,\n",
    ")"
   ]
  },
  {
   "cell_type": "code",
   "execution_count": 1,
   "id": "fCaa7vv0nQDW",
   "metadata": {
    "colab": {
     "base_uri": "https://localhost:8080/"
    },
    "id": "fCaa7vv0nQDW",
    "outputId": "ffff34b2-998a-430b-c44c-510903025630"
   },
   "outputs": [
    {
     "name": "stdout",
     "output_type": "stream",
     "text": [
      "Downloading...\n",
      "From: https://drive.google.com/uc?id=1d0XpolF_YMrXX_Wib6lMZVQMgBt2bpc0\n",
      "To: /content/power.csv\n",
      "100% 14.2M/14.2M [00:00<00:00, 121MB/s] \n"
     ]
    }
   ],
   "source": [
    "! gdown \"1d0XpolF_YMrXX_Wib6lMZVQMgBt2bpc0\""
   ]
  },
  {
   "cell_type": "code",
   "execution_count": null,
   "id": "5955ac5c-58bf-4dfa-88be-24b9678af071",
   "metadata": {
    "id": "5955ac5c-58bf-4dfa-88be-24b9678af071"
   },
   "outputs": [],
   "source": [
    "'''Set dataset directory'''\n",
    "ROOT_DIR = \"/content/Data\""
   ]
  },
  {
   "cell_type": "markdown",
   "id": "ef781d9b-5ae3-479e-82a1-466ef7749457",
   "metadata": {
    "id": "ef781d9b-5ae3-479e-82a1-466ef7749457"
   },
   "source": [
    "# 1. Exploratory Data Analysis\n",
    "- look at the dataset basics (size of the data, data types, look at a few examples etc.)\n",
    "- look for any missing data\n",
    "- look at target value\n",
    "- look for any outliers in the data"
   ]
  },
  {
   "cell_type": "markdown",
   "id": "72605f49-bc1f-4971-96ae-3d32f6ca1ab1",
   "metadata": {
    "id": "72605f49-bc1f-4971-96ae-3d32f6ca1ab1"
   },
   "source": [
    "## 1(a) Profile the dataset"
   ]
  },
  {
   "cell_type": "code",
   "execution_count": null,
   "id": "5fa302a1-7ccc-48ce-8f3f-0257f0d1474c",
   "metadata": {
    "colab": {
     "base_uri": "https://localhost:8080/",
     "height": 270
    },
    "id": "5fa302a1-7ccc-48ce-8f3f-0257f0d1474c",
    "outputId": "86f9eaa3-bee5-48ef-d5df-ec41ed51d245"
   },
   "outputs": [
    {
     "data": {
      "text/html": [
       "\n",
       "  <div id=\"df-870bc482-51ee-4f83-b0cc-1514d2fa0498\">\n",
       "    <div class=\"colab-df-container\">\n",
       "      <div>\n",
       "<style scoped>\n",
       "    .dataframe tbody tr th:only-of-type {\n",
       "        vertical-align: middle;\n",
       "    }\n",
       "\n",
       "    .dataframe tbody tr th {\n",
       "        vertical-align: top;\n",
       "    }\n",
       "\n",
       "    .dataframe thead th {\n",
       "        text-align: right;\n",
       "    }\n",
       "</style>\n",
       "<table border=\"1\" class=\"dataframe\">\n",
       "  <thead>\n",
       "    <tr style=\"text-align: right;\">\n",
       "      <th></th>\n",
       "      <th>id</th>\n",
       "      <th>obs_day</th>\n",
       "      <th>obs_hour</th>\n",
       "      <th>obs_minute</th>\n",
       "      <th>C_motion</th>\n",
       "      <th>fw_motion</th>\n",
       "      <th>faucet_hole</th>\n",
       "      <th>vap_pressure</th>\n",
       "      <th>vap_enth</th>\n",
       "      <th>vap_pressure_div</th>\n",
       "      <th>vap_motion</th>\n",
       "      <th>fw_enth</th>\n",
       "      <th>vap_temp</th>\n",
       "      <th>output_gen</th>\n",
       "    </tr>\n",
       "  </thead>\n",
       "  <tbody>\n",
       "    <tr>\n",
       "      <th>0</th>\n",
       "      <td>a563699ca2a601c6ac64aa29986a00a90fb42b48741695...</td>\n",
       "      <td>Saturday</td>\n",
       "      <td>5.0</td>\n",
       "      <td>46.0</td>\n",
       "      <td>361.486145</td>\n",
       "      <td>2542.801078</td>\n",
       "      <td>0.666879</td>\n",
       "      <td>24.138243</td>\n",
       "      <td>2788.168701</td>\n",
       "      <td>25.448248</td>\n",
       "      <td>2543.177002</td>\n",
       "      <td>1270.066040</td>\n",
       "      <td>603.834106</td>\n",
       "      <td>930.271729</td>\n",
       "    </tr>\n",
       "    <tr>\n",
       "      <th>1</th>\n",
       "      <td>91ab3eb3bcf6c8c1c5fe2da9ba671aa5a48c7369d9a50f...</td>\n",
       "      <td>Saturday</td>\n",
       "      <td>18.0</td>\n",
       "      <td>NaN</td>\n",
       "      <td>197.064667</td>\n",
       "      <td>1454.458144</td>\n",
       "      <td>NaN</td>\n",
       "      <td>12.702796</td>\n",
       "      <td>NaN</td>\n",
       "      <td>13.405114</td>\n",
       "      <td>1454.421021</td>\n",
       "      <td>1095.314453</td>\n",
       "      <td>500.178772</td>\n",
       "      <td>473.562103</td>\n",
       "    </tr>\n",
       "    <tr>\n",
       "      <th>2</th>\n",
       "      <td>7128c51c554735d6c81862684ad6005ae12d2edbcd4644...</td>\n",
       "      <td>Saturday</td>\n",
       "      <td>3.0</td>\n",
       "      <td>51.0</td>\n",
       "      <td>356.869232</td>\n",
       "      <td>2458.671690</td>\n",
       "      <td>0.678685</td>\n",
       "      <td>NaN</td>\n",
       "      <td>2784.910889</td>\n",
       "      <td>NaN</td>\n",
       "      <td>2456.578369</td>\n",
       "      <td>1262.656982</td>\n",
       "      <td>603.529663</td>\n",
       "      <td>904.269897</td>\n",
       "    </tr>\n",
       "    <tr>\n",
       "      <th>3</th>\n",
       "      <td>c8144b52e4f63014de0a0d8e1c629bf0b05cb2696cfc23...</td>\n",
       "      <td>Saturday</td>\n",
       "      <td>13.0</td>\n",
       "      <td>NaN</td>\n",
       "      <td>239.267517</td>\n",
       "      <td>1628.127295</td>\n",
       "      <td>0.679137</td>\n",
       "      <td>15.378051</td>\n",
       "      <td>2881.876709</td>\n",
       "      <td>16.252741</td>\n",
       "      <td>1626.861328</td>\n",
       "      <td>1148.203857</td>\n",
       "      <td>593.649658</td>\n",
       "      <td>597.799194</td>\n",
       "    </tr>\n",
       "    <tr>\n",
       "      <th>4</th>\n",
       "      <td>88d15a5b2df6692f23d105ff1ae82ae026be00c9271eef...</td>\n",
       "      <td>Friday</td>\n",
       "      <td>11.0</td>\n",
       "      <td>13.0</td>\n",
       "      <td>NaN</td>\n",
       "      <td>2621.829401</td>\n",
       "      <td>0.676403</td>\n",
       "      <td>24.517698</td>\n",
       "      <td>2787.063232</td>\n",
       "      <td>NaN</td>\n",
       "      <td>2621.653564</td>\n",
       "      <td>1280.567383</td>\n",
       "      <td>602.601501</td>\n",
       "      <td>950.284973</td>\n",
       "    </tr>\n",
       "  </tbody>\n",
       "</table>\n",
       "</div>\n",
       "      <button class=\"colab-df-convert\" onclick=\"convertToInteractive('df-870bc482-51ee-4f83-b0cc-1514d2fa0498')\"\n",
       "              title=\"Convert this dataframe to an interactive table.\"\n",
       "              style=\"display:none;\">\n",
       "        \n",
       "  <svg xmlns=\"http://www.w3.org/2000/svg\" height=\"24px\"viewBox=\"0 0 24 24\"\n",
       "       width=\"24px\">\n",
       "    <path d=\"M0 0h24v24H0V0z\" fill=\"none\"/>\n",
       "    <path d=\"M18.56 5.44l.94 2.06.94-2.06 2.06-.94-2.06-.94-.94-2.06-.94 2.06-2.06.94zm-11 1L8.5 8.5l.94-2.06 2.06-.94-2.06-.94L8.5 2.5l-.94 2.06-2.06.94zm10 10l.94 2.06.94-2.06 2.06-.94-2.06-.94-.94-2.06-.94 2.06-2.06.94z\"/><path d=\"M17.41 7.96l-1.37-1.37c-.4-.4-.92-.59-1.43-.59-.52 0-1.04.2-1.43.59L10.3 9.45l-7.72 7.72c-.78.78-.78 2.05 0 2.83L4 21.41c.39.39.9.59 1.41.59.51 0 1.02-.2 1.41-.59l7.78-7.78 2.81-2.81c.8-.78.8-2.07 0-2.86zM5.41 20L4 18.59l7.72-7.72 1.47 1.35L5.41 20z\"/>\n",
       "  </svg>\n",
       "      </button>\n",
       "      \n",
       "  <style>\n",
       "    .colab-df-container {\n",
       "      display:flex;\n",
       "      flex-wrap:wrap;\n",
       "      gap: 12px;\n",
       "    }\n",
       "\n",
       "    .colab-df-convert {\n",
       "      background-color: #E8F0FE;\n",
       "      border: none;\n",
       "      border-radius: 50%;\n",
       "      cursor: pointer;\n",
       "      display: none;\n",
       "      fill: #1967D2;\n",
       "      height: 32px;\n",
       "      padding: 0 0 0 0;\n",
       "      width: 32px;\n",
       "    }\n",
       "\n",
       "    .colab-df-convert:hover {\n",
       "      background-color: #E2EBFA;\n",
       "      box-shadow: 0px 1px 2px rgba(60, 64, 67, 0.3), 0px 1px 3px 1px rgba(60, 64, 67, 0.15);\n",
       "      fill: #174EA6;\n",
       "    }\n",
       "\n",
       "    [theme=dark] .colab-df-convert {\n",
       "      background-color: #3B4455;\n",
       "      fill: #D2E3FC;\n",
       "    }\n",
       "\n",
       "    [theme=dark] .colab-df-convert:hover {\n",
       "      background-color: #434B5C;\n",
       "      box-shadow: 0px 1px 3px 1px rgba(0, 0, 0, 0.15);\n",
       "      filter: drop-shadow(0px 1px 2px rgba(0, 0, 0, 0.3));\n",
       "      fill: #FFFFFF;\n",
       "    }\n",
       "  </style>\n",
       "\n",
       "      <script>\n",
       "        const buttonEl =\n",
       "          document.querySelector('#df-870bc482-51ee-4f83-b0cc-1514d2fa0498 button.colab-df-convert');\n",
       "        buttonEl.style.display =\n",
       "          google.colab.kernel.accessAllowed ? 'block' : 'none';\n",
       "\n",
       "        async function convertToInteractive(key) {\n",
       "          const element = document.querySelector('#df-870bc482-51ee-4f83-b0cc-1514d2fa0498');\n",
       "          const dataTable =\n",
       "            await google.colab.kernel.invokeFunction('convertToInteractive',\n",
       "                                                     [key], {});\n",
       "          if (!dataTable) return;\n",
       "\n",
       "          const docLinkHtml = 'Like what you see? Visit the ' +\n",
       "            '<a target=\"_blank\" href=https://colab.research.google.com/notebooks/data_table.ipynb>data table notebook</a>'\n",
       "            + ' to learn more about interactive tables.';\n",
       "          element.innerHTML = '';\n",
       "          dataTable['output_type'] = 'display_data';\n",
       "          await google.colab.output.renderOutput(dataTable, element);\n",
       "          const docLink = document.createElement('div');\n",
       "          docLink.innerHTML = docLinkHtml;\n",
       "          element.appendChild(docLink);\n",
       "        }\n",
       "      </script>\n",
       "    </div>\n",
       "  </div>\n",
       "  "
      ],
      "text/plain": [
       "                                                  id   obs_day  obs_hour  \\\n",
       "0  a563699ca2a601c6ac64aa29986a00a90fb42b48741695...  Saturday       5.0   \n",
       "1  91ab3eb3bcf6c8c1c5fe2da9ba671aa5a48c7369d9a50f...  Saturday      18.0   \n",
       "2  7128c51c554735d6c81862684ad6005ae12d2edbcd4644...  Saturday       3.0   \n",
       "3  c8144b52e4f63014de0a0d8e1c629bf0b05cb2696cfc23...  Saturday      13.0   \n",
       "4  88d15a5b2df6692f23d105ff1ae82ae026be00c9271eef...    Friday      11.0   \n",
       "\n",
       "   obs_minute    C_motion    fw_motion  faucet_hole  vap_pressure  \\\n",
       "0        46.0  361.486145  2542.801078     0.666879     24.138243   \n",
       "1         NaN  197.064667  1454.458144          NaN     12.702796   \n",
       "2        51.0  356.869232  2458.671690     0.678685           NaN   \n",
       "3         NaN  239.267517  1628.127295     0.679137     15.378051   \n",
       "4        13.0         NaN  2621.829401     0.676403     24.517698   \n",
       "\n",
       "      vap_enth  vap_pressure_div   vap_motion      fw_enth    vap_temp  \\\n",
       "0  2788.168701         25.448248  2543.177002  1270.066040  603.834106   \n",
       "1          NaN         13.405114  1454.421021  1095.314453  500.178772   \n",
       "2  2784.910889               NaN  2456.578369  1262.656982  603.529663   \n",
       "3  2881.876709         16.252741  1626.861328  1148.203857  593.649658   \n",
       "4  2787.063232               NaN  2621.653564  1280.567383  602.601501   \n",
       "\n",
       "   output_gen  \n",
       "0  930.271729  \n",
       "1  473.562103  \n",
       "2  904.269897  \n",
       "3  597.799194  \n",
       "4  950.284973  "
      ]
     },
     "metadata": {},
     "output_type": "display_data"
    }
   ],
   "source": [
    "df = pd.read_csv(os.path.join(ROOT_DIR, \"power.csv\"))\n",
    "\n",
    "display(df.head())"
   ]
  },
  {
   "cell_type": "code",
   "execution_count": null,
   "id": "e18458b4-9d3a-4a13-9316-62988203b35b",
   "metadata": {
    "colab": {
     "base_uri": "https://localhost:8080/"
    },
    "id": "e18458b4-9d3a-4a13-9316-62988203b35b",
    "outputId": "3ec4eaa4-96e6-4318-ba85-4995e450bc4d"
   },
   "outputs": [
    {
     "name": "stdout",
     "output_type": "stream",
     "text": [
      "df shape: (72000, 14)\n"
     ]
    }
   ],
   "source": [
    "print(\"df shape:\", df.shape)"
   ]
  },
  {
   "cell_type": "code",
   "execution_count": null,
   "id": "xedfRci88-9O",
   "metadata": {
    "colab": {
     "base_uri": "https://localhost:8080/"
    },
    "id": "xedfRci88-9O",
    "outputId": "dc2526d9-6165-488e-a7fa-ac0db50dfd5e"
   },
   "outputs": [
    {
     "name": "stdout",
     "output_type": "stream",
     "text": [
      "<class 'pandas.core.frame.DataFrame'>\n",
      "RangeIndex: 72000 entries, 0 to 71999\n",
      "Data columns (total 14 columns):\n",
      " #   Column            Non-Null Count  Dtype  \n",
      "---  ------            --------------  -----  \n",
      " 0   id                72000 non-null  object \n",
      " 1   obs_day           64163 non-null  object \n",
      " 2   obs_hour          64030 non-null  float64\n",
      " 3   obs_minute        64148 non-null  float64\n",
      " 4   C_motion          64089 non-null  float64\n",
      " 5   fw_motion         64088 non-null  float64\n",
      " 6   faucet_hole       64085 non-null  float64\n",
      " 7   vap_pressure      64069 non-null  float64\n",
      " 8   vap_enth          64179 non-null  float64\n",
      " 9   vap_pressure_div  64197 non-null  float64\n",
      " 10  vap_motion        64108 non-null  float64\n",
      " 11  fw_enth           64157 non-null  float64\n",
      " 12  vap_temp          64112 non-null  float64\n",
      " 13  output_gen        72000 non-null  float64\n",
      "dtypes: float64(12), object(2)\n",
      "memory usage: 7.7+ MB\n"
     ]
    }
   ],
   "source": [
    "df.info()"
   ]
  },
  {
   "cell_type": "code",
   "execution_count": null,
   "id": "f96c5dbc-e0b7-4cd2-beb0-19dbd97c000a",
   "metadata": {
    "id": "f96c5dbc-e0b7-4cd2-beb0-19dbd97c000a"
   },
   "outputs": [],
   "source": [
    "# ProfileReport(df)"
   ]
  },
  {
   "cell_type": "markdown",
   "id": "ebbaa82f-aa21-4efe-9141-33a03d7a4be9",
   "metadata": {
    "id": "ebbaa82f-aa21-4efe-9141-33a03d7a4be9"
   },
   "source": [
    "From the initial dataset profiling:"
   ]
  },
  {
   "cell_type": "markdown",
   "id": "8938819a-3feb-45b3-8909-75b70f1c7490",
   "metadata": {
    "id": "8938819a-3feb-45b3-8909-75b70f1c7490"
   },
   "source": [
    "## 1(b) look at the missing values\n",
    "- look for any patterns in missing data\n",
    "- look at some examples of missing data"
   ]
  },
  {
   "cell_type": "code",
   "execution_count": null,
   "id": "d1ddb092-f251-4d4e-88fa-70512384f001",
   "metadata": {
    "colab": {
     "base_uri": "https://localhost:8080/"
    },
    "id": "d1ddb092-f251-4d4e-88fa-70512384f001",
    "outputId": "3b188fb6-4d23-436f-a252-29df163feb28"
   },
   "outputs": [
    {
     "data": {
      "text/plain": [
       "id                     0\n",
       "obs_day             7837\n",
       "obs_hour            7970\n",
       "obs_minute          7852\n",
       "C_motion            7911\n",
       "fw_motion           7912\n",
       "faucet_hole         7915\n",
       "vap_pressure        7931\n",
       "vap_enth            7821\n",
       "vap_pressure_div    7803\n",
       "vap_motion          7892\n",
       "fw_enth             7843\n",
       "vap_temp            7888\n",
       "output_gen             0\n",
       "dtype: int64"
      ]
     },
     "execution_count": 9,
     "metadata": {},
     "output_type": "execute_result"
    }
   ],
   "source": [
    "df.isna().sum()"
   ]
  },
  {
   "cell_type": "markdown",
   "id": "1fdbc8fa-537c-4923-85b8-a93427697c84",
   "metadata": {
    "id": "1fdbc8fa-537c-4923-85b8-a93427697c84"
   },
   "source": [
    "## 1(c) Look at the target variable"
   ]
  },
  {
   "cell_type": "code",
   "execution_count": null,
   "id": "1ac499ab-5242-4716-9a3f-39933a3c2282",
   "metadata": {
    "colab": {
     "base_uri": "https://localhost:8080/",
     "height": 657
    },
    "id": "1ac499ab-5242-4716-9a3f-39933a3c2282",
    "outputId": "846003bb-3dfe-4b51-8641-6ab01338f4d9"
   },
   "outputs": [
    {
     "name": "stderr",
     "output_type": "stream",
     "text": [
      "/usr/local/lib/python3.7/dist-packages/seaborn/distributions.py:2619: FutureWarning: `distplot` is a deprecated function and will be removed in a future version. Please adapt your code to use either `displot` (a figure-level function with similar flexibility) or `histplot` (an axes-level function for histograms).\n",
      "  warnings.warn(msg, FutureWarning)\n"
     ]
    },
    {
     "data": {
      "text/plain": [
       "<matplotlib.axes._subplots.AxesSubplot at 0x7fba946e6f10>"
      ]
     },
     "execution_count": 13,
     "metadata": {},
     "output_type": "execute_result"
    },
    {
     "data": {
      "image/png": "[encoded data removed]",
      "text/plain": [
       "<Figure size 864x576 with 1 Axes>"
      ]
     },
     "metadata": {},
     "output_type": "display_data"
    }
   ],
   "source": [
    "plt.figure(figsize=(12,8))\n",
    "sns.distplot(df['output_gen'])"
   ]
  },
  {
   "cell_type": "markdown",
   "id": "6f8f6605-a255-471c-a897-774f867054cb",
   "metadata": {
    "id": "6f8f6605-a255-471c-a897-774f867054cb"
   },
   "source": [
    "## 1(d) Look for Outliers"
   ]
  },
  {
   "cell_type": "code",
   "execution_count": null,
   "id": "Sdy6bX2q_oHp",
   "metadata": {
    "colab": {
     "base_uri": "https://localhost:8080/",
     "height": 300
    },
    "id": "Sdy6bX2q_oHp",
    "outputId": "f44d75be-7d46-4fb7-a83b-07398afc5590"
   },
   "outputs": [
    {
     "data": {
      "text/html": [
       "\n",
       "  <div id=\"df-0ab83060-a7fa-4ce5-8835-5b8bfc6a2f49\">\n",
       "    <div class=\"colab-df-container\">\n",
       "      <div>\n",
       "<style scoped>\n",
       "    .dataframe tbody tr th:only-of-type {\n",
       "        vertical-align: middle;\n",
       "    }\n",
       "\n",
       "    .dataframe tbody tr th {\n",
       "        vertical-align: top;\n",
       "    }\n",
       "\n",
       "    .dataframe thead th {\n",
       "        text-align: right;\n",
       "    }\n",
       "</style>\n",
       "<table border=\"1\" class=\"dataframe\">\n",
       "  <thead>\n",
       "    <tr style=\"text-align: right;\">\n",
       "      <th></th>\n",
       "      <th>obs_hour</th>\n",
       "      <th>obs_minute</th>\n",
       "      <th>C_motion</th>\n",
       "      <th>fw_motion</th>\n",
       "      <th>faucet_hole</th>\n",
       "      <th>vap_pressure</th>\n",
       "      <th>vap_enth</th>\n",
       "      <th>vap_pressure_div</th>\n",
       "      <th>vap_motion</th>\n",
       "      <th>fw_enth</th>\n",
       "      <th>vap_temp</th>\n",
       "      <th>output_gen</th>\n",
       "    </tr>\n",
       "  </thead>\n",
       "  <tbody>\n",
       "    <tr>\n",
       "      <th>count</th>\n",
       "      <td>64030.000000</td>\n",
       "      <td>64148.000000</td>\n",
       "      <td>64089.000000</td>\n",
       "      <td>64088.000000</td>\n",
       "      <td>64085.000000</td>\n",
       "      <td>64069.000000</td>\n",
       "      <td>64179.000000</td>\n",
       "      <td>64197.000000</td>\n",
       "      <td>64108.000000</td>\n",
       "      <td>64157.000000</td>\n",
       "      <td>64112.000000</td>\n",
       "      <td>72000.000000</td>\n",
       "    </tr>\n",
       "    <tr>\n",
       "      <th>mean</th>\n",
       "      <td>11.876573</td>\n",
       "      <td>29.331951</td>\n",
       "      <td>328.502440</td>\n",
       "      <td>2287.004777</td>\n",
       "      <td>0.670591</td>\n",
       "      <td>21.795922</td>\n",
       "      <td>2795.466210</td>\n",
       "      <td>23.003577</td>\n",
       "      <td>2309.925216</td>\n",
       "      <td>1230.615583</td>\n",
       "      <td>591.008818</td>\n",
       "      <td>829.873198</td>\n",
       "    </tr>\n",
       "    <tr>\n",
       "      <th>std</th>\n",
       "      <td>6.036525</td>\n",
       "      <td>17.297359</td>\n",
       "      <td>83.352896</td>\n",
       "      <td>448.204859</td>\n",
       "      <td>0.011327</td>\n",
       "      <td>5.545952</td>\n",
       "      <td>39.308843</td>\n",
       "      <td>5.832061</td>\n",
       "      <td>567.651009</td>\n",
       "      <td>255.842264</td>\n",
       "      <td>30.045351</td>\n",
       "      <td>174.256932</td>\n",
       "    </tr>\n",
       "    <tr>\n",
       "      <th>min</th>\n",
       "      <td>0.000000</td>\n",
       "      <td>0.000000</td>\n",
       "      <td>114.718575</td>\n",
       "      <td>1082.600626</td>\n",
       "      <td>0.602171</td>\n",
       "      <td>9.264307</td>\n",
       "      <td>2693.728271</td>\n",
       "      <td>9.766433</td>\n",
       "      <td>1085.054565</td>\n",
       "      <td>0.000000</td>\n",
       "      <td>466.858826</td>\n",
       "      <td>337.281067</td>\n",
       "    </tr>\n",
       "    <tr>\n",
       "      <th>25%</th>\n",
       "      <td>7.000000</td>\n",
       "      <td>14.000000</td>\n",
       "      <td>319.363281</td>\n",
       "      <td>2229.210642</td>\n",
       "      <td>0.662388</td>\n",
       "      <td>22.209974</td>\n",
       "      <td>2772.308716</td>\n",
       "      <td>23.490790</td>\n",
       "      <td>2333.306030</td>\n",
       "      <td>1248.165649</td>\n",
       "      <td>600.529053</td>\n",
       "      <td>841.792420</td>\n",
       "    </tr>\n",
       "    <tr>\n",
       "      <th>50%</th>\n",
       "      <td>12.000000</td>\n",
       "      <td>29.000000</td>\n",
       "      <td>350.142700</td>\n",
       "      <td>2461.767206</td>\n",
       "      <td>0.675311</td>\n",
       "      <td>23.302608</td>\n",
       "      <td>2787.034424</td>\n",
       "      <td>24.588034</td>\n",
       "      <td>2462.670654</td>\n",
       "      <td>1263.858887</td>\n",
       "      <td>602.362214</td>\n",
       "      <td>903.376618</td>\n",
       "    </tr>\n",
       "    <tr>\n",
       "      <th>75%</th>\n",
       "      <td>17.000000</td>\n",
       "      <td>44.000000</td>\n",
       "      <td>361.965179</td>\n",
       "      <td>2553.177473</td>\n",
       "      <td>0.678516</td>\n",
       "      <td>24.210491</td>\n",
       "      <td>2810.836670</td>\n",
       "      <td>25.518826</td>\n",
       "      <td>2555.305725</td>\n",
       "      <td>1274.751343</td>\n",
       "      <td>603.337692</td>\n",
       "      <td>932.125962</td>\n",
       "    </tr>\n",
       "    <tr>\n",
       "      <th>max</th>\n",
       "      <td>23.000000</td>\n",
       "      <td>59.000000</td>\n",
       "      <td>1698.141480</td>\n",
       "      <td>2932.372995</td>\n",
       "      <td>0.687707</td>\n",
       "      <td>109.212808</td>\n",
       "      <td>2933.161133</td>\n",
       "      <td>115.109406</td>\n",
       "      <td>11675.035156</td>\n",
       "      <td>5256.435548</td>\n",
       "      <td>608.553467</td>\n",
       "      <td>1055.392090</td>\n",
       "    </tr>\n",
       "  </tbody>\n",
       "</table>\n",
       "</div>\n",
       "      <button class=\"colab-df-convert\" onclick=\"convertToInteractive('df-0ab83060-a7fa-4ce5-8835-5b8bfc6a2f49')\"\n",
       "              title=\"Convert this dataframe to an interactive table.\"\n",
       "              style=\"display:none;\">\n",
       "        \n",
       "  <svg xmlns=\"http://www.w3.org/2000/svg\" height=\"24px\"viewBox=\"0 0 24 24\"\n",
       "       width=\"24px\">\n",
       "    <path d=\"M0 0h24v24H0V0z\" fill=\"none\"/>\n",
       "    <path d=\"M18.56 5.44l.94 2.06.94-2.06 2.06-.94-2.06-.94-.94-2.06-.94 2.06-2.06.94zm-11 1L8.5 8.5l.94-2.06 2.06-.94-2.06-.94L8.5 2.5l-.94 2.06-2.06.94zm10 10l.94 2.06.94-2.06 2.06-.94-2.06-.94-.94-2.06-.94 2.06-2.06.94z\"/><path d=\"M17.41 7.96l-1.37-1.37c-.4-.4-.92-.59-1.43-.59-.52 0-1.04.2-1.43.59L10.3 9.45l-7.72 7.72c-.78.78-.78 2.05 0 2.83L4 21.41c.39.39.9.59 1.41.59.51 0 1.02-.2 1.41-.59l7.78-7.78 2.81-2.81c.8-.78.8-2.07 0-2.86zM5.41 20L4 18.59l7.72-7.72 1.47 1.35L5.41 20z\"/>\n",
       "  </svg>\n",
       "      </button>\n",
       "      \n",
       "  <style>\n",
       "    .colab-df-container {\n",
       "      display:flex;\n",
       "      flex-wrap:wrap;\n",
       "      gap: 12px;\n",
       "    }\n",
       "\n",
       "    .colab-df-convert {\n",
       "      background-color: #E8F0FE;\n",
       "      border: none;\n",
       "      border-radius: 50%;\n",
       "      cursor: pointer;\n",
       "      display: none;\n",
       "      fill: #1967D2;\n",
       "      height: 32px;\n",
       "      padding: 0 0 0 0;\n",
       "      width: 32px;\n",
       "    }\n",
       "\n",
       "    .colab-df-convert:hover {\n",
       "      background-color: #E2EBFA;\n",
       "      box-shadow: 0px 1px 2px rgba(60, 64, 67, 0.3), 0px 1px 3px 1px rgba(60, 64, 67, 0.15);\n",
       "      fill: #174EA6;\n",
       "    }\n",
       "\n",
       "    [theme=dark] .colab-df-convert {\n",
       "      background-color: #3B4455;\n",
       "      fill: #D2E3FC;\n",
       "    }\n",
       "\n",
       "    [theme=dark] .colab-df-convert:hover {\n",
       "      background-color: #434B5C;\n",
       "      box-shadow: 0px 1px 3px 1px rgba(0, 0, 0, 0.15);\n",
       "      filter: drop-shadow(0px 1px 2px rgba(0, 0, 0, 0.3));\n",
       "      fill: #FFFFFF;\n",
       "    }\n",
       "  </style>\n",
       "\n",
       "      <script>\n",
       "        const buttonEl =\n",
       "          document.querySelector('#df-0ab83060-a7fa-4ce5-8835-5b8bfc6a2f49 button.colab-df-convert');\n",
       "        buttonEl.style.display =\n",
       "          google.colab.kernel.accessAllowed ? 'block' : 'none';\n",
       "\n",
       "        async function convertToInteractive(key) {\n",
       "          const element = document.querySelector('#df-0ab83060-a7fa-4ce5-8835-5b8bfc6a2f49');\n",
       "          const dataTable =\n",
       "            await google.colab.kernel.invokeFunction('convertToInteractive',\n",
       "                                                     [key], {});\n",
       "          if (!dataTable) return;\n",
       "\n",
       "          const docLinkHtml = 'Like what you see? Visit the ' +\n",
       "            '<a target=\"_blank\" href=https://colab.research.google.com/notebooks/data_table.ipynb>data table notebook</a>'\n",
       "            + ' to learn more about interactive tables.';\n",
       "          element.innerHTML = '';\n",
       "          dataTable['output_type'] = 'display_data';\n",
       "          await google.colab.output.renderOutput(dataTable, element);\n",
       "          const docLink = document.createElement('div');\n",
       "          docLink.innerHTML = docLinkHtml;\n",
       "          element.appendChild(docLink);\n",
       "        }\n",
       "      </script>\n",
       "    </div>\n",
       "  </div>\n",
       "  "
      ],
      "text/plain": [
       "           obs_hour    obs_minute      C_motion     fw_motion   faucet_hole  \\\n",
       "count  64030.000000  64148.000000  64089.000000  64088.000000  64085.000000   \n",
       "mean      11.876573     29.331951    328.502440   2287.004777      0.670591   \n",
       "std        6.036525     17.297359     83.352896    448.204859      0.011327   \n",
       "min        0.000000      0.000000    114.718575   1082.600626      0.602171   \n",
       "25%        7.000000     14.000000    319.363281   2229.210642      0.662388   \n",
       "50%       12.000000     29.000000    350.142700   2461.767206      0.675311   \n",
       "75%       17.000000     44.000000    361.965179   2553.177473      0.678516   \n",
       "max       23.000000     59.000000   1698.141480   2932.372995      0.687707   \n",
       "\n",
       "       vap_pressure      vap_enth  vap_pressure_div    vap_motion  \\\n",
       "count  64069.000000  64179.000000      64197.000000  64108.000000   \n",
       "mean      21.795922   2795.466210         23.003577   2309.925216   \n",
       "std        5.545952     39.308843          5.832061    567.651009   \n",
       "min        9.264307   2693.728271          9.766433   1085.054565   \n",
       "25%       22.209974   2772.308716         23.490790   2333.306030   \n",
       "50%       23.302608   2787.034424         24.588034   2462.670654   \n",
       "75%       24.210491   2810.836670         25.518826   2555.305725   \n",
       "max      109.212808   2933.161133        115.109406  11675.035156   \n",
       "\n",
       "            fw_enth      vap_temp    output_gen  \n",
       "count  64157.000000  64112.000000  72000.000000  \n",
       "mean    1230.615583    591.008818    829.873198  \n",
       "std      255.842264     30.045351    174.256932  \n",
       "min        0.000000    466.858826    337.281067  \n",
       "25%     1248.165649    600.529053    841.792420  \n",
       "50%     1263.858887    602.362214    903.376618  \n",
       "75%     1274.751343    603.337692    932.125962  \n",
       "max     5256.435548    608.553467   1055.392090  "
      ]
     },
     "execution_count": 14,
     "metadata": {},
     "output_type": "execute_result"
    }
   ],
   "source": [
    "df.describe()"
   ]
  },
  {
   "cell_type": "code",
   "execution_count": null,
   "id": "sJN9lcuUA3qL",
   "metadata": {
    "colab": {
     "base_uri": "https://localhost:8080/",
     "height": 488
    },
    "id": "sJN9lcuUA3qL",
    "outputId": "201651e0-4259-4a3e-e7f5-ba48fcf005be"
   },
   "outputs": [
    {
     "data": {
      "text/html": [
       "\n",
       "  <div id=\"df-f0b26c79-5a81-40dc-a2ea-8509ada80a75\">\n",
       "    <div class=\"colab-df-container\">\n",
       "      <div>\n",
       "<style scoped>\n",
       "    .dataframe tbody tr th:only-of-type {\n",
       "        vertical-align: middle;\n",
       "    }\n",
       "\n",
       "    .dataframe tbody tr th {\n",
       "        vertical-align: top;\n",
       "    }\n",
       "\n",
       "    .dataframe thead th {\n",
       "        text-align: right;\n",
       "    }\n",
       "</style>\n",
       "<table border=\"1\" class=\"dataframe\">\n",
       "  <thead>\n",
       "    <tr style=\"text-align: right;\">\n",
       "      <th></th>\n",
       "      <th>id</th>\n",
       "      <th>obs_day</th>\n",
       "      <th>obs_hour</th>\n",
       "      <th>obs_minute</th>\n",
       "      <th>C_motion</th>\n",
       "      <th>fw_motion</th>\n",
       "      <th>faucet_hole</th>\n",
       "      <th>vap_pressure</th>\n",
       "      <th>vap_enth</th>\n",
       "      <th>vap_pressure_div</th>\n",
       "      <th>vap_motion</th>\n",
       "      <th>fw_enth</th>\n",
       "      <th>vap_temp</th>\n",
       "      <th>output_gen</th>\n",
       "    </tr>\n",
       "  </thead>\n",
       "  <tbody>\n",
       "    <tr>\n",
       "      <th>6</th>\n",
       "      <td>0b4af6f80f2d50f189141a9d1b4d5d6d73496d19727968...</td>\n",
       "      <td>Saturday</td>\n",
       "      <td>19.0</td>\n",
       "      <td>41.0</td>\n",
       "      <td>NaN</td>\n",
       "      <td>1122.936791</td>\n",
       "      <td>0.685348</td>\n",
       "      <td>9.713677</td>\n",
       "      <td>2810.786621</td>\n",
       "      <td>10.249903</td>\n",
       "      <td>1124.073608</td>\n",
       "      <td>0.000000</td>\n",
       "      <td>470.612976</td>\n",
       "      <td>354.438171</td>\n",
       "    </tr>\n",
       "    <tr>\n",
       "      <th>23</th>\n",
       "      <td>6db4b051f6126d0e235416614bb76cea81a4ac97865302...</td>\n",
       "      <td>Saturday</td>\n",
       "      <td>19.0</td>\n",
       "      <td>50.0</td>\n",
       "      <td>115.297737</td>\n",
       "      <td>1092.684594</td>\n",
       "      <td>0.686894</td>\n",
       "      <td>NaN</td>\n",
       "      <td>NaN</td>\n",
       "      <td>9.766433</td>\n",
       "      <td>1089.438232</td>\n",
       "      <td>0.000000</td>\n",
       "      <td>467.456482</td>\n",
       "      <td>337.681793</td>\n",
       "    </tr>\n",
       "    <tr>\n",
       "      <th>52</th>\n",
       "      <td>410ec7c32f28c18a1bc09746b61270d6b3b63f597af19f...</td>\n",
       "      <td>NaN</td>\n",
       "      <td>19.0</td>\n",
       "      <td>29.0</td>\n",
       "      <td>147.272888</td>\n",
       "      <td>1245.945478</td>\n",
       "      <td>0.677985</td>\n",
       "      <td>10.881783</td>\n",
       "      <td>NaN</td>\n",
       "      <td>11.472459</td>\n",
       "      <td>1247.217163</td>\n",
       "      <td>0.000000</td>\n",
       "      <td>479.885040</td>\n",
       "      <td>390.639130</td>\n",
       "    </tr>\n",
       "    <tr>\n",
       "      <th>64</th>\n",
       "      <td>8d3c6be48ce73eb6cb74c43abca8b0607d6959464308c4...</td>\n",
       "      <td>Saturday</td>\n",
       "      <td>19.0</td>\n",
       "      <td>24.0</td>\n",
       "      <td>161.075119</td>\n",
       "      <td>1259.332895</td>\n",
       "      <td>0.682723</td>\n",
       "      <td>10.783157</td>\n",
       "      <td>2820.817383</td>\n",
       "      <td>11.332739</td>\n",
       "      <td>1258.081543</td>\n",
       "      <td>0.000000</td>\n",
       "      <td>474.267517</td>\n",
       "      <td>389.995331</td>\n",
       "    </tr>\n",
       "    <tr>\n",
       "      <th>146</th>\n",
       "      <td>054b2f7713395cfb5e22b60d423cf3fab7ca6ae88f0b59...</td>\n",
       "      <td>Saturday</td>\n",
       "      <td>19.0</td>\n",
       "      <td>NaN</td>\n",
       "      <td>167.772568</td>\n",
       "      <td>1263.774847</td>\n",
       "      <td>0.685979</td>\n",
       "      <td>10.764047</td>\n",
       "      <td>2807.850830</td>\n",
       "      <td>11.364876</td>\n",
       "      <td>1262.610474</td>\n",
       "      <td>0.000000</td>\n",
       "      <td>474.249390</td>\n",
       "      <td>390.580841</td>\n",
       "    </tr>\n",
       "    <tr>\n",
       "      <th>...</th>\n",
       "      <td>...</td>\n",
       "      <td>...</td>\n",
       "      <td>...</td>\n",
       "      <td>...</td>\n",
       "      <td>...</td>\n",
       "      <td>...</td>\n",
       "      <td>...</td>\n",
       "      <td>...</td>\n",
       "      <td>...</td>\n",
       "      <td>...</td>\n",
       "      <td>...</td>\n",
       "      <td>...</td>\n",
       "      <td>...</td>\n",
       "      <td>...</td>\n",
       "    </tr>\n",
       "    <tr>\n",
       "      <th>71707</th>\n",
       "      <td>e8b27803017799414f531b9ffa6be0def6e7f38ea58dc3...</td>\n",
       "      <td>Saturday</td>\n",
       "      <td>19.0</td>\n",
       "      <td>27.0</td>\n",
       "      <td>153.617294</td>\n",
       "      <td>NaN</td>\n",
       "      <td>0.661138</td>\n",
       "      <td>10.990579</td>\n",
       "      <td>2827.189941</td>\n",
       "      <td>11.555325</td>\n",
       "      <td>1236.697754</td>\n",
       "      <td>0.000000</td>\n",
       "      <td>NaN</td>\n",
       "      <td>385.335327</td>\n",
       "    </tr>\n",
       "    <tr>\n",
       "      <th>71799</th>\n",
       "      <td>c70f6e326bec5243efb3894452d2f7ed8a20c920006f2b...</td>\n",
       "      <td>Saturday</td>\n",
       "      <td>NaN</td>\n",
       "      <td>NaN</td>\n",
       "      <td>701.283326</td>\n",
       "      <td>2444.598294</td>\n",
       "      <td>0.671235</td>\n",
       "      <td>NaN</td>\n",
       "      <td>2791.875488</td>\n",
       "      <td>48.890893</td>\n",
       "      <td>4889.072754</td>\n",
       "      <td>2523.612060</td>\n",
       "      <td>602.939453</td>\n",
       "      <td>900.052246</td>\n",
       "    </tr>\n",
       "    <tr>\n",
       "      <th>71932</th>\n",
       "      <td>64cbc8484134848b4ee4c6c278d89574043f90f90e6914...</td>\n",
       "      <td>Saturday</td>\n",
       "      <td>19.0</td>\n",
       "      <td>30.0</td>\n",
       "      <td>141.461121</td>\n",
       "      <td>1234.800461</td>\n",
       "      <td>0.681422</td>\n",
       "      <td>10.779192</td>\n",
       "      <td>2850.148193</td>\n",
       "      <td>11.366927</td>\n",
       "      <td>1237.199707</td>\n",
       "      <td>0.000000</td>\n",
       "      <td>NaN</td>\n",
       "      <td>390.211029</td>\n",
       "    </tr>\n",
       "    <tr>\n",
       "      <th>71995</th>\n",
       "      <td>ce75db9da3358f6265f6623f4aec7865353c40690af2a6...</td>\n",
       "      <td>Saturday</td>\n",
       "      <td>19.0</td>\n",
       "      <td>24.0</td>\n",
       "      <td>161.449097</td>\n",
       "      <td>1258.899293</td>\n",
       "      <td>NaN</td>\n",
       "      <td>10.774268</td>\n",
       "      <td>2822.134277</td>\n",
       "      <td>11.326074</td>\n",
       "      <td>1256.907349</td>\n",
       "      <td>0.000000</td>\n",
       "      <td>NaN</td>\n",
       "      <td>389.339050</td>\n",
       "    </tr>\n",
       "    <tr>\n",
       "      <th>71999</th>\n",
       "      <td>ec8aad6fe010eb3aba624a82afbce763c6c2cc31ba4506...</td>\n",
       "      <td>Friday</td>\n",
       "      <td>13.0</td>\n",
       "      <td>24.0</td>\n",
       "      <td>684.544250</td>\n",
       "      <td>2420.923557</td>\n",
       "      <td>0.661694</td>\n",
       "      <td>46.155372</td>\n",
       "      <td>NaN</td>\n",
       "      <td>NaN</td>\n",
       "      <td>4839.020020</td>\n",
       "      <td>2511.615234</td>\n",
       "      <td>605.202148</td>\n",
       "      <td>877.833984</td>\n",
       "    </tr>\n",
       "  </tbody>\n",
       "</table>\n",
       "<p>1352 rows × 14 columns</p>\n",
       "</div>\n",
       "      <button class=\"colab-df-convert\" onclick=\"convertToInteractive('df-f0b26c79-5a81-40dc-a2ea-8509ada80a75')\"\n",
       "              title=\"Convert this dataframe to an interactive table.\"\n",
       "              style=\"display:none;\">\n",
       "        \n",
       "  <svg xmlns=\"http://www.w3.org/2000/svg\" height=\"24px\"viewBox=\"0 0 24 24\"\n",
       "       width=\"24px\">\n",
       "    <path d=\"M0 0h24v24H0V0z\" fill=\"none\"/>\n",
       "    <path d=\"M18.56 5.44l.94 2.06.94-2.06 2.06-.94-2.06-.94-.94-2.06-.94 2.06-2.06.94zm-11 1L8.5 8.5l.94-2.06 2.06-.94-2.06-.94L8.5 2.5l-.94 2.06-2.06.94zm10 10l.94 2.06.94-2.06 2.06-.94-2.06-.94-.94-2.06-.94 2.06-2.06.94z\"/><path d=\"M17.41 7.96l-1.37-1.37c-.4-.4-.92-.59-1.43-.59-.52 0-1.04.2-1.43.59L10.3 9.45l-7.72 7.72c-.78.78-.78 2.05 0 2.83L4 21.41c.39.39.9.59 1.41.59.51 0 1.02-.2 1.41-.59l7.78-7.78 2.81-2.81c.8-.78.8-2.07 0-2.86zM5.41 20L4 18.59l7.72-7.72 1.47 1.35L5.41 20z\"/>\n",
       "  </svg>\n",
       "      </button>\n",
       "      \n",
       "  <style>\n",
       "    .colab-df-container {\n",
       "      display:flex;\n",
       "      flex-wrap:wrap;\n",
       "      gap: 12px;\n",
       "    }\n",
       "\n",
       "    .colab-df-convert {\n",
       "      background-color: #E8F0FE;\n",
       "      border: none;\n",
       "      border-radius: 50%;\n",
       "      cursor: pointer;\n",
       "      display: none;\n",
       "      fill: #1967D2;\n",
       "      height: 32px;\n",
       "      padding: 0 0 0 0;\n",
       "      width: 32px;\n",
       "    }\n",
       "\n",
       "    .colab-df-convert:hover {\n",
       "      background-color: #E2EBFA;\n",
       "      box-shadow: 0px 1px 2px rgba(60, 64, 67, 0.3), 0px 1px 3px 1px rgba(60, 64, 67, 0.15);\n",
       "      fill: #174EA6;\n",
       "    }\n",
       "\n",
       "    [theme=dark] .colab-df-convert {\n",
       "      background-color: #3B4455;\n",
       "      fill: #D2E3FC;\n",
       "    }\n",
       "\n",
       "    [theme=dark] .colab-df-convert:hover {\n",
       "      background-color: #434B5C;\n",
       "      box-shadow: 0px 1px 3px 1px rgba(0, 0, 0, 0.15);\n",
       "      filter: drop-shadow(0px 1px 2px rgba(0, 0, 0, 0.3));\n",
       "      fill: #FFFFFF;\n",
       "    }\n",
       "  </style>\n",
       "\n",
       "      <script>\n",
       "        const buttonEl =\n",
       "          document.querySelector('#df-f0b26c79-5a81-40dc-a2ea-8509ada80a75 button.colab-df-convert');\n",
       "        buttonEl.style.display =\n",
       "          google.colab.kernel.accessAllowed ? 'block' : 'none';\n",
       "\n",
       "        async function convertToInteractive(key) {\n",
       "          const element = document.querySelector('#df-f0b26c79-5a81-40dc-a2ea-8509ada80a75');\n",
       "          const dataTable =\n",
       "            await google.colab.kernel.invokeFunction('convertToInteractive',\n",
       "                                                     [key], {});\n",
       "          if (!dataTable) return;\n",
       "\n",
       "          const docLinkHtml = 'Like what you see? Visit the ' +\n",
       "            '<a target=\"_blank\" href=https://colab.research.google.com/notebooks/data_table.ipynb>data table notebook</a>'\n",
       "            + ' to learn more about interactive tables.';\n",
       "          element.innerHTML = '';\n",
       "          dataTable['output_type'] = 'display_data';\n",
       "          await google.colab.output.renderOutput(dataTable, element);\n",
       "          const docLink = document.createElement('div');\n",
       "          docLink.innerHTML = docLinkHtml;\n",
       "          element.appendChild(docLink);\n",
       "        }\n",
       "      </script>\n",
       "    </div>\n",
       "  </div>\n",
       "  "
      ],
      "text/plain": [
       "                                                      id   obs_day  obs_hour  \\\n",
       "6      0b4af6f80f2d50f189141a9d1b4d5d6d73496d19727968...  Saturday      19.0   \n",
       "23     6db4b051f6126d0e235416614bb76cea81a4ac97865302...  Saturday      19.0   \n",
       "52     410ec7c32f28c18a1bc09746b61270d6b3b63f597af19f...       NaN      19.0   \n",
       "64     8d3c6be48ce73eb6cb74c43abca8b0607d6959464308c4...  Saturday      19.0   \n",
       "146    054b2f7713395cfb5e22b60d423cf3fab7ca6ae88f0b59...  Saturday      19.0   \n",
       "...                                                  ...       ...       ...   \n",
       "71707  e8b27803017799414f531b9ffa6be0def6e7f38ea58dc3...  Saturday      19.0   \n",
       "71799  c70f6e326bec5243efb3894452d2f7ed8a20c920006f2b...  Saturday       NaN   \n",
       "71932  64cbc8484134848b4ee4c6c278d89574043f90f90e6914...  Saturday      19.0   \n",
       "71995  ce75db9da3358f6265f6623f4aec7865353c40690af2a6...  Saturday      19.0   \n",
       "71999  ec8aad6fe010eb3aba624a82afbce763c6c2cc31ba4506...    Friday      13.0   \n",
       "\n",
       "       obs_minute    C_motion    fw_motion  faucet_hole  vap_pressure  \\\n",
       "6            41.0         NaN  1122.936791     0.685348      9.713677   \n",
       "23           50.0  115.297737  1092.684594     0.686894           NaN   \n",
       "52           29.0  147.272888  1245.945478     0.677985     10.881783   \n",
       "64           24.0  161.075119  1259.332895     0.682723     10.783157   \n",
       "146           NaN  167.772568  1263.774847     0.685979     10.764047   \n",
       "...           ...         ...          ...          ...           ...   \n",
       "71707        27.0  153.617294          NaN     0.661138     10.990579   \n",
       "71799         NaN  701.283326  2444.598294     0.671235           NaN   \n",
       "71932        30.0  141.461121  1234.800461     0.681422     10.779192   \n",
       "71995        24.0  161.449097  1258.899293          NaN     10.774268   \n",
       "71999        24.0  684.544250  2420.923557     0.661694     46.155372   \n",
       "\n",
       "          vap_enth  vap_pressure_div   vap_motion      fw_enth    vap_temp  \\\n",
       "6      2810.786621         10.249903  1124.073608     0.000000  470.612976   \n",
       "23             NaN          9.766433  1089.438232     0.000000  467.456482   \n",
       "52             NaN         11.472459  1247.217163     0.000000  479.885040   \n",
       "64     2820.817383         11.332739  1258.081543     0.000000  474.267517   \n",
       "146    2807.850830         11.364876  1262.610474     0.000000  474.249390   \n",
       "...            ...               ...          ...          ...         ...   \n",
       "71707  2827.189941         11.555325  1236.697754     0.000000         NaN   \n",
       "71799  2791.875488         48.890893  4889.072754  2523.612060  602.939453   \n",
       "71932  2850.148193         11.366927  1237.199707     0.000000         NaN   \n",
       "71995  2822.134277         11.326074  1256.907349     0.000000         NaN   \n",
       "71999          NaN               NaN  4839.020020  2511.615234  605.202148   \n",
       "\n",
       "       output_gen  \n",
       "6      354.438171  \n",
       "23     337.681793  \n",
       "52     390.639130  \n",
       "64     389.995331  \n",
       "146    390.580841  \n",
       "...           ...  \n",
       "71707  385.335327  \n",
       "71799  900.052246  \n",
       "71932  390.211029  \n",
       "71995  389.339050  \n",
       "71999  877.833984  \n",
       "\n",
       "[1352 rows x 14 columns]"
      ]
     },
     "execution_count": 15,
     "metadata": {},
     "output_type": "execute_result"
    }
   ],
   "source": [
    "variable ='fw_enth'\n",
    "\n",
    "df[(df[variable] > df[variable].mean()+3*df[variable].std()) | (df[variable] < df[variable].mean()-3*df[variable].std())]"
   ]
  },
  {
   "cell_type": "markdown",
   "id": "8339136c-42ae-45fc-bd16-cae097d8c49d",
   "metadata": {
    "id": "8339136c-42ae-45fc-bd16-cae097d8c49d",
    "tags": []
   },
   "source": [
    "# 2. Import and Preprocess Data\n",
    "- import some helper functions to do imputation and deal with data outliers\n",
    "- use a function to do the data import and cleaning"
   ]
  },
  {
   "cell_type": "code",
   "execution_count": null,
   "id": "870635a6-ee2c-4d40-918d-b756048676af",
   "metadata": {
    "id": "870635a6-ee2c-4d40-918d-b756048676af"
   },
   "outputs": [],
   "source": [
    "def simple_impute(df):\n",
    "    '''\n",
    "    Impute the numerical columns by the median value for each column and\n",
    "    impute the categorical columns by the most frequent, or mode, for each column\n",
    "    Note: one can easily switch in different imputers for each of the data types to something like kNN or iterative\n",
    "    '''\n",
    "    df= df.copy()\n",
    "    # Impute missing values for numerical data\n",
    "    # imp_num = IterativeImputer(estimator=ExtraTreesRegressor(), initial_strategy='median', max_iter=20)\n",
    "    imp_num = SimpleImputer(strategy='median')\n",
    "    numerical_df = df.select_dtypes(\"number\")\n",
    "    numerical_df = pd.DataFrame(data=imp_num.fit_transform(numerical_df), index=df.index, columns =numerical_df.columns)\n",
    "    \n",
    "    if df.select_dtypes(\"category\").shape[1] >0:\n",
    "        # Imput missing values for categorical data\n",
    "        # imp_cat = IterativeImputer(estimator=ExtraTreesClassifier(), initial_strategy='most_frequent', max_iter=20)\n",
    "        imp_cat = SimpleImputer(strategy='most_frequent')\n",
    "        categorical_df = df.select_dtypes(\"category\")\n",
    "        enc = OrdinalEncoder()\n",
    "        categorical_df = pd.DataFrame(data=enc.fit_transform(categorical_df), columns=categorical_df.columns)\n",
    "        categorical_imputations = enc.inverse_transform(imp_cat.fit_transform(categorical_df))\n",
    "        categorical_df = pd.DataFrame(data=categorical_imputations, index=df.index, columns =categorical_df.columns, dtype=\"category\")\n",
    "        return categorical_df.join(numerical_df).reindex(columns= df.columns)\n",
    "    else:\n",
    "        return numerical_df"
   ]
  },
  {
   "cell_type": "code",
   "execution_count": null,
   "id": "e8547868-cf34-4b06-9523-63bfec5b8364",
   "metadata": {
    "id": "e8547868-cf34-4b06-9523-63bfec5b8364"
   },
   "outputs": [],
   "source": [
    "class ML_Impute(TransformerMixin):\n",
    "  '''\n",
    "  Impute missing values by treating the imputational as a machine learning problem. For numerical\n",
    "  columns, we can treat the problem as a regression problem, and for categorical, a classification problem.\n",
    "  For this method, we'll iterate through all of the columns with one column being the target variable\n",
    "  and the others as being predictor variables\n",
    "  '''\n",
    "\n",
    "  def __init__(self, params={}):\n",
    "    self.params = {}\n",
    "    self.models = {}\n",
    "\n",
    "  def fit(self, df):\n",
    "    df = df.copy()\n",
    "    # label encode categorical variables\n",
    "    columns = df.columns.to_list()\n",
    "    cat_cols = df.select_dtypes(\"category\").columns.to_list()\n",
    "    self.enc = OrdinalEncoder()\n",
    "    df[cat_cols] = self.enc.fit_transform(df[cat_cols])\n",
    "    \n",
    "    # Randomized column selection\n",
    "    for i in random.sample(range(len(df.columns)), len(df.columns)):\n",
    "    \n",
    "    # Starting with most null values to least\n",
    "    # for i in np.argsort(-df.isnull().sum().values):\n",
    "        column = columns[i]\n",
    "        # Check to make sure there are null values that need to be imputed\n",
    "        if not df[column].isnull().any():\n",
    "            continue\n",
    "        \n",
    "        print(\"Creating Imputation Model for Column: {}\".format(column))\n",
    "\n",
    "        # Create train, test, and validation data using the null values of the column of interest\n",
    "        X= df.loc[df[column].notnull()]\n",
    "        y = X.pop(column)\n",
    "        X_train, X_valid, y_train, y_valid = train_test_split(X, y, test_size=0.1)\n",
    "        \n",
    "        X_test = df.loc[df[column].isnull()]\n",
    "        _ = X_test.pop(column)\n",
    "        \n",
    "        # If we have more data, we use more estimators for the imputation model\n",
    "        n_estimators = min(100, int(len(X_train) / 10))\n",
    "        if column in cat_cols:\n",
    "            model = LGBMClassifier(**self.params, verbose=-1, n_estimators=n_estimators)\n",
    "        else:\n",
    "            model = LGBMRegressor(**self.params, verbose=-1, n_estimators=n_estimators)\n",
    "        \n",
    "        model.fit(X_train, y_train, eval_set=[(X_valid, y_valid)],\n",
    "                  callbacks = [early_stopping(min(20, int(len(X_train) / 10)))])\n",
    "        print(\"Score of Column {} is {}\".format(column, model.score(X,y)))\n",
    "        self.models[column] = model \n",
    "\n",
    "  def transform(self, df):\n",
    "    df = df.copy()\n",
    "    \n",
    "    # label encode categorical variables\n",
    "    columns = df.columns.to_list()\n",
    "    cat_cols = df.select_dtypes(\"category\").columns.to_list()\n",
    "    df[cat_cols] = self.enc.transform(df[cat_cols])\n",
    "\n",
    "    for column in self.models.keys():\n",
    "      X_test = df.loc[df[column].isnull()]\n",
    "      _ = X_test.pop(column)\n",
    "      model = self.models[column]\n",
    "      preds =model.predict(X_test)\n",
    "      m = df[column].isna()\n",
    "      df.loc[m, column]  = preds.flatten()\n",
    "\n",
    "    if len(cat_cols) >0:\n",
    "      df[cat_cols] = self.enc.inverse_transform(df[cat_cols])\n",
    "\n",
    "    return df\n",
    "\n",
    "  def fit_transform(self, df):\n",
    "    self.fit(df)\n",
    "    df = self.transform(df)\n",
    "    return df\n"
   ]
  },
  {
   "cell_type": "code",
   "execution_count": null,
   "id": "6JZWFbEFB9Lo",
   "metadata": {
    "id": "6JZWFbEFB9Lo"
   },
   "outputs": [],
   "source": [
    "def cap_outliers(df, variables=[None]):\n",
    "  df = df.copy()\n",
    "  for variable in variables:\n",
    "    upper_limit = df[variable].mean() + 3*df[variable].std()\n",
    "    lower_limit = df[variable].mean() - 3*df[variable].std()\n",
    "    df[variable] = np.where(df[variable]> upper_limit, upper_limit, np.where(\n",
    "        df[variable]<lower_limit, lower_limit, df[variable]\n",
    "    ))\n",
    "  return df"
   ]
  },
  {
   "cell_type": "code",
   "execution_count": null,
   "id": "75ef91dd-cda0-4298-b493-0156e091ceb3",
   "metadata": {
    "id": "75ef91dd-cda0-4298-b493-0156e091ceb3"
   },
   "outputs": [],
   "source": [
    "# Wrapper function to read in, encode and impute missing values for the data\n",
    "\n",
    "def preprocess_data(df, cat_features=[None], outlier_features=[None]):\n",
    "    \n",
    "    # Specify categorical variables\n",
    "    if cat_features is not None:\n",
    "        for name in cat_features:\n",
    "            df[name] = df[name].astype(\"category\")\n",
    "            # Add a None category for missing values\n",
    "            if \"None\" not in df[name].cat.categories:\n",
    "                df[name].cat.add_categories(\"None\", inplace=True)\n",
    "\n",
    "    # create test data set\n",
    "    train, test = train_test_split(df, test_size=0.2)\n",
    "\n",
    "    # Preprocessing\n",
    "    imputer = ML_Impute()\n",
    "    train = imputer.fit_transform(train)\n",
    "    train = cap_outliers(train, outlier_features)\n",
    "\n",
    "    test = imputer.transform(test)\n",
    "    test = cap_outliers(test, outlier_features)\n",
    "\n",
    "\n",
    "    return train, test"
   ]
  },
  {
   "cell_type": "code",
   "execution_count": null,
   "id": "be2ee427-5728-4bfe-95ca-7e977fb891be",
   "metadata": {
    "id": "be2ee427-5728-4bfe-95ca-7e977fb891be"
   },
   "outputs": [],
   "source": [
    "#Now, load in and preprocess the data\n",
    "\n",
    "df = pd.read_csv(os.path.join(ROOT_DIR, \"power.csv\"), index_col='id')\n",
    "target_var = \"output_gen\"\n",
    "\n",
    "train, test = load_data(df, cat_features = ['obs_day'], outlier_features=[\"vap_pressure_div\", \"vap_motion\"])"
   ]
  },
  {
   "cell_type": "markdown",
   "id": "2dc8ec75-2575-441f-bf28-5ff9664fc39b",
   "metadata": {
    "id": "2dc8ec75-2575-441f-bf28-5ff9664fc39b"
   },
   "source": [
    "# 3. Create a Baseline\n",
    "- specify a baseline scoring function\n",
    "- create a baseline model. \n",
    "  - For regression use `LGBMRegressor` and `scoring='neg_root_mean_squared_error'` and multiply the result by `-1`\n",
    "  - For classification use `LGBMClassifier` and `scoring='balanced_accuracy'`"
   ]
  },
  {
   "cell_type": "code",
   "execution_count": null,
   "id": "65ecf5d3-860b-456a-b86a-678de670630e",
   "metadata": {
    "id": "65ecf5d3-860b-456a-b86a-678de670630e"
   },
   "outputs": [],
   "source": [
    "def score_dataset(X, y, \n",
    "                  model=LGBMRegressor(n_estimators=1000, verbose=-1, random_state=42)\n",
    "                 ):\n",
    "    \n",
    "    \n",
    "    scores = cross_validate(\n",
    "        model, X, y, cv=5, n_jobs=-1, scoring='neg_root_mean_squared_error', return_train_score=True\n",
    "    )\n",
    "    \n",
    "    return {\"Training\":-1*np.mean(scores[\"train_score\"]), \"Validation\":-1*np.mean(scores[\"test_score\"])}"
   ]
  },
  {
   "cell_type": "code",
   "execution_count": null,
   "id": "fdb0b75e-9d33-4927-9ea8-eb3118f04d34",
   "metadata": {
    "colab": {
     "base_uri": "https://localhost:8080/"
    },
    "id": "fdb0b75e-9d33-4927-9ea8-eb3118f04d34",
    "outputId": "a575ab21-7ab0-4e7e-e921-7002360e4eba"
   },
   "outputs": [
    {
     "data": {
      "text/plain": [
       "{'Training': 0.7159781843253301, 'Validation': 1.0687965707386546}"
      ]
     },
     "execution_count": 63,
     "metadata": {},
     "output_type": "execute_result"
    }
   ],
   "source": [
    "X = train.copy()\n",
    "y = X.pop(target_var)\n",
    "X = ce.OrdinalEncoder().fit_transform(X)\n",
    "\n",
    "score_dataset(X, y)"
   ]
  },
  {
   "cell_type": "markdown",
   "id": "e295babf-8d18-443b-abb7-fea6222be667",
   "metadata": {
    "id": "e295babf-8d18-443b-abb7-fea6222be667",
    "tags": []
   },
   "source": [
    "# 4. Featurize the Data\n",
    "- remove uniformative features\n",
    "- create interactions\n",
    "- Binning\n",
    "- Indicate Outliers\n",
    "- Try different encodings for categorical variables"
   ]
  },
  {
   "cell_type": "code",
   "execution_count": null,
   "id": "37e9fb69-5bf6-4a1a-aed2-d6208c584516",
   "metadata": {
    "id": "37e9fb69-5bf6-4a1a-aed2-d6208c584516"
   },
   "outputs": [],
   "source": [
    "def make_mi_scores(X, y):\n",
    "    X = X.copy()\n",
    "    for colname in X.select_dtypes([\"object\", \"category\"]):\n",
    "        X[colname], _ = X[colname].factorize()\n",
    "    # All discrete features should now have integer dtypes\n",
    "    discrete_features = [pd.api.types.is_integer_dtype(t) for t in X.dtypes]\n",
    "    mi_scores = mutual_info_regression(X, y, discrete_features=discrete_features, random_state=0)\n",
    "    mi_scores = pd.Series(mi_scores, name=\"MI Scores\", index=X.columns)\n",
    "    mi_scores = mi_scores.sort_values(ascending=False)\n",
    "    return mi_scores"
   ]
  },
  {
   "cell_type": "code",
   "execution_count": null,
   "id": "_bErwNVFH_a5",
   "metadata": {
    "colab": {
     "base_uri": "https://localhost:8080/"
    },
    "id": "_bErwNVFH_a5",
    "outputId": "8995ddb8-0818-44d5-e4ee-b61db823fc72"
   },
   "outputs": [
    {
     "data": {
      "text/plain": [
       "vap_motion          3.018910\n",
       "fw_enth             3.016559\n",
       "vap_pressure_div    2.913655\n",
       "fw_motion           2.894116\n",
       "vap_pressure        2.860464\n",
       "C_motion            2.397755\n",
       "obs_hour            1.833721\n",
       "vap_enth            1.612159\n",
       "vap_temp            1.494131\n",
       "faucet_hole         1.100363\n",
       "obs_minute          0.965087\n",
       "obs_day             0.349029\n",
       "Name: MI Scores, dtype: float64"
      ]
     },
     "execution_count": 66,
     "metadata": {},
     "output_type": "execute_result"
    }
   ],
   "source": [
    "X = train.copy()\n",
    "y = X.pop(target_var)\n",
    "mi_scores = make_mi_scores(X, y)\n",
    "mi_scores"
   ]
  },
  {
   "cell_type": "code",
   "execution_count": null,
   "id": "9af24a6b-0233-42b1-953e-e142b5cf8a6c",
   "metadata": {
    "colab": {
     "base_uri": "https://localhost:8080/"
    },
    "id": "9af24a6b-0233-42b1-953e-e142b5cf8a6c",
    "outputId": "548cdb0f-1d1f-4c9f-dd0e-eec7fad16cb0"
   },
   "outputs": [
    {
     "name": "stdout",
     "output_type": "stream",
     "text": [
      "Warning: No categorical columns found. Calling 'transform' will only return input data.\n"
     ]
    },
    {
     "data": {
      "text/plain": [
       "{'Training': 0.7474270564663286, 'Validation': 1.0974400597306795}"
      ]
     },
     "execution_count": 68,
     "metadata": {},
     "output_type": "execute_result"
    }
   ],
   "source": [
    "# Try removing some of the uninformative features to see if that improves scores\n",
    "uninformative_features = [\n",
    "    'obs_minute',\n",
    "    'obs_day'\n",
    "]\n",
    "\n",
    "X = train.copy()\n",
    "y = X.pop(target_var)\n",
    "X = X.loc[:,~X.columns.isin(uninformative_features)]\n",
    "X = ce.OrdinalEncoder().fit_transform(X)\n",
    "\n",
    "score_dataset(X, y)"
   ]
  },
  {
   "cell_type": "markdown",
   "id": "EPCRuCtzJ7uS",
   "metadata": {
    "id": "EPCRuCtzJ7uS"
   },
   "source": [
    "For mathematical transforms, try things like log transforms:\n",
    "\n",
    "`X['feature'] = np.log1p(X['feature'])`\n",
    "\n",
    "For interations try multiplying or dividing features, especially between levels\n",
    "of a categorical feature and a continuous feature. Use subject matter expertise here\n",
    "\n",
    "`df_new['A_B_interation'] = ce.OneHotEncoder().fit_transform(X['A']) * X['B']`"
   ]
  },
  {
   "cell_type": "code",
   "execution_count": null,
   "id": "QaC0WBgFJ5Nf",
   "metadata": {
    "id": "QaC0WBgFJ5Nf"
   },
   "outputs": [],
   "source": [
    "def mathematical_transforms(df):\n",
    "    X = pd.DataFrame(index=df.index)\n",
    "\n",
    "    return X\n",
    "\n",
    "def interactions(df):\n",
    "    X = pd.DataFrame(index=df.index)\n",
    "\n",
    "    return X"
   ]
  },
  {
   "cell_type": "code",
   "execution_count": null,
   "id": "vl6bFWROKs-3",
   "metadata": {
    "colab": {
     "base_uri": "https://localhost:8080/"
    },
    "id": "vl6bFWROKs-3",
    "outputId": "731eaade-ec31-4947-b057-68f162bdc028"
   },
   "outputs": [
    {
     "data": {
      "text/plain": [
       "{'Training': 0.7159781843253301, 'Validation': 1.0687965707386546}"
      ]
     },
     "execution_count": 76,
     "metadata": {},
     "output_type": "execute_result"
    }
   ],
   "source": [
    "X = train.copy()\n",
    "y = X.pop(target_var)\n",
    "#X = X.join(mathematical_transforms(X))\n",
    "#X = X.join(interactions(X))\n",
    "X = ce.OrdinalEncoder().fit_transform(X)\n",
    "\n",
    "score_dataset(X, y)"
   ]
  },
  {
   "cell_type": "markdown",
   "id": "Ipv16eN3K5j0",
   "metadata": {
    "id": "Ipv16eN3K5j0"
   },
   "source": [
    "Notes:"
   ]
  },
  {
   "cell_type": "code",
   "execution_count": null,
   "id": "C_S9gZfYIiZ4",
   "metadata": {
    "id": "C_S9gZfYIiZ4"
   },
   "outputs": [],
   "source": [
    "def cluster_labels(df, features, n_clusters=10):\n",
    "    X = df.copy()\n",
    "    X_scaled = X.loc[:, features]\n",
    "    X_scaled = ce.OneHotEncoder().fit_transform(X_scaled)\n",
    "    X_scaled = (X_scaled - X_scaled.mean(axis=0)) / (X_scaled.std(axis=0)+0.000001)\n",
    "    kmeans = KMeans(n_clusters=n_clusters, n_init=50)\n",
    "    X_new = pd.DataFrame(index=X.index)\n",
    "    X_new[\"Cluster\"] = kmeans.fit_predict(X_scaled)\n",
    "    X_new[\"Cluster\"] = X_new[\"Cluster\"].astype(\"category\")\n",
    "    return X_new[\"Cluster\"]\n",
    "\n",
    "\n",
    "def cluster_distance(df, features, n_clusters=10):\n",
    "    X = df.copy()\n",
    "    X_scaled = X.loc[:, features]\n",
    "    X_scaled = ce.OneHotEncoder().fit_transform(X_scaled)\n",
    "    X_scaled = (X_scaled - X_scaled.mean(axis=0)) / (X_scaled.std(axis=0)+0.000001)\n",
    "    kmeans = KMeans(n_clusters=n_clusters, n_init=50)\n",
    "    X_cd = kmeans.fit_transform(X_scaled)\n",
    "    # Label features and join to dataset\n",
    "    X_cd = pd.DataFrame(\n",
    "        X_cd, columns=[f\"Centroid_{i}\" for i in range(X_cd.shape[1])], index=X.index\n",
    "    )\n",
    "    return X_cd"
   ]
  },
  {
   "cell_type": "code",
   "execution_count": null,
   "id": "1xBut4HcIqCM",
   "metadata": {
    "id": "1xBut4HcIqCM"
   },
   "outputs": [],
   "source": [
    "vape = [\n",
    "    'vap_pressure', 'vap_enth', 'vap_motion', 'vap_temp'\n",
    "]"
   ]
  },
  {
   "cell_type": "code",
   "execution_count": null,
   "id": "wRTQdmVcIqjG",
   "metadata": {
    "colab": {
     "base_uri": "https://localhost:8080/"
    },
    "id": "wRTQdmVcIqjG",
    "outputId": "fc38ca1b-2d3f-470b-9ba2-3256b5350f32"
   },
   "outputs": [
    {
     "name": "stdout",
     "output_type": "stream",
     "text": [
      "Warning: No categorical columns found. Calling 'transform' will only return input data.\n"
     ]
    }
   ],
   "source": [
    "X = train.copy()\n",
    "y = X.pop(target_var)\n",
    "X = X.join(cluster_distance(X, vape, n_clusters=10))\n",
    "X = ce.OrdinalEncoder().fit_transform(X)\n",
    "\n",
    "score_dataset(X, y)"
   ]
  },
  {
   "cell_type": "code",
   "execution_count": null,
   "id": "jTiUmSfUJKvB",
   "metadata": {
    "colab": {
     "base_uri": "https://localhost:8080/"
    },
    "id": "jTiUmSfUJKvB",
    "outputId": "7fa558bd-6e23-4cc2-c355-b034d5522543"
   },
   "outputs": [
    {
     "name": "stdout",
     "output_type": "stream",
     "text": [
      "Warning: No categorical columns found. Calling 'transform' will only return input data.\n"
     ]
    }
   ],
   "source": [
    "X = train.copy()\n",
    "y = X.pop(target_var)\n",
    "X = X.join(cluster_labels(X, vape, n_clusters=10))\n",
    "X = ce.OrdinalEncoder().fit_transform(X)\n",
    "\n",
    "score_dataset(X, y)"
   ]
  },
  {
   "cell_type": "markdown",
   "id": "l6jPeNQpLIPO",
   "metadata": {
    "id": "l6jPeNQpLIPO"
   },
   "source": [
    "Notes:"
   ]
  },
  {
   "cell_type": "code",
   "execution_count": null,
   "id": "uJPD5PVzLJpX",
   "metadata": {
    "id": "uJPD5PVzLJpX"
   },
   "outputs": [],
   "source": [
    "def flag_outliers(df):\n",
    "  df = df.copy()\n",
    "  df = ce.OneHotEncoder().fit_transform(df)\n",
    "  clf = LocalOutlierFactor()\n",
    "  df[\"Outlier\"] = clf.fit_predict(df)\n",
    "  return df[\"Outlier\"]"
   ]
  },
  {
   "cell_type": "code",
   "execution_count": null,
   "id": "yorht94RM1X9",
   "metadata": {
    "colab": {
     "base_uri": "https://localhost:8080/"
    },
    "id": "yorht94RM1X9",
    "outputId": "d7d6b3bc-f8f6-4761-84cc-50221d5ea01c"
   },
   "outputs": [
    {
     "data": {
      "text/plain": [
       "{'Training': 0.712844519297834, 'Validation': 1.068740063638274}"
      ]
     },
     "execution_count": 87,
     "metadata": {},
     "output_type": "execute_result"
    }
   ],
   "source": [
    "X = train.copy()\n",
    "y = X.pop(target_var)\n",
    "X = X.join(flag_outliers(X))\n",
    "X = ce.OrdinalEncoder().fit_transform(X)\n",
    "\n",
    "score_dataset(X, y)"
   ]
  },
  {
   "cell_type": "markdown",
   "id": "JdR7Quw_NRF9",
   "metadata": {
    "id": "JdR7Quw_NRF9"
   },
   "source": [
    "Notes:"
   ]
  },
  {
   "cell_type": "markdown",
   "id": "78600898-c660-4b0f-99a9-39b7a773ad5e",
   "metadata": {
    "id": "78600898-c660-4b0f-99a9-39b7a773ad5e"
   },
   "source": [
    "# 5. Finalize Features for Final Model"
   ]
  },
  {
   "cell_type": "code",
   "execution_count": null,
   "id": "6adc8836-a8ea-4cfa-96f1-0ea73e59328d",
   "metadata": {
    "id": "6adc8836-a8ea-4cfa-96f1-0ea73e59328d"
   },
   "outputs": [],
   "source": [
    "def create_features(df, df_test=None):\n",
    "    X = df.copy()\n",
    "    \n",
    "    if df_test is not None:\n",
    "        X_test = df_test.copy()\n",
    "        X = pd.concat([X, X_test])\n",
    "        \n",
    "    # Add in engineered features\n",
    "    X = X.join(flag_outliers(X))\n",
    "    X = ce.OrdinalEncoder().fit_transform(X)\n",
    "\n",
    "    \n",
    "    # Reform splits\n",
    "    if df_test is not None:\n",
    "        X_test = X.loc[df_test.index, :]\n",
    "        X.drop(df_test.index, inplace=True)\n",
    "    \n",
    "\n",
    "    if df_test is not None:\n",
    "        return X, X_test\n",
    "    else:\n",
    "        return X"
   ]
  },
  {
   "cell_type": "code",
   "execution_count": null,
   "id": "575e5ae4-2ba8-4a7f-bd39-e580e5a1df76",
   "metadata": {
    "id": "575e5ae4-2ba8-4a7f-bd39-e580e5a1df76"
   },
   "outputs": [],
   "source": [
    "X = train.copy()\n",
    "X_test = test.copy()\n",
    "y = X.pop(target_var)\n",
    "y_test = X_test.pop(target_var)\n",
    "\n",
    "X, X_test = create_features(train, test)"
   ]
  },
  {
   "cell_type": "code",
   "execution_count": null,
   "id": "48e923da-06ff-4996-ace2-e2d034ba2cef",
   "metadata": {
    "colab": {
     "base_uri": "https://localhost:8080/"
    },
    "id": "48e923da-06ff-4996-ace2-e2d034ba2cef",
    "outputId": "47c66f3c-565f-41e5-8196-ee5e9551a555"
   },
   "outputs": [
    {
     "data": {
      "text/plain": [
       "{'Training': 0.30368537758738307, 'Validation': 0.5467700949212131}"
      ]
     },
     "execution_count": 95,
     "metadata": {},
     "output_type": "execute_result"
    }
   ],
   "source": [
    "score_dataset(X, y)"
   ]
  },
  {
   "cell_type": "markdown",
   "id": "f418a52e-5c10-48a9-a658-e17f1d586255",
   "metadata": {
    "id": "f418a52e-5c10-48a9-a658-e17f1d586255"
   },
   "source": [
    "# 6. Hyperparameter Tuning\n",
    "- you need to specify the objective (i.e. `'regression'`, `'multiclass'` with '`num_class`', etc.) "
   ]
  },
  {
   "cell_type": "code",
   "execution_count": null,
   "id": "d85c9cfc-ad6e-452e-87a5-630404590170",
   "metadata": {
    "id": "d85c9cfc-ad6e-452e-87a5-630404590170"
   },
   "outputs": [],
   "source": [
    "def objective(trial, X, y):\n",
    "    # Specify a search space using distributions across plausible values of hyperparameters.\n",
    "    param = {\n",
    "        \"objective\": \"regression\",\n",
    "        \"verbosity\": -1,              \n",
    "        'lambda_l1': trial.suggest_loguniform('lambda_l1', 1e-8, 10.0),\n",
    "        'lambda_l2': trial.suggest_loguniform('lambda_l2', 1e-8, 10.0),\n",
    "        'num_leaves': trial.suggest_int('num_leaves', 2, 512),\n",
    "        'feature_fraction': trial.suggest_uniform('feature_fraction', 0.1, 1.0),\n",
    "        'bagging_fraction': trial.suggest_uniform('bagging_fraction', 0.1, 1.0),\n",
    "        'bagging_freq': trial.suggest_int('bagging_freq', 0, 15),\n",
    "        'min_child_samples': trial.suggest_int('min_child_samples', 1, 100),\n",
    "    }\n",
    "    \n",
    "    # Run LightGBM for the hyperparameter values\n",
    "    lgbcv = lgb.cv(param,\n",
    "                   lgb.Dataset(X, label=y),\n",
    "                   folds= KFold(n_splits=5, shuffle=True),\n",
    "                   verbose_eval=False,                   \n",
    "                   early_stopping_rounds=10,                   \n",
    "                   num_boost_round=100\n",
    "                  )\n",
    "    \n",
    "    cv_score = lgbcv['l2-mean'][-1]\n",
    "    \n",
    "    # Return metric of interest\n",
    "    return cv_score"
   ]
  },
  {
   "cell_type": "code",
   "execution_count": null,
   "id": "2cfb70ba-c8b4-4a7f-97fe-2f8d6c3989c3",
   "metadata": {
    "colab": {
     "base_uri": "https://localhost:8080/"
    },
    "id": "2cfb70ba-c8b4-4a7f-97fe-2f8d6c3989c3",
    "outputId": "b230a3cf-cb26-46ff-e674-ab4045eabaa2",
    "scrolled": true,
    "tags": []
   },
   "outputs": [
    {
     "name": "stderr",
     "output_type": "stream",
     "text": [
      "/usr/local/lib/python3.7/dist-packages/ipykernel_launcher.py:6: FutureWarning: suggest_loguniform has been deprecated in v3.0.0. This feature will be removed in v6.0.0. See https://github.com/optuna/optuna/releases/tag/v3.0.0. Use :func:`~optuna.trial.Trial.suggest_float` instead.\n",
      "  \n",
      "/usr/local/lib/python3.7/dist-packages/ipykernel_launcher.py:7: FutureWarning: suggest_loguniform has been deprecated in v3.0.0. This feature will be removed in v6.0.0. See https://github.com/optuna/optuna/releases/tag/v3.0.0. Use :func:`~optuna.trial.Trial.suggest_float` instead.\n",
      "  import sys\n",
      "/usr/local/lib/python3.7/dist-packages/ipykernel_launcher.py:9: FutureWarning: suggest_uniform has been deprecated in v3.0.0. This feature will be removed in v6.0.0. See https://github.com/optuna/optuna/releases/tag/v3.0.0. Use :func:`~optuna.trial.Trial.suggest_float` instead.\n",
      "  if __name__ == '__main__':\n",
      "/usr/local/lib/python3.7/dist-packages/ipykernel_launcher.py:10: FutureWarning: suggest_uniform has been deprecated in v3.0.0. This feature will be removed in v6.0.0. See https://github.com/optuna/optuna/releases/tag/v3.0.0. Use :func:`~optuna.trial.Trial.suggest_float` instead.\n",
      "  # Remove the CWD from sys.path while we load stuff.\n"
     ]
    }
   ],
   "source": [
    "optuna.logging.set_verbosity(optuna.logging.WARNING) \n",
    "study = optuna.create_study(direction='minimize')\n",
    "study.optimize(lambda trial: objective(trial, X, y), timeout=300, n_trials=5) "
   ]
  },
  {
   "cell_type": "code",
   "execution_count": null,
   "id": "865f4d54-39d8-4cbe-8b83-90600413a2e3",
   "metadata": {
    "id": "865f4d54-39d8-4cbe-8b83-90600413a2e3"
   },
   "outputs": [],
   "source": [
    "optuna.visualization.plot_optimization_history(study)"
   ]
  },
  {
   "cell_type": "code",
   "execution_count": null,
   "id": "9ba1849e-46ba-4666-9cad-a76fb239622d",
   "metadata": {
    "colab": {
     "base_uri": "https://localhost:8080/"
    },
    "id": "9ba1849e-46ba-4666-9cad-a76fb239622d",
    "outputId": "771621b7-b885-4977-83d1-5f56efde395e"
   },
   "outputs": [
    {
     "name": "stdout",
     "output_type": "stream",
     "text": [
      "{'lambda_l1': 5.390038672183816e-06, 'lambda_l2': 0.07446235059068343, 'num_leaves': 170, 'feature_fraction': 0.7011501923001645, 'bagging_fraction': 0.3193119439092119, 'bagging_freq': 6, 'min_child_samples': 57}\n"
     ]
    }
   ],
   "source": [
    "print(study.best_params)"
   ]
  },
  {
   "cell_type": "code",
   "execution_count": null,
   "id": "3de91670-0e83-4b19-af9f-8f9d9c5ae6f3",
   "metadata": {
    "colab": {
     "base_uri": "https://localhost:8080/"
    },
    "id": "3de91670-0e83-4b19-af9f-8f9d9c5ae6f3",
    "outputId": "50d8e835-d10e-481a-aede-42a651974cf8"
   },
   "outputs": [
    {
     "name": "stdout",
     "output_type": "stream",
     "text": [
      "0.7896119175885383\n"
     ]
    }
   ],
   "source": [
    "print(study.best_value**0.5)"
   ]
  },
  {
   "cell_type": "markdown",
   "id": "9f1512f9-1d87-450e-a379-f8c6abe291f4",
   "metadata": {
    "id": "9f1512f9-1d87-450e-a379-f8c6abe291f4"
   },
   "source": [
    "# 7. Fit final model and check predictions\n",
    "- you need to specify the objective (i.e. `'regression'`, `'multiclass'` with '`num_class`', etc.) "
   ]
  },
  {
   "cell_type": "code",
   "execution_count": null,
   "id": "9f8a30b2-de9d-44e0-baee-7154b28ee6e5",
   "metadata": {
    "id": "9f8a30b2-de9d-44e0-baee-7154b28ee6e5",
    "scrolled": true,
    "tags": []
   },
   "outputs": [],
   "source": [
    "preds = []\n",
    "skf = RepeatedKFold(n_splits=3, n_repeats=2)\n",
    "\n",
    "for fold_idx, (train_index, valid_index) in enumerate(skf.split(X, y)):\n",
    "    X_train, X_valid = X.iloc[train_index], X.iloc[valid_index]\n",
    "    y_train, y_valid = y.iloc[train_index], y.iloc[valid_index]\n",
    "\n",
    "    lgb_train = lgb.Dataset(X_train, y_train)\n",
    "    lgb_eval = lgb.Dataset(X_valid, y_valid, reference=lgb_train)\n",
    "    lgb_params = {\n",
    "        'objective': 'regression',\n",
    "        'verbose': -1,\n",
    "        'n_estimators': 100,\n",
    "        **study.best_params\n",
    "    }\n",
    "    model = lgb.train(lgb_params, lgb_train, valid_sets=lgb_eval, callbacks=[lgb.early_stopping(10)])\n",
    "\n",
    "    y_pred = model.predict(X_valid)\n",
    "    score = mean_squared_error(y_valid, y_pred, squared=False)\n",
    "    print(\"Fold {} MSE Score: {}\".format(fold_idx, score))\n",
    "    print(\"----------------------\")\n",
    "    preds.append( model.predict(X_test))"
   ]
  },
  {
   "cell_type": "code",
   "execution_count": null,
   "id": "09bbcd7d-340f-45d0-8478-b220f65e97f1",
   "metadata": {
    "id": "09bbcd7d-340f-45d0-8478-b220f65e97f1"
   },
   "outputs": [],
   "source": [
    "# Use average for ensembling of the labels\n",
    "\n",
    "final_preds = np.mean(preds, axis=0)"
   ]
  },
  {
   "cell_type": "code",
   "execution_count": null,
   "id": "30a7dbd3-c6d8-45d4-a943-f3125b57212e",
   "metadata": {
    "id": "30a7dbd3-c6d8-45d4-a943-f3125b57212e"
   },
   "outputs": [],
   "source": [
    "fig, axs = plt.subplots(1, 2, sharey=True, figsize=(16,8))\n",
    "sns.distplot(y_test, ax=axs[0])\n",
    "axs[0].set_title(\"Distribution of Test Target Variable\")\n",
    "sns.distplot(final_preds , ax=axs[1])\n",
    "axs[1].set_title(\"Distribution of Predicted Target Variable\")"
   ]
  },
  {
   "cell_type": "code",
   "execution_count": null,
   "id": "66c9e33d-1eca-4c9a-b6c0-42a79a5a8ccf",
   "metadata": {
    "colab": {
     "base_uri": "https://localhost:8080/"
    },
    "id": "66c9e33d-1eca-4c9a-b6c0-42a79a5a8ccf",
    "outputId": "88745769-e8af-49a1-a3c1-c388e2bbd9f0"
   },
   "outputs": [
    {
     "name": "stdout",
     "output_type": "stream",
     "text": [
      "Test Accuracy: 1.7575762131641304\n"
     ]
    }
   ],
   "source": [
    "print(\"Test Accuracy: {}\".format(mean_squared_error(y_test, final_preds, squared=False)))"
   ]
  },
  {
   "cell_type": "code",
   "execution_count": null,
   "id": "yjDNx8pIQyJf",
   "metadata": {
    "id": "yjDNx8pIQyJf"
   },
   "outputs": [],
   "source": []
  }
 ],
 "metadata": {
  "colab": {
   "provenance": []
  },
  "kernelspec": {
   "display_name": "Python 3 (ipykernel)",
   "language": "python",
   "name": "python3"
  },
  "language_info": {
   "codemirror_mode": {
    "name": "ipython",
    "version": 3
   },
   "file_extension": ".py",
   "mimetype": "text/x-python",
   "name": "python",
   "nbconvert_exporter": "python",
   "pygments_lexer": "ipython3",
   "version": "3.10.8"
  }
 },
 "nbformat": 4,
 "nbformat_minor": 5
}
