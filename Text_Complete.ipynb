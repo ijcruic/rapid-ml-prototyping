{
 "cells": [
  {
   "cell_type": "code",
   "execution_count": null,
   "id": "bLq4ukOSRRNP",
   "metadata": {
    "colab": {
     "base_uri": "https://localhost:8080/"
    },
    "id": "bLq4ukOSRRNP",
    "outputId": "f21da859-c07c-4961-cfe3-ff0a0dfdfc22"
   },
   "outputs": [],
   "source": [
    "! pip install textstat transformers category_encoders"
   ]
  },
  {
   "cell_type": "code",
   "execution_count": 6,
   "id": "1781b328-1959-4806-8767-9e5fc062bca3",
   "metadata": {
    "colab": {
     "base_uri": "https://localhost:8080/"
    },
    "id": "1781b328-1959-4806-8767-9e5fc062bca3",
    "outputId": "4bfc15e5-2013-470f-dc29-357bb3d0c8c4"
   },
   "outputs": [
    {
     "name": "stderr",
     "output_type": "stream",
     "text": [
      "[nltk_data] Downloading package stopwords to /home/jovyan/nltk_data...\n",
      "[nltk_data]   Unzipping corpora/stopwords.zip.\n"
     ]
    }
   ],
   "source": [
    "import os, random, textstat, spacy, re, string, itertools\n",
    "from collections import defaultdict, Counter\n",
    "import numpy as np\n",
    "import pandas as pd\n",
    "from pandas.api.types import CategoricalDtype\n",
    "from tqdm.notebook import tqdm\n",
    "\n",
    "from transformers import AutoTokenizer, AutoModelForSequenceClassification, Trainer, TrainingArguments, pipeline\n",
    "from sklearn.model_selection import train_test_split\n",
    "import torch\n",
    "import torch.nn as nn\n",
    "from torch.utils.data import Dataset\n",
    "\n",
    "from sklearn.feature_extraction.text import CountVectorizer\n",
    "import nltk\n",
    "nltk.download('stopwords')\n",
    "from nltk.corpus import stopwords\n",
    "import category_encoders as ce\n",
    "\n",
    "import seaborn as sns\n",
    "import matplotlib.pyplot as plt\n",
    "plt.style.use(\"seaborn-whitegrid\")\n",
    "plt.rc(\"figure\", autolayout=True)\n",
    "plt.rc(\n",
    "    \"axes\",\n",
    "    labelweight=\"bold\",\n",
    "    labelsize=\"large\",\n",
    "    titleweight=\"bold\",\n",
    "    titlesize=14,\n",
    "    titlepad=10,\n",
    ")"
   ]
  },
  {
   "cell_type": "code",
   "execution_count": 3,
   "id": "2DfYSustRE8h",
   "metadata": {
    "colab": {
     "base_uri": "https://localhost:8080/"
    },
    "id": "2DfYSustRE8h",
    "outputId": "55dba378-8141-4836-d9e6-ac434997e060"
   },
   "outputs": [
    {
     "name": "stdout",
     "output_type": "stream",
     "text": [
      "Downloading...\n",
      "From: https://drive.google.com/uc?id=1o_QH7OB56BBgPFFJLYMBzkbAwKeNj9XC\n",
      "To: /content/text.csv\n",
      "100% 9.29M/9.29M [00:00<00:00, 150MB/s]\n"
     ]
    }
   ],
   "source": [
    "! gdown \"1o_QH7OB56BBgPFFJLYMBzkbAwKeNj9XC\""
   ]
  },
  {
   "cell_type": "code",
   "execution_count": 4,
   "id": "f7b22841-7486-4f72-b9f9-065eca28c4ee",
   "metadata": {
    "id": "f7b22841-7486-4f72-b9f9-065eca28c4ee"
   },
   "outputs": [],
   "source": [
    "'''Set dataset directory'''\n",
    "ROOT_DIR = \"/content\""
   ]
  },
  {
   "cell_type": "markdown",
   "id": "cc6ac1bd-f049-4dec-a682-c915a594487e",
   "metadata": {
    "id": "cc6ac1bd-f049-4dec-a682-c915a594487e"
   },
   "source": [
    "# 1. Exploratory Data Analysis"
   ]
  },
  {
   "cell_type": "markdown",
   "id": "212097fb-20c1-425a-860f-3b3d9de58a45",
   "metadata": {
    "id": "212097fb-20c1-425a-860f-3b3d9de58a45"
   },
   "source": [
    "## 1(a) Profile the dataset"
   ]
  },
  {
   "cell_type": "code",
   "execution_count": 5,
   "id": "9e52094a-a275-4578-b7a6-23c29ef67e70",
   "metadata": {
    "colab": {
     "base_uri": "https://localhost:8080/",
     "height": 337
    },
    "id": "9e52094a-a275-4578-b7a6-23c29ef67e70",
    "outputId": "43cf7bde-fe02-494b-9fa0-ca9dc0edf967"
   },
   "outputs": [
    {
     "data": {
      "text/html": [
       "\n",
       "  <div id=\"df-195f2328-14cb-454c-b8da-f21a55725ef4\">\n",
       "    <div class=\"colab-df-container\">\n",
       "      <div>\n",
       "<style scoped>\n",
       "    .dataframe tbody tr th:only-of-type {\n",
       "        vertical-align: middle;\n",
       "    }\n",
       "\n",
       "    .dataframe tbody tr th {\n",
       "        vertical-align: top;\n",
       "    }\n",
       "\n",
       "    .dataframe thead th {\n",
       "        text-align: right;\n",
       "    }\n",
       "</style>\n",
       "<table border=\"1\" class=\"dataframe\">\n",
       "  <thead>\n",
       "    <tr style=\"text-align: right;\">\n",
       "      <th></th>\n",
       "      <th>text_id</th>\n",
       "      <th>full_text</th>\n",
       "      <th>cohesion</th>\n",
       "      <th>syntax</th>\n",
       "      <th>vocabulary</th>\n",
       "      <th>phraseology</th>\n",
       "      <th>grammar</th>\n",
       "      <th>conventions</th>\n",
       "    </tr>\n",
       "  </thead>\n",
       "  <tbody>\n",
       "    <tr>\n",
       "      <th>0</th>\n",
       "      <td>0016926B079C</td>\n",
       "      <td>I think that students would benefit from learn...</td>\n",
       "      <td>3.5</td>\n",
       "      <td>3.5</td>\n",
       "      <td>3.0</td>\n",
       "      <td>3.0</td>\n",
       "      <td>4.0</td>\n",
       "      <td>3.0</td>\n",
       "    </tr>\n",
       "    <tr>\n",
       "      <th>1</th>\n",
       "      <td>0022683E9EA5</td>\n",
       "      <td>When a problem is a change you have to let it ...</td>\n",
       "      <td>2.5</td>\n",
       "      <td>2.5</td>\n",
       "      <td>3.0</td>\n",
       "      <td>2.0</td>\n",
       "      <td>2.0</td>\n",
       "      <td>2.5</td>\n",
       "    </tr>\n",
       "    <tr>\n",
       "      <th>2</th>\n",
       "      <td>00299B378633</td>\n",
       "      <td>Dear, Principal\\n\\nIf u change the school poli...</td>\n",
       "      <td>3.0</td>\n",
       "      <td>3.5</td>\n",
       "      <td>3.0</td>\n",
       "      <td>3.0</td>\n",
       "      <td>3.0</td>\n",
       "      <td>2.5</td>\n",
       "    </tr>\n",
       "    <tr>\n",
       "      <th>3</th>\n",
       "      <td>003885A45F42</td>\n",
       "      <td>The best time in life is when you become yours...</td>\n",
       "      <td>4.5</td>\n",
       "      <td>4.5</td>\n",
       "      <td>4.5</td>\n",
       "      <td>4.5</td>\n",
       "      <td>4.0</td>\n",
       "      <td>5.0</td>\n",
       "    </tr>\n",
       "    <tr>\n",
       "      <th>4</th>\n",
       "      <td>0049B1DF5CCC</td>\n",
       "      <td>Small act of kindness can impact in other peop...</td>\n",
       "      <td>2.5</td>\n",
       "      <td>3.0</td>\n",
       "      <td>3.0</td>\n",
       "      <td>3.0</td>\n",
       "      <td>2.5</td>\n",
       "      <td>2.5</td>\n",
       "    </tr>\n",
       "  </tbody>\n",
       "</table>\n",
       "</div>\n",
       "      <button class=\"colab-df-convert\" onclick=\"convertToInteractive('df-195f2328-14cb-454c-b8da-f21a55725ef4')\"\n",
       "              title=\"Convert this dataframe to an interactive table.\"\n",
       "              style=\"display:none;\">\n",
       "        \n",
       "  <svg xmlns=\"http://www.w3.org/2000/svg\" height=\"24px\"viewBox=\"0 0 24 24\"\n",
       "       width=\"24px\">\n",
       "    <path d=\"M0 0h24v24H0V0z\" fill=\"none\"/>\n",
       "    <path d=\"M18.56 5.44l.94 2.06.94-2.06 2.06-.94-2.06-.94-.94-2.06-.94 2.06-2.06.94zm-11 1L8.5 8.5l.94-2.06 2.06-.94-2.06-.94L8.5 2.5l-.94 2.06-2.06.94zm10 10l.94 2.06.94-2.06 2.06-.94-2.06-.94-.94-2.06-.94 2.06-2.06.94z\"/><path d=\"M17.41 7.96l-1.37-1.37c-.4-.4-.92-.59-1.43-.59-.52 0-1.04.2-1.43.59L10.3 9.45l-7.72 7.72c-.78.78-.78 2.05 0 2.83L4 21.41c.39.39.9.59 1.41.59.51 0 1.02-.2 1.41-.59l7.78-7.78 2.81-2.81c.8-.78.8-2.07 0-2.86zM5.41 20L4 18.59l7.72-7.72 1.47 1.35L5.41 20z\"/>\n",
       "  </svg>\n",
       "      </button>\n",
       "      \n",
       "  <style>\n",
       "    .colab-df-container {\n",
       "      display:flex;\n",
       "      flex-wrap:wrap;\n",
       "      gap: 12px;\n",
       "    }\n",
       "\n",
       "    .colab-df-convert {\n",
       "      background-color: #E8F0FE;\n",
       "      border: none;\n",
       "      border-radius: 50%;\n",
       "      cursor: pointer;\n",
       "      display: none;\n",
       "      fill: #1967D2;\n",
       "      height: 32px;\n",
       "      padding: 0 0 0 0;\n",
       "      width: 32px;\n",
       "    }\n",
       "\n",
       "    .colab-df-convert:hover {\n",
       "      background-color: #E2EBFA;\n",
       "      box-shadow: 0px 1px 2px rgba(60, 64, 67, 0.3), 0px 1px 3px 1px rgba(60, 64, 67, 0.15);\n",
       "      fill: #174EA6;\n",
       "    }\n",
       "\n",
       "    [theme=dark] .colab-df-convert {\n",
       "      background-color: #3B4455;\n",
       "      fill: #D2E3FC;\n",
       "    }\n",
       "\n",
       "    [theme=dark] .colab-df-convert:hover {\n",
       "      background-color: #434B5C;\n",
       "      box-shadow: 0px 1px 3px 1px rgba(0, 0, 0, 0.15);\n",
       "      filter: drop-shadow(0px 1px 2px rgba(0, 0, 0, 0.3));\n",
       "      fill: #FFFFFF;\n",
       "    }\n",
       "  </style>\n",
       "\n",
       "      <script>\n",
       "        const buttonEl =\n",
       "          document.querySelector('#df-195f2328-14cb-454c-b8da-f21a55725ef4 button.colab-df-convert');\n",
       "        buttonEl.style.display =\n",
       "          google.colab.kernel.accessAllowed ? 'block' : 'none';\n",
       "\n",
       "        async function convertToInteractive(key) {\n",
       "          const element = document.querySelector('#df-195f2328-14cb-454c-b8da-f21a55725ef4');\n",
       "          const dataTable =\n",
       "            await google.colab.kernel.invokeFunction('convertToInteractive',\n",
       "                                                     [key], {});\n",
       "          if (!dataTable) return;\n",
       "\n",
       "          const docLinkHtml = 'Like what you see? Visit the ' +\n",
       "            '<a target=\"_blank\" href=https://colab.research.google.com/notebooks/data_table.ipynb>data table notebook</a>'\n",
       "            + ' to learn more about interactive tables.';\n",
       "          element.innerHTML = '';\n",
       "          dataTable['output_type'] = 'display_data';\n",
       "          await google.colab.output.renderOutput(dataTable, element);\n",
       "          const docLink = document.createElement('div');\n",
       "          docLink.innerHTML = docLinkHtml;\n",
       "          element.appendChild(docLink);\n",
       "        }\n",
       "      </script>\n",
       "    </div>\n",
       "  </div>\n",
       "  "
      ],
      "text/plain": [
       "        text_id                                          full_text  cohesion  \\\n",
       "0  0016926B079C  I think that students would benefit from learn...       3.5   \n",
       "1  0022683E9EA5  When a problem is a change you have to let it ...       2.5   \n",
       "2  00299B378633  Dear, Principal\\n\\nIf u change the school poli...       3.0   \n",
       "3  003885A45F42  The best time in life is when you become yours...       4.5   \n",
       "4  0049B1DF5CCC  Small act of kindness can impact in other peop...       2.5   \n",
       "\n",
       "   syntax  vocabulary  phraseology  grammar  conventions  \n",
       "0     3.5         3.0          3.0      4.0          3.0  \n",
       "1     2.5         3.0          2.0      2.0          2.5  \n",
       "2     3.5         3.0          3.0      3.0          2.5  \n",
       "3     4.5         4.5          4.5      4.0          5.0  \n",
       "4     3.0         3.0          3.0      2.5          2.5  "
      ]
     },
     "metadata": {},
     "output_type": "display_data"
    }
   ],
   "source": [
    "df = pd.read_csv(os.path.join(ROOT_DIR, \"text.csv\"))\n",
    "\n",
    "display(df.head())"
   ]
  },
  {
   "cell_type": "code",
   "execution_count": 8,
   "id": "015559ce-4d48-4f0b-bada-112cbd47df04",
   "metadata": {
    "colab": {
     "base_uri": "https://localhost:8080/"
    },
    "id": "015559ce-4d48-4f0b-bada-112cbd47df04",
    "outputId": "d2b8dcaf-ae34-4e67-9bd2-f319b6194c2d"
   },
   "outputs": [
    {
     "name": "stdout",
     "output_type": "stream",
     "text": [
      "df shape: (3911, 8)\n"
     ]
    }
   ],
   "source": [
    "print(\"df shape:\", df.shape)"
   ]
  },
  {
   "cell_type": "code",
   "execution_count": 9,
   "id": "f67f4db5-5821-48a9-ae67-98b38d2a68d1",
   "metadata": {
    "colab": {
     "base_uri": "https://localhost:8080/"
    },
    "id": "f67f4db5-5821-48a9-ae67-98b38d2a68d1",
    "outputId": "4fc29bae-0870-4a62-abf0-27698769e163"
   },
   "outputs": [
    {
     "name": "stdout",
     "output_type": "stream",
     "text": [
      "<class 'pandas.core.frame.DataFrame'>\n",
      "RangeIndex: 3911 entries, 0 to 3910\n",
      "Data columns (total 8 columns):\n",
      " #   Column       Non-Null Count  Dtype  \n",
      "---  ------       --------------  -----  \n",
      " 0   text_id      3911 non-null   object \n",
      " 1   full_text    3911 non-null   object \n",
      " 2   cohesion     3911 non-null   float64\n",
      " 3   syntax       3911 non-null   float64\n",
      " 4   vocabulary   3911 non-null   float64\n",
      " 5   phraseology  3911 non-null   float64\n",
      " 6   grammar      3911 non-null   float64\n",
      " 7   conventions  3911 non-null   float64\n",
      "dtypes: float64(6), object(2)\n",
      "memory usage: 244.6+ KB\n"
     ]
    }
   ],
   "source": [
    "df.info()"
   ]
  },
  {
   "cell_type": "markdown",
   "id": "9927f2b6-8363-43e0-9dcc-880d4117c9ad",
   "metadata": {
    "id": "9927f2b6-8363-43e0-9dcc-880d4117c9ad"
   },
   "source": [
    "## 1(b) Look at the target variable"
   ]
  },
  {
   "cell_type": "code",
   "execution_count": 10,
   "id": "474e0072-5b4c-4b92-8649-23805e23cf55",
   "metadata": {
    "colab": {
     "base_uri": "https://localhost:8080/",
     "height": 385
    },
    "id": "474e0072-5b4c-4b92-8649-23805e23cf55",
    "outputId": "cc16a048-4f71-41a6-9862-59caa3b06a86"
   },
   "outputs": [
    {
     "data": {
      "image/png": "[encoded data removed]",
      "text/plain": [
       "<Figure size 1080x432 with 6 Axes>"
      ]
     },
     "metadata": {
      "needs_background": "light"
     },
     "output_type": "display_data"
    }
   ],
   "source": [
    "targets = ['cohesion', 'syntax', 'vocabulary', 'phraseology', 'grammar', 'conventions']\n",
    "\n",
    "fig, axes = plt.subplots(2, len(targets)//2, figsize=(15,6))\n",
    "\n",
    "for i, target in enumerate(targets):\n",
    "    ax = axes.flat[i]\n",
    "    sns.histplot(x=target, data=df, linewidth=1.25, alpha=1, ax=ax, zorder=2)\n",
    "    ax.set_title(target)\n",
    "    ax.set(xlabel=None, ylabel=None)\n",
    "    \n",
    "fig.suptitle('Output Variables')\n",
    "plt.tight_layout()\n",
    "plt.show()"
   ]
  },
  {
   "cell_type": "code",
   "execution_count": 11,
   "id": "723e6602-9e1a-4074-843c-b65a98e7aca5",
   "metadata": {
    "colab": {
     "base_uri": "https://localhost:8080/",
     "height": 585
    },
    "id": "723e6602-9e1a-4074-843c-b65a98e7aca5",
    "outputId": "7635e042-0dbc-483e-8e5c-7124be1e1c29"
   },
   "outputs": [
    {
     "data": {
      "image/png": "[encoded data removed]",
      "text/plain": [
       "<Figure size 576x576 with 2 Axes>"
      ]
     },
     "metadata": {
      "needs_background": "light"
     },
     "output_type": "display_data"
    }
   ],
   "source": [
    "corr = df[targets].corr()\n",
    "fig, ax = plt.subplots(figsize=(8,8))        \n",
    "sns.heatmap(corr, xticklabels=corr.columns, yticklabels=corr.columns, square=True, annot=True, cmap=\"vlag\", fmt=\".2f\")\n",
    "plt.show()"
   ]
  },
  {
   "cell_type": "markdown",
   "id": "bb9826c8-2450-40dd-9f11-dbfb76ecefa7",
   "metadata": {
    "id": "bb9826c8-2450-40dd-9f11-dbfb76ecefa7"
   },
   "source": [
    "## 1(c) Text Analysis\n",
    "- look at word and document statistics, especially as they relate to the target variables\n",
    "- look at common words"
   ]
  },
  {
   "cell_type": "code",
   "execution_count": 12,
   "id": "680cbf86-1360-4217-92a8-4ed9720e26bb",
   "metadata": {
    "colab": {
     "base_uri": "https://localhost:8080/",
     "height": 302
    },
    "id": "680cbf86-1360-4217-92a8-4ed9720e26bb",
    "outputId": "52c2aae0-73e6-42f4-a3c6-b289ffc53477"
   },
   "outputs": [
    {
     "data": {
      "image/png": "[encoded data removed]",
      "text/plain": [
       "<Figure size 1152x360 with 1 Axes>"
      ]
     },
     "metadata": {
      "needs_background": "light"
     },
     "output_type": "display_data"
    }
   ],
   "source": [
    "fig = plt.figure(figsize=(16, 5))\n",
    "df['num_words'] = df['full_text'].apply(lambda x: len(x.split()))\n",
    "sns.histplot(data=df, x=\"num_words\")\n",
    "plt.title(\"Number of Words\")\n",
    "plt.show()"
   ]
  },
  {
   "cell_type": "code",
   "execution_count": 13,
   "id": "bcf07477-31d5-45dc-9fa9-8b9e25a5f9e6",
   "metadata": {
    "colab": {
     "base_uri": "https://localhost:8080/",
     "height": 302
    },
    "id": "bcf07477-31d5-45dc-9fa9-8b9e25a5f9e6",
    "outputId": "eb8b71aa-b3c7-4504-81a6-1b0dfb0c1def"
   },
   "outputs": [
    {
     "data": {
      "image/png": "[encoded data removed]",
      "text/plain": [
       "<Figure size 1152x360 with 1 Axes>"
      ]
     },
     "metadata": {
      "needs_background": "light"
     },
     "output_type": "display_data"
    }
   ],
   "source": [
    "fig = plt.figure(figsize=(16, 5))\n",
    "df['mean_word_len'] = df['full_text'].str.split().apply(lambda x : np.mean([len(i) for i in x]))\n",
    "sns.histplot(data=df, x=\"mean_word_len\")\n",
    "plt.title(\"Average Word Length\")\n",
    "plt.show()"
   ]
  },
  {
   "cell_type": "code",
   "execution_count": 14,
   "id": "ec8050e5-d3ca-4557-b426-0cf6b7fa7903",
   "metadata": {
    "colab": {
     "base_uri": "https://localhost:8080/",
     "height": 302
    },
    "id": "ec8050e5-d3ca-4557-b426-0cf6b7fa7903",
    "outputId": "ff54fce5-d9b3-4a15-eabd-c3856af62527"
   },
   "outputs": [
    {
     "data": {
      "image/png": "[encoded data removed]",
      "text/plain": [
       "<Figure size 1152x360 with 1 Axes>"
      ]
     },
     "metadata": {
      "needs_background": "light"
     },
     "output_type": "display_data"
    }
   ],
   "source": [
    "fig = plt.figure(figsize=(16, 5))\n",
    "df['grade_level'] = df['full_text'].apply(lambda x: textstat.text_standard(x, float_output=True))\n",
    "sns.histplot(data=df, x=\"grade_level\")\n",
    "plt.title(\"Grade Levels\")\n",
    "plt.show()"
   ]
  },
  {
   "cell_type": "code",
   "execution_count": 15,
   "id": "1da878f5-0b7c-4fce-ad89-e41fa7505670",
   "metadata": {
    "colab": {
     "base_uri": "https://localhost:8080/",
     "height": 302
    },
    "id": "1da878f5-0b7c-4fce-ad89-e41fa7505670",
    "outputId": "58133e69-2be1-4421-c1dd-c77a0a999be0"
   },
   "outputs": [
    {
     "data": {
      "image/png": "[encoded data removed]",
      "text/plain": [
       "<Figure size 1152x360 with 1 Axes>"
      ]
     },
     "metadata": {
      "needs_background": "light"
     },
     "output_type": "display_data"
    }
   ],
   "source": [
    "fig = plt.figure(figsize=(16, 5))\n",
    "df['reading_ease'] = df['full_text'].apply(lambda x: textstat.flesch_reading_ease(x))\n",
    "sns.histplot(data=df, x=\"reading_ease\")\n",
    "plt.title(\"Reading Ease\")\n",
    "plt.show()"
   ]
  },
  {
   "cell_type": "code",
   "execution_count": 16,
   "id": "72d50cc7-0898-4a17-b197-1e9fe21db24b",
   "metadata": {
    "colab": {
     "base_uri": "https://localhost:8080/"
    },
    "id": "72d50cc7-0898-4a17-b197-1e9fe21db24b",
    "outputId": "bff7edc9-d623-4887-f511-eea888b1dc79"
   },
   "outputs": [
    {
     "name": "stdout",
     "output_type": "stream",
     "text": [
      "Being yourself doesn't depends in how people see you, it depends on you because you are the only one that can choose to change or not, it makes no difference if you did something right or wrong the society always will discriminate and see that at the way they think it is,and you can't do anything about it, you are doing the things that you feel that are correct and how is the way how is has to be, however being in a world that is trying to make you something else is a great accomplishment because there is not way people make you change;\n",
      "\n",
      "you had to live your life at the way you want it, you have the opportunity to express your feelings everywhere, and you are in the world to be happy and not to satisfy every single person\n",
      "\n",
      "Sometimes it's hard for you to be deal in the society with opinions that hurt you and make you feel bad about it, and that is something that you cannot change, but it is something that help you to learn how to be more responsible when you are growing up and to be overconfident about what are your thoughts, you have to know that in the world are many people want to see you go down and change the way you are, in that situation you have to be with your head up and be who you really want to be, you can do the difference in your life, but not in others person life\n",
      "\n",
      "In addition, you have to be proud and brave everywhere you go to because you have the opportunity to express what are yours feelings, there is not way that somebody can change what is in you heart, only you choose who can hurt you and if you want that continue, try to stay positive all the time not matter what is going on in your life, do not let someone know what are your debilities and how you feel about things go in on in your life that person can hurt you every time he/she want it, do the things that make you feel better with yourself\n",
      "\n",
      "Finally, be happy all the time with the things that you have because it might be the little things, but are things for which you work really hard to have it, you have to be brave especially when you have done something that probably other person will see that bad, however that doesn't mean you are wrong is just what they think about it, you need to be how you feel comfortable and not to maintain happy the society, reach your goals how you want it, don't let anyone destroy your dreams because if that happen you are not going to be cheerful about it\n",
      "\n",
      "In conclusion, live your life how you want it because is only one, do what you think is correct and follow your dreams, since the moment you let the time past by doing what other people want; you will not be happy nor proud about what you really want to achieve, it's difficult to trust people that one day made you feel safe and in peace and then did things that they knew that it hurt you; if you really want something good for somebody else you will do everything to protect that person and make it feel unique, simply be yourself without get involved in other person's life. \n"
     ]
    }
   ],
   "source": [
    "'''Look at worst reading ease'''\n",
    "print(df[df['reading_ease']==df['reading_ease'].min()]['full_text'].values[0])"
   ]
  },
  {
   "cell_type": "code",
   "execution_count": 17,
   "id": "9b08121b-2688-470e-99d5-7a763cd2d6fa",
   "metadata": {
    "colab": {
     "base_uri": "https://localhost:8080/"
    },
    "id": "9b08121b-2688-470e-99d5-7a763cd2d6fa",
    "outputId": "fd6cd678-de54-4529-e4af-53ac25ed8023"
   },
   "outputs": [
    {
     "name": "stdout",
     "output_type": "stream",
     "text": [
      "Would you like to have more time at school? I would like to have more time at school. Setting at class and learning more things. Getting work done and relaxing. I have three reason why we should have more time at school.\n",
      "\n",
      "My first reason why we should have more time at5 school is getting work done. If theres more time at school,then theres more time to do your homework at school. Getting your homework done so you dont have to do ot at home because you finish your work at school. My reason is getting work done.\n",
      "\n",
      "My second reason why we should have more time at school is your friends. School can get boring so thats why you have friends so you can hangout with them at school. Your friends can be your work buddy so you and your friends can work together at school so you can finish your work. You can have fun with your friends at school so it wont be so boring i school. My other reason is your friends.\n",
      "\n",
      "My third reason why we should have more time at school is your grades. Is your grades bad? Well you can make it up because theres more time at school. If you have more work and if you get a good grade on it,the your grade will go up. Theres more time at school so you can make up work that you did bad on because theres more time at school. My last one is about grades.\n",
      "\n",
      "So there you go,I gave you three reason why we should have more time at school. I think there good reasons. I hop you area what I wrote. If you dont area its ok. Stay in school kids.\n"
     ]
    }
   ],
   "source": [
    "'''Look at best reading ease'''\n",
    "print(df[df['reading_ease']==df['reading_ease'].max()]['full_text'].values[0])"
   ]
  },
  {
   "cell_type": "code",
   "execution_count": 18,
   "id": "9eb88680-ba1d-4479-9832-659c16753ac2",
   "metadata": {
    "colab": {
     "base_uri": "https://localhost:8080/"
    },
    "id": "9eb88680-ba1d-4479-9832-659c16753ac2",
    "outputId": "f6bc16dc-b591-41ee-9e4d-6fc6859464a5"
   },
   "outputs": [
    {
     "name": "stdout",
     "output_type": "stream",
     "text": [
      "my name is Generic_Name and my story is about cars\n",
      "\n",
      "I bay a car and it new i live that car so mush so i stirt taking caer to it and befor I usto have a buskel and i usto love that baskel so mauh but i gat older so i stop riding a biskel and i stirt looking for a beges thengs whan i was a kid i usto so my dad driveng a car and i usto haveng fun in it\n",
      "\n",
      ";and my drimm was to bay a car win i gro up and i stil looking for that drimm seccer is the only sport i like i use to play seccer win i weas 11 years old and i stil play that geame and i love it so mush but my lieg get hert so i stop playing it any moer and then i stirt fling better so i want to go bake to play my favert game seccer so i try ot for school and i stirt making frinds and play with them my favert game evry day i even like a gril becoes that game so l like that gril and i stirt playing wiht her and taking wihe her and i wanted her number so i stirt beang cloes to her so it bean a year so i finly say it i told her that i love her and she say yes and she my grilfrind new so this year im in 11 grad and i play sceer for Generic_School and it coold but we have to phet so we can get bater so it ban 3years whan the last time i see my dad and mom becase thay stiy back ther in my cantery ariq and i relly weant them to be besid me in USA\n",
      "\n",
      "and about my life i have 2brthers and 1 sister.\n"
     ]
    }
   ],
   "source": [
    "'''Look at highest grade level'''\n",
    "print(df[df['grade_level']==df['grade_level'].max()]['full_text'].values[0])"
   ]
  },
  {
   "cell_type": "code",
   "execution_count": 19,
   "id": "526e55f1-0885-49e1-88d8-3e2ca21e8437",
   "metadata": {
    "colab": {
     "base_uri": "https://localhost:8080/"
    },
    "id": "526e55f1-0885-49e1-88d8-3e2ca21e8437",
    "outputId": "289b8939-95cd-4ea7-e558-ede2b1f29e8d"
   },
   "outputs": [
    {
     "name": "stdout",
     "output_type": "stream",
     "text": [
      "The year book is for to not forget anything and it helps you lot will somtimes people don't like it but for me it helps me lot but we don't the have it any of thoes no more it lets you to not to foget to do your homework and what do have torrmorw and the next week But we have those any more because we are now 8th grades but the kids what year book to show thier family what spots they did even to show kids went to school even to show how there friends looks like and one day there family can met them even I agree to do it like what to show there family what did and there school looks like even for they can rember but also if there friends moves away and we will still rember even to love them so much but still I agree for to do the years book and I'am ok with it and what the year books still and I still love them and miss them lot I want them back and it actlly look good But like we only get them an a year it takes for ever to get and I think to pay to get your own one but I like and the fotes to.       \n"
     ]
    }
   ],
   "source": [
    "'''Look at lowest grade level'''\n",
    "print(df[df['grade_level']==df['grade_level'].min()]['full_text'].values[0])"
   ]
  },
  {
   "cell_type": "code",
   "execution_count": 20,
   "id": "d1a7e196-13bb-4f07-bdc6-029608fcda8b",
   "metadata": {
    "colab": {
     "base_uri": "https://localhost:8080/",
     "height": 321
    },
    "id": "d1a7e196-13bb-4f07-bdc6-029608fcda8b",
    "outputId": "079a1161-c09e-4781-85f0-37b43eed2c7d"
   },
   "outputs": [
    {
     "data": {
      "image/png": "[encoded data removed]",
      "text/plain": [
       "<Figure size 1080x360 with 1 Axes>"
      ]
     },
     "metadata": {
      "needs_background": "light"
     },
     "output_type": "display_data"
    }
   ],
   "source": [
    "fig = plt.figure(figsize=(15, 5))\n",
    "\n",
    "stop_words = set(stopwords.words('english'))\n",
    "corpus = ''.join(df.full_text).split()\n",
    "\n",
    "dic = defaultdict(int)\n",
    "for word in corpus:\n",
    "    if word in stop_words:\n",
    "        dic[word] += 1\n",
    "top_words = sorted(dic.items(), key=lambda x:x[1], reverse=True)[:15] \n",
    "x, y = zip(*top_words)\n",
    "plt.bar(x, y)\n",
    "plt.title('Common Stopwords')\n",
    "plt.show()"
   ]
  },
  {
   "cell_type": "code",
   "execution_count": 21,
   "id": "9d463394-79b4-40be-b54b-5689b19e0eb9",
   "metadata": {
    "colab": {
     "base_uri": "https://localhost:8080/",
     "height": 321
    },
    "id": "9d463394-79b4-40be-b54b-5689b19e0eb9",
    "outputId": "40a5d287-7e11-46b9-b449-85dfd2fc26a1"
   },
   "outputs": [
    {
     "data": {
      "image/png": "[encoded data removed]",
      "text/plain": [
       "<Figure size 1080x360 with 1 Axes>"
      ]
     },
     "metadata": {
      "needs_background": "light"
     },
     "output_type": "display_data"
    }
   ],
   "source": [
    "fig = plt.figure(figsize=(15, 5))\n",
    "\n",
    "counter = Counter(corpus)\n",
    "words = counter.most_common()\n",
    "\n",
    "x, y = [], []\n",
    "i = 0\n",
    "for word, count in words:\n",
    "    if (word not in stop_words):\n",
    "        x.append(word)\n",
    "        y.append(count)  \n",
    "        i += 1\n",
    "    if i > 15:\n",
    "        break\n",
    "plt.bar(x, y)\n",
    "plt.title('Common Words')\n",
    "plt.show()"
   ]
  },
  {
   "cell_type": "code",
   "execution_count": 22,
   "id": "d2f-fkdwTOho",
   "metadata": {
    "colab": {
     "base_uri": "https://localhost:8080/",
     "height": 52
    },
    "id": "d2f-fkdwTOho",
    "outputId": "74e2eddb-e533-4965-e630-68ec6a87136b"
   },
   "outputs": [
    {
     "data": {
      "text/plain": [
       "(array([False,  True]), array([2804, 1107]))"
      ]
     },
     "execution_count": 22,
     "metadata": {},
     "output_type": "execute_result"
    },
    {
     "data": {
      "text/plain": [
       "<Figure size 1152x360 with 0 Axes>"
      ]
     },
     "metadata": {},
     "output_type": "display_data"
    }
   ],
   "source": [
    "special_characters = '''@#$%^*()-+_=<>'''\n",
    "fig = plt.figure(figsize=(16, 5))\n",
    "df['special_chars'] = df['full_text'].apply(lambda x: any(c in special_characters for c in x))\n",
    "np.unique(df['special_chars'], return_counts=True)"
   ]
  },
  {
   "cell_type": "code",
   "execution_count": 23,
   "id": "X3aFmGWbUimc",
   "metadata": {
    "colab": {
     "base_uri": "https://localhost:8080/"
    },
    "id": "X3aFmGWbUimc",
    "outputId": "e2e9665f-b764-4db1-d8cb-389a5b683645"
   },
   "outputs": [
    {
     "name": "stdout",
     "output_type": "stream",
     "text": [
      "Dear Principal,\n",
      "\n",
      "Our school should have a community center. The reasons why, are so students can learn what our community needs, how to make our community better place, and why is community important for students to know. Its a great to have a community center to know how we can make things better.\n",
      "\n",
      "Students think community center takes their time away. but they have to learn what our community needs. students will participate in a group of students making a list what our community needs, therefore students will learn what our community needs! students will present their list of things our community needs! due to that students will be giving extra credit for the ones who have low grades!\n",
      "\n",
      "Some students don't participate because their friends say its waste of time. it would not be waste of time when you get to know how our community can be a better place for us. students should know that the program is about our own lives, because if our community is bad well our lives are going to be bad. due to that students will want to participate and will want to make our community a better place for us.\n",
      "\n",
      "some student might say why is the community important anyways, were fine nothing is wrong. but when get to know what our community is, they would want to know about and would want to participate and know why is our community important. students will receive a good grade if they participate in this community because is like an extra credit. due to that their friends would want to enjoy the program because their friend told them about it.\n",
      "\n",
      "so principal the community center will be a great place for students to learn lots of things. so i guess this will be a good idea for our school. students will learn what our community needs, how to make our community a better place, and why is our community important!\n",
      "\n",
      "Sincerely, STUDENT_NAME\n"
     ]
    }
   ],
   "source": [
    "print(df[df['special_chars']==True]['full_text'].values[0])"
   ]
  },
  {
   "cell_type": "code",
   "execution_count": 24,
   "id": "899d5b27-0e1e-4594-914d-914235a2147e",
   "metadata": {
    "colab": {
     "base_uri": "https://localhost:8080/",
     "height": 570
    },
    "id": "899d5b27-0e1e-4594-914d-914235a2147e",
    "outputId": "a4ea69b6-acfa-4c33-ed24-7c498c1bbc4d"
   },
   "outputs": [
    {
     "data": {
      "image/png": "[encoded data removed]",
      "text/plain": [
       "<Figure size 576x576 with 2 Axes>"
      ]
     },
     "metadata": {
      "needs_background": "light"
     },
     "output_type": "display_data"
    }
   ],
   "source": [
    "corr = df[targets+['grade_level', 'reading_ease', 'mean_word_len', 'num_words']].corr()\n",
    "fig, ax = plt.subplots(figsize=(8,8))        \n",
    "sns.heatmap(corr, xticklabels=corr.columns, yticklabels=corr.columns, square=True, annot=True, cmap=\"vlag\", fmt=\".2f\")\n",
    "plt.show()"
   ]
  },
  {
   "cell_type": "markdown",
   "id": "33nsmcjWg3N9",
   "metadata": {
    "id": "33nsmcjWg3N9"
   },
   "source": [
    "## 1(d) Look at possible labelings of the text"
   ]
  },
  {
   "cell_type": "code",
   "execution_count": 25,
   "id": "38YuE-ay-9Ol",
   "metadata": {
    "id": "38YuE-ay-9Ol"
   },
   "outputs": [
    {
     "data": {
      "application/vnd.jupyter.widget-view+json": {
       "model_id": "c3563a06097c4134916e5445357f5f67",
       "version_major": 2,
       "version_minor": 0
      },
      "text/plain": [
       "Downloading:   0%|          | 0.00/1.15k [00:00<?, ?B/s]"
      ]
     },
     "metadata": {},
     "output_type": "display_data"
    },
    {
     "data": {
      "application/vnd.jupyter.widget-view+json": {
       "model_id": "edf717bf96fa4cf48b1e71c948a3602f",
       "version_major": 2,
       "version_minor": 0
      },
      "text/plain": [
       "Downloading:   0%|          | 0.00/1.63G [00:00<?, ?B/s]"
      ]
     },
     "metadata": {},
     "output_type": "display_data"
    },
    {
     "data": {
      "application/vnd.jupyter.widget-view+json": {
       "model_id": "430fb423734749048cd4ab918eb7bb21",
       "version_major": 2,
       "version_minor": 0
      },
      "text/plain": [
       "Downloading:   0%|          | 0.00/26.0 [00:00<?, ?B/s]"
      ]
     },
     "metadata": {},
     "output_type": "display_data"
    },
    {
     "data": {
      "application/vnd.jupyter.widget-view+json": {
       "model_id": "24dd7cbc5a5e403d9cae73fadde1655c",
       "version_major": 2,
       "version_minor": 0
      },
      "text/plain": [
       "Downloading:   0%|          | 0.00/899k [00:00<?, ?B/s]"
      ]
     },
     "metadata": {},
     "output_type": "display_data"
    },
    {
     "data": {
      "application/vnd.jupyter.widget-view+json": {
       "model_id": "1954757e89ca4ee8a37b73f9b7ab47d1",
       "version_major": 2,
       "version_minor": 0
      },
      "text/plain": [
       "Downloading:   0%|          | 0.00/456k [00:00<?, ?B/s]"
      ]
     },
     "metadata": {},
     "output_type": "display_data"
    },
    {
     "data": {
      "application/vnd.jupyter.widget-view+json": {
       "model_id": "28ea769da8054d50a5740548f542fb3c",
       "version_major": 2,
       "version_minor": 0
      },
      "text/plain": [
       "Downloading:   0%|          | 0.00/1.36M [00:00<?, ?B/s]"
      ]
     },
     "metadata": {},
     "output_type": "display_data"
    }
   ],
   "source": [
    "zsc = pipeline(\"zero-shot-classification\", model=\"facebook/bart-large-mnli\", device=0)"
   ]
  },
  {
   "cell_type": "code",
   "execution_count": 31,
   "id": "hVTFKC92_Sk8",
   "metadata": {
    "id": "hVTFKC92_Sk8"
   },
   "outputs": [],
   "source": [
    "candidate_labels = [\"remote learning\", \"homework\", \"hobbies\", \"jobs\", \"vacation\", \"teachers\", \"bullying\"]"
   ]
  },
  {
   "cell_type": "code",
   "execution_count": 32,
   "id": "IJh2KQ0fHJyA",
   "metadata": {
    "id": "IJh2KQ0fHJyA"
   },
   "outputs": [],
   "source": [
    "sample_df = df.sample(n=50)\n",
    "results = zsc(sample_df[\"full_text\"].tolist(), candidate_labels, batch_size=22)"
   ]
  },
  {
   "cell_type": "code",
   "execution_count": 33,
   "id": "OXOJl30Tf45L",
   "metadata": {
    "id": "OXOJl30Tf45L"
   },
   "outputs": [],
   "source": [
    "zsc_labels = []\n",
    "for result in results:\n",
    "  label = result['labels'][np.argmax(result['scores'])]\n",
    "  zsc_labels.append(label)"
   ]
  },
  {
   "cell_type": "code",
   "execution_count": 34,
   "id": "rv5aSMYugTDF",
   "metadata": {
    "id": "rv5aSMYugTDF"
   },
   "outputs": [],
   "source": [
    "sample_df[\"zsc_label\"] = zsc_labels"
   ]
  },
  {
   "cell_type": "code",
   "execution_count": 35,
   "id": "PAQ0sk40BsHd",
   "metadata": {
    "colab": {
     "base_uri": "https://localhost:8080/",
     "height": 321
    },
    "id": "PAQ0sk40BsHd",
    "outputId": "ffabef5e-145a-482c-bc2d-f9c88c392dae"
   },
   "outputs": [
    {
     "data": {
      "image/png": "[encoded data removed]",
      "text/plain": [
       "<Figure size 1080x360 with 1 Axes>"
      ]
     },
     "metadata": {
      "needs_background": "light"
     },
     "output_type": "display_data"
    }
   ],
   "source": [
    "fig = plt.figure(figsize=(15, 5))\n",
    "sns.histplot(data=sample_df, x=\"zsc_label\")\n",
    "plt.title(\"Zero-shot Topics\")\n",
    "plt.show()"
   ]
  },
  {
   "cell_type": "markdown",
   "id": "add7a021-e896-4123-aaec-e15cd0bb98a8",
   "metadata": {},
   "source": [
    "## 1(e) Look at any anomolous texts"
   ]
  },
  {
   "cell_type": "code",
   "execution_count": 55,
   "id": "7967aab7-e0af-435c-bd2e-667729bbf6f3",
   "metadata": {},
   "outputs": [],
   "source": [
    "anom_df = df[(df[\"grade_level\"] > 20)]"
   ]
  },
  {
   "cell_type": "code",
   "execution_count": 56,
   "id": "1e17846d-6be4-486a-81de-439de06ba4c6",
   "metadata": {},
   "outputs": [
    {
     "data": {
      "text/plain": [
       "(169, 13)"
      ]
     },
     "execution_count": 56,
     "metadata": {},
     "output_type": "execute_result"
    }
   ],
   "source": [
    "anom_df.shape"
   ]
  },
  {
   "cell_type": "code",
   "execution_count": 57,
   "id": "d9191edc-3df4-45b6-bf64-fd8df2993b9f",
   "metadata": {},
   "outputs": [
    {
     "data": {
      "image/png": "[encoded data removed]",
      "text/plain": [
       "<Figure size 1080x432 with 6 Axes>"
      ]
     },
     "metadata": {
      "needs_background": "light"
     },
     "output_type": "display_data"
    }
   ],
   "source": [
    "targets = ['cohesion', 'syntax', 'vocabulary', 'phraseology', 'grammar', 'conventions']\n",
    "\n",
    "fig, axes = plt.subplots(2, len(targets)//2, figsize=(15,6))\n",
    "\n",
    "for i, target in enumerate(targets):\n",
    "    ax = axes.flat[i]\n",
    "    sns.histplot(x=target, data=anom_df, linewidth=1.25, alpha=1, ax=ax, zorder=2)\n",
    "    ax.set_title(target)\n",
    "    ax.set(xlabel=None, ylabel=None)\n",
    "    \n",
    "fig.suptitle('Output Variables')\n",
    "plt.tight_layout()\n",
    "plt.show()"
   ]
  },
  {
   "cell_type": "markdown",
   "id": "f8306509-c95b-4f5f-9068-ba6ad238afad",
   "metadata": {
    "id": "f8306509-c95b-4f5f-9068-ba6ad238afad"
   },
   "source": [
    "# 2. Import and Preprocess Data"
   ]
  },
  {
   "cell_type": "code",
   "execution_count": null,
   "id": "887b7ac0-a56c-474e-8756-76899b63f835",
   "metadata": {
    "id": "887b7ac0-a56c-474e-8756-76899b63f835"
   },
   "outputs": [],
   "source": [
    "def preprocess_data(df,  cat_features=None):\n",
    "    \n",
    "    # Specify categorical variables\n",
    "    if cat_features is not None:\n",
    "        for name in cat_features:\n",
    "            df[name] = df[name].astype(\"category\")\n",
    "            # Add a None category for missing values\n",
    "            if \"None\" not in df[name].cat.categories:\n",
    "                df[name].cat.add_categories(\"None\", inplace=True)\n",
    "                \n",
    "\n",
    "    # create test data set\n",
    "    train, test = train_test_split(df, test_size=0.2)\n",
    "\n",
    "\n",
    "    return train, test"
   ]
  },
  {
   "cell_type": "code",
   "execution_count": null,
   "id": "ca2b8030-d61a-4c8e-b65a-19551a62d713",
   "metadata": {
    "colab": {
     "base_uri": "https://localhost:8080/"
    },
    "id": "ca2b8030-d61a-4c8e-b65a-19551a62d713",
    "outputId": "0e1cb299-05c8-4634-df49-fb84ef64bfe8"
   },
   "outputs": [
    {
     "name": "stderr",
     "output_type": "stream",
     "text": [
      "/usr/local/lib/python3.7/dist-packages/pandas/core/arrays/categorical.py:2631: FutureWarning: The `inplace` parameter in pandas.Categorical.add_categories is deprecated and will be removed in a future version. Removing unused categories will always return a new Categorical object.\n",
      "  res = method(*args, **kwargs)\n"
     ]
    }
   ],
   "source": [
    "df = pd.read_csv(os.path.join(ROOT_DIR, \"text.csv\"), index_col=\"text_id\")\n",
    "train, test = preprocess_data(df, cat_features=['cohesion', 'syntax', 'vocabulary', 'phraseology', 'grammar', 'conventions'])"
   ]
  },
  {
   "cell_type": "code",
   "execution_count": null,
   "id": "0jVaxIYmVAYP",
   "metadata": {
    "id": "0jVaxIYmVAYP"
   },
   "outputs": [],
   "source": [
    "'''encode the target variable'''\n",
    "enc = ce.one_hot.OneHotEncoder()\n",
    "y_train = enc.fit_transform(train[['cohesion', 'syntax', 'vocabulary', 'phraseology', 'grammar', 'conventions']])\n",
    "y_test = enc.transform(test[['cohesion', 'syntax', 'vocabulary', 'phraseology', 'grammar', 'conventions']])"
   ]
  },
  {
   "cell_type": "code",
   "execution_count": null,
   "id": "uvDAZDvKWVpo",
   "metadata": {
    "id": "uvDAZDvKWVpo"
   },
   "outputs": [],
   "source": [
    "train = train.join(y_train)\n",
    "test = test.join(y_test)"
   ]
  },
  {
   "cell_type": "markdown",
   "id": "137c66e6-4130-4c5c-8c34-5a5e144fadc9",
   "metadata": {
    "id": "137c66e6-4130-4c5c-8c34-5a5e144fadc9"
   },
   "source": [
    "# 3. Set up Configuration"
   ]
  },
  {
   "cell_type": "code",
   "execution_count": null,
   "id": "7abadf82-cb44-442b-bb90-f0b2039aaa59",
   "metadata": {
    "id": "7abadf82-cb44-442b-bb90-f0b2039aaa59"
   },
   "outputs": [],
   "source": [
    "config = {\n",
    "    'model': 'distilbert-base-uncased',\n",
    "    'num_classes' :54,\n",
    "    'dropout': 0.,\n",
    "    'batch_size': 6,\n",
    "    'epochs': 2,\n",
    "    'lr': 2e-5,\n",
    "    'weight_decay': 0.01,\n",
    "    'warmup_steps' : 100,\n",
    "    'device': 'cuda' if torch.cuda.is_available() else 'cpu',\n",
    "    'tokenizer' :{\n",
    "        'max_length': 512,\n",
    "        'truncation':True\n",
    "    }\n",
    "}"
   ]
  },
  {
   "cell_type": "markdown",
   "id": "591f11b1-9640-4fb1-a04e-4af22af75f8c",
   "metadata": {
    "id": "591f11b1-9640-4fb1-a04e-4af22af75f8c"
   },
   "source": [
    "# 4. Create Datasets and Dataloaders\n",
    "- set the classes for the dataset module\n",
    "- define the tokenizer"
   ]
  },
  {
   "cell_type": "code",
   "execution_count": null,
   "id": "295da403-f8ea-44e2-aa83-b606d13e93dd",
   "metadata": {
    "id": "295da403-f8ea-44e2-aa83-b606d13e93dd"
   },
   "outputs": [],
   "source": [
    "class TextDataset:\n",
    "    def __init__(self, df, config, classes=None, tokenizer=None, is_test=False):\n",
    "        self.df = df.reset_index(drop=True)\n",
    "        self.classes = classes\n",
    "        self.max_len = config['tokenizer']['max_length']\n",
    "        self.truncation = config['tokenizer']['truncation']\n",
    "        self.tokenizer = tokenizer\n",
    "        self.is_test = is_test\n",
    "        \n",
    "    def __getitem__(self,idx):\n",
    "        sample = self.df['full_text'][idx]\n",
    "        tokenized = tokenizer.encode_plus(sample,\n",
    "                                          None,\n",
    "                                          add_special_tokens=True,\n",
    "                                          max_length=self.max_len,\n",
    "                                          truncation=self.truncation,\n",
    "                                          padding='max_length'\n",
    "                                         )\n",
    "        inputs = {\n",
    "            \"input_ids\": torch.tensor(tokenized['input_ids'], dtype=torch.long),\n",
    "            #\"token_type_ids\": torch.tensor(tokenized['token_type_ids'], dtype=torch.long),\n",
    "            \"attention_mask\": torch.tensor(tokenized['attention_mask'], dtype=torch.long)\n",
    "        }\n",
    "        \n",
    "        if self.is_test == True:\n",
    "            return inputs\n",
    "        \n",
    "        label = self.df.loc[idx,self.classes].to_list()\n",
    "        \n",
    "        '''NEED to check this for correct output'''\n",
    "        inputs[\"labels\"] = torch.tensor(label, dtype=torch.long)\n",
    "        \n",
    "        return inputs\n",
    "    \n",
    "    def __len__(self):\n",
    "        return len(self.df)"
   ]
  },
  {
   "cell_type": "code",
   "execution_count": null,
   "id": "bf87134e-921d-4c2f-86e3-156ac673ecf6",
   "metadata": {
    "colab": {
     "base_uri": "https://localhost:8080/"
    },
    "id": "bf87134e-921d-4c2f-86e3-156ac673ecf6",
    "outputId": "0ddaa6e8-075e-4d4e-e80c-27d64c5d5a84"
   },
   "outputs": [
    {
     "name": "stderr",
     "output_type": "stream",
     "text": [
      "loading configuration file config.json from cache at /root/.cache/huggingface/hub/models--distilbert-base-uncased/snapshots/1c4513b2eedbda136f57676a34eea67aba266e5c/config.json\n",
      "Model config DistilBertConfig {\n",
      "  \"_name_or_path\": \"distilbert-base-uncased\",\n",
      "  \"activation\": \"gelu\",\n",
      "  \"architectures\": [\n",
      "    \"DistilBertForMaskedLM\"\n",
      "  ],\n",
      "  \"attention_dropout\": 0.1,\n",
      "  \"dim\": 768,\n",
      "  \"dropout\": 0.1,\n",
      "  \"hidden_dim\": 3072,\n",
      "  \"initializer_range\": 0.02,\n",
      "  \"max_position_embeddings\": 512,\n",
      "  \"model_type\": \"distilbert\",\n",
      "  \"n_heads\": 12,\n",
      "  \"n_layers\": 6,\n",
      "  \"pad_token_id\": 0,\n",
      "  \"qa_dropout\": 0.1,\n",
      "  \"seq_classif_dropout\": 0.2,\n",
      "  \"sinusoidal_pos_embds\": false,\n",
      "  \"tie_weights_\": true,\n",
      "  \"transformers_version\": \"4.24.0\",\n",
      "  \"vocab_size\": 30522\n",
      "}\n",
      "\n",
      "loading file vocab.txt from cache at /root/.cache/huggingface/hub/models--distilbert-base-uncased/snapshots/1c4513b2eedbda136f57676a34eea67aba266e5c/vocab.txt\n",
      "loading file tokenizer.json from cache at /root/.cache/huggingface/hub/models--distilbert-base-uncased/snapshots/1c4513b2eedbda136f57676a34eea67aba266e5c/tokenizer.json\n",
      "loading file added_tokens.json from cache at None\n",
      "loading file special_tokens_map.json from cache at None\n",
      "loading file tokenizer_config.json from cache at /root/.cache/huggingface/hub/models--distilbert-base-uncased/snapshots/1c4513b2eedbda136f57676a34eea67aba266e5c/tokenizer_config.json\n",
      "loading configuration file config.json from cache at /root/.cache/huggingface/hub/models--distilbert-base-uncased/snapshots/1c4513b2eedbda136f57676a34eea67aba266e5c/config.json\n",
      "Model config DistilBertConfig {\n",
      "  \"_name_or_path\": \"distilbert-base-uncased\",\n",
      "  \"activation\": \"gelu\",\n",
      "  \"architectures\": [\n",
      "    \"DistilBertForMaskedLM\"\n",
      "  ],\n",
      "  \"attention_dropout\": 0.1,\n",
      "  \"dim\": 768,\n",
      "  \"dropout\": 0.1,\n",
      "  \"hidden_dim\": 3072,\n",
      "  \"initializer_range\": 0.02,\n",
      "  \"max_position_embeddings\": 512,\n",
      "  \"model_type\": \"distilbert\",\n",
      "  \"n_heads\": 12,\n",
      "  \"n_layers\": 6,\n",
      "  \"pad_token_id\": 0,\n",
      "  \"qa_dropout\": 0.1,\n",
      "  \"seq_classif_dropout\": 0.2,\n",
      "  \"sinusoidal_pos_embds\": false,\n",
      "  \"tie_weights_\": true,\n",
      "  \"transformers_version\": \"4.24.0\",\n",
      "  \"vocab_size\": 30522\n",
      "}\n",
      "\n"
     ]
    }
   ],
   "source": [
    "tokenizer = AutoTokenizer.from_pretrained(config['model'])"
   ]
  },
  {
   "cell_type": "code",
   "execution_count": null,
   "id": "0bc54a5f-1a65-4339-8282-34fbb89b0bad",
   "metadata": {
    "id": "0bc54a5f-1a65-4339-8282-34fbb89b0bad"
   },
   "outputs": [],
   "source": [
    "train_ds = TextDataset(train, config, classes= y_train.columns, tokenizer=tokenizer)\n",
    "test_ds = TextDataset(test, config, tokenizer=tokenizer, is_test=True)"
   ]
  },
  {
   "cell_type": "markdown",
   "id": "471dc259-a06e-40f8-bd1c-87080629533f",
   "metadata": {
    "id": "471dc259-a06e-40f8-bd1c-87080629533f"
   },
   "source": [
    "# 5. Define the Model"
   ]
  },
  {
   "cell_type": "code",
   "execution_count": null,
   "id": "8a1c292b-442b-40a7-a954-b5fbf69acf4f",
   "metadata": {
    "colab": {
     "base_uri": "https://localhost:8080/"
    },
    "id": "8a1c292b-442b-40a7-a954-b5fbf69acf4f",
    "outputId": "8bb53667-81fd-4247-e5bf-12ee8170be9c"
   },
   "outputs": [
    {
     "name": "stderr",
     "output_type": "stream",
     "text": [
      "loading configuration file config.json from cache at /root/.cache/huggingface/hub/models--distilbert-base-uncased/snapshots/1c4513b2eedbda136f57676a34eea67aba266e5c/config.json\n",
      "Model config DistilBertConfig {\n",
      "  \"_name_or_path\": \"distilbert-base-uncased\",\n",
      "  \"activation\": \"gelu\",\n",
      "  \"architectures\": [\n",
      "    \"DistilBertForMaskedLM\"\n",
      "  ],\n",
      "  \"attention_dropout\": 0.1,\n",
      "  \"dim\": 768,\n",
      "  \"dropout\": 0.1,\n",
      "  \"hidden_dim\": 3072,\n",
      "  \"id2label\": {\n",
      "    \"0\": \"LABEL_0\",\n",
      "    \"1\": \"LABEL_1\",\n",
      "    \"2\": \"LABEL_2\",\n",
      "    \"3\": \"LABEL_3\",\n",
      "    \"4\": \"LABEL_4\",\n",
      "    \"5\": \"LABEL_5\",\n",
      "    \"6\": \"LABEL_6\",\n",
      "    \"7\": \"LABEL_7\",\n",
      "    \"8\": \"LABEL_8\",\n",
      "    \"9\": \"LABEL_9\",\n",
      "    \"10\": \"LABEL_10\",\n",
      "    \"11\": \"LABEL_11\",\n",
      "    \"12\": \"LABEL_12\",\n",
      "    \"13\": \"LABEL_13\",\n",
      "    \"14\": \"LABEL_14\",\n",
      "    \"15\": \"LABEL_15\",\n",
      "    \"16\": \"LABEL_16\",\n",
      "    \"17\": \"LABEL_17\",\n",
      "    \"18\": \"LABEL_18\",\n",
      "    \"19\": \"LABEL_19\",\n",
      "    \"20\": \"LABEL_20\",\n",
      "    \"21\": \"LABEL_21\",\n",
      "    \"22\": \"LABEL_22\",\n",
      "    \"23\": \"LABEL_23\",\n",
      "    \"24\": \"LABEL_24\",\n",
      "    \"25\": \"LABEL_25\",\n",
      "    \"26\": \"LABEL_26\",\n",
      "    \"27\": \"LABEL_27\",\n",
      "    \"28\": \"LABEL_28\",\n",
      "    \"29\": \"LABEL_29\",\n",
      "    \"30\": \"LABEL_30\",\n",
      "    \"31\": \"LABEL_31\",\n",
      "    \"32\": \"LABEL_32\",\n",
      "    \"33\": \"LABEL_33\",\n",
      "    \"34\": \"LABEL_34\",\n",
      "    \"35\": \"LABEL_35\",\n",
      "    \"36\": \"LABEL_36\",\n",
      "    \"37\": \"LABEL_37\",\n",
      "    \"38\": \"LABEL_38\",\n",
      "    \"39\": \"LABEL_39\",\n",
      "    \"40\": \"LABEL_40\",\n",
      "    \"41\": \"LABEL_41\",\n",
      "    \"42\": \"LABEL_42\",\n",
      "    \"43\": \"LABEL_43\",\n",
      "    \"44\": \"LABEL_44\",\n",
      "    \"45\": \"LABEL_45\",\n",
      "    \"46\": \"LABEL_46\",\n",
      "    \"47\": \"LABEL_47\",\n",
      "    \"48\": \"LABEL_48\",\n",
      "    \"49\": \"LABEL_49\",\n",
      "    \"50\": \"LABEL_50\",\n",
      "    \"51\": \"LABEL_51\",\n",
      "    \"52\": \"LABEL_52\",\n",
      "    \"53\": \"LABEL_53\"\n",
      "  },\n",
      "  \"initializer_range\": 0.02,\n",
      "  \"label2id\": {\n",
      "    \"LABEL_0\": 0,\n",
      "    \"LABEL_1\": 1,\n",
      "    \"LABEL_10\": 10,\n",
      "    \"LABEL_11\": 11,\n",
      "    \"LABEL_12\": 12,\n",
      "    \"LABEL_13\": 13,\n",
      "    \"LABEL_14\": 14,\n",
      "    \"LABEL_15\": 15,\n",
      "    \"LABEL_16\": 16,\n",
      "    \"LABEL_17\": 17,\n",
      "    \"LABEL_18\": 18,\n",
      "    \"LABEL_19\": 19,\n",
      "    \"LABEL_2\": 2,\n",
      "    \"LABEL_20\": 20,\n",
      "    \"LABEL_21\": 21,\n",
      "    \"LABEL_22\": 22,\n",
      "    \"LABEL_23\": 23,\n",
      "    \"LABEL_24\": 24,\n",
      "    \"LABEL_25\": 25,\n",
      "    \"LABEL_26\": 26,\n",
      "    \"LABEL_27\": 27,\n",
      "    \"LABEL_28\": 28,\n",
      "    \"LABEL_29\": 29,\n",
      "    \"LABEL_3\": 3,\n",
      "    \"LABEL_30\": 30,\n",
      "    \"LABEL_31\": 31,\n",
      "    \"LABEL_32\": 32,\n",
      "    \"LABEL_33\": 33,\n",
      "    \"LABEL_34\": 34,\n",
      "    \"LABEL_35\": 35,\n",
      "    \"LABEL_36\": 36,\n",
      "    \"LABEL_37\": 37,\n",
      "    \"LABEL_38\": 38,\n",
      "    \"LABEL_39\": 39,\n",
      "    \"LABEL_4\": 4,\n",
      "    \"LABEL_40\": 40,\n",
      "    \"LABEL_41\": 41,\n",
      "    \"LABEL_42\": 42,\n",
      "    \"LABEL_43\": 43,\n",
      "    \"LABEL_44\": 44,\n",
      "    \"LABEL_45\": 45,\n",
      "    \"LABEL_46\": 46,\n",
      "    \"LABEL_47\": 47,\n",
      "    \"LABEL_48\": 48,\n",
      "    \"LABEL_49\": 49,\n",
      "    \"LABEL_5\": 5,\n",
      "    \"LABEL_50\": 50,\n",
      "    \"LABEL_51\": 51,\n",
      "    \"LABEL_52\": 52,\n",
      "    \"LABEL_53\": 53,\n",
      "    \"LABEL_6\": 6,\n",
      "    \"LABEL_7\": 7,\n",
      "    \"LABEL_8\": 8,\n",
      "    \"LABEL_9\": 9\n",
      "  },\n",
      "  \"max_position_embeddings\": 512,\n",
      "  \"model_type\": \"distilbert\",\n",
      "  \"n_heads\": 12,\n",
      "  \"n_layers\": 6,\n",
      "  \"pad_token_id\": 0,\n",
      "  \"qa_dropout\": 0.1,\n",
      "  \"seq_classif_dropout\": 0.2,\n",
      "  \"sinusoidal_pos_embds\": false,\n",
      "  \"tie_weights_\": true,\n",
      "  \"transformers_version\": \"4.24.0\",\n",
      "  \"vocab_size\": 30522\n",
      "}\n",
      "\n",
      "loading weights file pytorch_model.bin from cache at /root/.cache/huggingface/hub/models--distilbert-base-uncased/snapshots/1c4513b2eedbda136f57676a34eea67aba266e5c/pytorch_model.bin\n",
      "Some weights of the model checkpoint at distilbert-base-uncased were not used when initializing DistilBertForSequenceClassification: ['vocab_transform.bias', 'vocab_transform.weight', 'vocab_projector.weight', 'vocab_projector.bias', 'vocab_layer_norm.bias', 'vocab_layer_norm.weight']\n",
      "- This IS expected if you are initializing DistilBertForSequenceClassification from the checkpoint of a model trained on another task or with another architecture (e.g. initializing a BertForSequenceClassification model from a BertForPreTraining model).\n",
      "- This IS NOT expected if you are initializing DistilBertForSequenceClassification from the checkpoint of a model that you expect to be exactly identical (initializing a BertForSequenceClassification model from a BertForSequenceClassification model).\n",
      "Some weights of DistilBertForSequenceClassification were not initialized from the model checkpoint at distilbert-base-uncased and are newly initialized: ['classifier.weight', 'pre_classifier.bias', 'classifier.bias', 'pre_classifier.weight']\n",
      "You should probably TRAIN this model on a down-stream task to be able to use it for predictions and inference.\n"
     ]
    }
   ],
   "source": [
    "model = AutoModelForSequenceClassification.from_pretrained(config[\"model\"], num_labels=config[\"num_classes\"])"
   ]
  },
  {
   "cell_type": "markdown",
   "id": "b7703c76-9e7e-4095-bb6d-3896e4f849c8",
   "metadata": {
    "id": "b7703c76-9e7e-4095-bb6d-3896e4f849c8"
   },
   "source": [
    "# 6. Model Training\n",
    "\n",
    "https://huggingface.co/transformers/v3.2.0/custom_datasets.html\n",
    "https://colab.research.google.com/github/DhavalTaunk08/Transformers_scripts/blob/master/Transformers_multilabel_distilbert.ipynb#scrollTo=I4R39UTxNKTk"
   ]
  },
  {
   "cell_type": "code",
   "execution_count": null,
   "id": "TZEILPZkam91",
   "metadata": {
    "id": "TZEILPZkam91"
   },
   "outputs": [],
   "source": [
    "class CustomTrainer(Trainer):\n",
    "    def compute_loss(self, model, inputs, return_outputs=False):\n",
    "        outputs = model(\n",
    "            input_ids=inputs['input_ids'],\n",
    "            attention_mask=inputs['attention_mask'],\n",
    "            #token_type_ids=inputs['token_type_ids']\n",
    "        )\n",
    "        loss = nn.BCEWithLogitsLoss()(outputs['logits'],\n",
    "                                          inputs['labels'].float())\n",
    "        return (loss, outputs) if return_outputs else loss"
   ]
  },
  {
   "cell_type": "code",
   "execution_count": null,
   "id": "97d09327-1d92-4853-957f-5541e0c2c279",
   "metadata": {
    "colab": {
     "base_uri": "https://localhost:8080/"
    },
    "id": "97d09327-1d92-4853-957f-5541e0c2c279",
    "outputId": "47380aab-f93b-4288-928b-f52a9a30718f"
   },
   "outputs": [
    {
     "name": "stderr",
     "output_type": "stream",
     "text": [
      "PyTorch: setting up devices\n",
      "The default value for the training argument `--report_to` will change in v5 (from all installed integrations to none). In v5, you will need to use `--report_to all` to get the same behavior as now. You should start updating your code and make this info disappear :-).\n"
     ]
    }
   ],
   "source": [
    "training_args = TrainingArguments(\n",
    "    output_dir='./results',         \n",
    "    num_train_epochs=config['epochs'],              \n",
    "    per_device_train_batch_size=config['batch_size'],  \n",
    "    per_device_eval_batch_size=config['batch_size'],   \n",
    "    warmup_steps=config['warmup_steps'],               \n",
    "    weight_decay=config['weight_decay'],              \n",
    ")\n",
    "\n",
    "trainer = CustomTrainer(\n",
    "    model=model,                         \n",
    "    args=training_args,                  \n",
    "    train_dataset=train_ds,         \n",
    "    eval_dataset=test_ds           \n",
    ")"
   ]
  },
  {
   "cell_type": "code",
   "execution_count": null,
   "id": "32b7c1ba-7a96-4796-86f4-e178e88b99ad",
   "metadata": {
    "colab": {
     "base_uri": "https://localhost:8080/",
     "height": 557
    },
    "id": "32b7c1ba-7a96-4796-86f4-e178e88b99ad",
    "outputId": "be236b33-b0c6-4218-ffc7-d1df5e2f8a8b"
   },
   "outputs": [
    {
     "name": "stderr",
     "output_type": "stream",
     "text": [
      "/usr/local/lib/python3.7/dist-packages/transformers/optimization.py:310: FutureWarning: This implementation of AdamW is deprecated and will be removed in a future version. Use the PyTorch implementation torch.optim.AdamW instead, or set `no_deprecation_warning=True` to disable this warning\n",
      "  FutureWarning,\n",
      "***** Running training *****\n",
      "  Num examples = 3128\n",
      "  Num Epochs = 2\n",
      "  Instantaneous batch size per device = 6\n",
      "  Total train batch size (w. parallel, distributed & accumulation) = 6\n",
      "  Gradient Accumulation steps = 1\n",
      "  Total optimization steps = 1044\n",
      "  Number of trainable parameters = 66994998\n"
     ]
    },
    {
     "data": {
      "text/html": [
       "\n",
       "    <div>\n",
       "      \n",
       "      <progress value='1044' max='1044' style='width:300px; height:20px; vertical-align: middle;'></progress>\n",
       "      [1044/1044 05:25, Epoch 2/2]\n",
       "    </div>\n",
       "    <table border=\"1\" class=\"dataframe\">\n",
       "  <thead>\n",
       " <tr style=\"text-align: left;\">\n",
       "      <th>Step</th>\n",
       "      <th>Training Loss</th>\n",
       "    </tr>\n",
       "  </thead>\n",
       "  <tbody>\n",
       "    <tr>\n",
       "      <td>500</td>\n",
       "      <td>0.331200</td>\n",
       "    </tr>\n",
       "    <tr>\n",
       "      <td>1000</td>\n",
       "      <td>0.257700</td>\n",
       "    </tr>\n",
       "  </tbody>\n",
       "</table><p>"
      ],
      "text/plain": [
       "<IPython.core.display.HTML object>"
      ]
     },
     "metadata": {},
     "output_type": "display_data"
    },
    {
     "name": "stderr",
     "output_type": "stream",
     "text": [
      "Saving model checkpoint to ./results/checkpoint-500\n",
      "Configuration saved in ./results/checkpoint-500/config.json\n",
      "Model weights saved in ./results/checkpoint-500/pytorch_model.bin\n",
      "Saving model checkpoint to ./results/checkpoint-1000\n",
      "Configuration saved in ./results/checkpoint-1000/config.json\n",
      "Model weights saved in ./results/checkpoint-1000/pytorch_model.bin\n",
      "\n",
      "\n",
      "Training completed. Do not forget to share your model on huggingface.co/models =)\n",
      "\n",
      "\n"
     ]
    },
    {
     "data": {
      "text/plain": [
       "TrainOutput(global_step=1044, training_loss=0.29242026760203627, metrics={'train_runtime': 326.2927, 'train_samples_per_second': 19.173, 'train_steps_per_second': 3.2, 'total_flos': 829484552650752.0, 'train_loss': 0.29242026760203627, 'epoch': 2.0})"
      ]
     },
     "execution_count": 38,
     "metadata": {},
     "output_type": "execute_result"
    }
   ],
   "source": [
    "trainer.train()"
   ]
  },
  {
   "cell_type": "code",
   "execution_count": null,
   "id": "Pr637FZUepcY",
   "metadata": {
    "colab": {
     "base_uri": "https://localhost:8080/"
    },
    "id": "Pr637FZUepcY",
    "outputId": "ca59b4a6-a145-4ea1-9e6a-ac74523badbd"
   },
   "outputs": [
    {
     "name": "stderr",
     "output_type": "stream",
     "text": [
      "Saving model checkpoint to trained_text_model\n",
      "Configuration saved in trained_text_model/config.json\n",
      "Model weights saved in trained_text_model/pytorch_model.bin\n"
     ]
    }
   ],
   "source": [
    "trainer.save_model(\"trained_text_model\")"
   ]
  },
  {
   "cell_type": "markdown",
   "id": "53f0bf01-5aa0-4708-aa57-f04d9a0457fd",
   "metadata": {
    "id": "53f0bf01-5aa0-4708-aa57-f04d9a0457fd"
   },
   "source": [
    "# 7. Check Predictions"
   ]
  },
  {
   "cell_type": "code",
   "execution_count": null,
   "id": "b6904cd3-e10c-4e53-bd3e-1d210b509248",
   "metadata": {
    "colab": {
     "base_uri": "https://localhost:8080/",
     "height": 1000
    },
    "id": "b6904cd3-e10c-4e53-bd3e-1d210b509248",
    "outputId": "c5654a83-fe89-4683-c83b-98b97caa6185"
   },
   "outputs": [
    {
     "name": "stderr",
     "output_type": "stream",
     "text": [
      "loading configuration file ./trained_text_model/config.json\n",
      "Model config DistilBertConfig {\n",
      "  \"_name_or_path\": \"./trained_text_model\",\n",
      "  \"activation\": \"gelu\",\n",
      "  \"architectures\": [\n",
      "    \"DistilBertForSequenceClassification\"\n",
      "  ],\n",
      "  \"attention_dropout\": 0.1,\n",
      "  \"dim\": 768,\n",
      "  \"dropout\": 0.1,\n",
      "  \"hidden_dim\": 3072,\n",
      "  \"id2label\": {\n",
      "    \"0\": \"LABEL_0\",\n",
      "    \"1\": \"LABEL_1\",\n",
      "    \"2\": \"LABEL_2\",\n",
      "    \"3\": \"LABEL_3\",\n",
      "    \"4\": \"LABEL_4\",\n",
      "    \"5\": \"LABEL_5\",\n",
      "    \"6\": \"LABEL_6\",\n",
      "    \"7\": \"LABEL_7\",\n",
      "    \"8\": \"LABEL_8\",\n",
      "    \"9\": \"LABEL_9\",\n",
      "    \"10\": \"LABEL_10\",\n",
      "    \"11\": \"LABEL_11\",\n",
      "    \"12\": \"LABEL_12\",\n",
      "    \"13\": \"LABEL_13\",\n",
      "    \"14\": \"LABEL_14\",\n",
      "    \"15\": \"LABEL_15\",\n",
      "    \"16\": \"LABEL_16\",\n",
      "    \"17\": \"LABEL_17\",\n",
      "    \"18\": \"LABEL_18\",\n",
      "    \"19\": \"LABEL_19\",\n",
      "    \"20\": \"LABEL_20\",\n",
      "    \"21\": \"LABEL_21\",\n",
      "    \"22\": \"LABEL_22\",\n",
      "    \"23\": \"LABEL_23\",\n",
      "    \"24\": \"LABEL_24\",\n",
      "    \"25\": \"LABEL_25\",\n",
      "    \"26\": \"LABEL_26\",\n",
      "    \"27\": \"LABEL_27\",\n",
      "    \"28\": \"LABEL_28\",\n",
      "    \"29\": \"LABEL_29\",\n",
      "    \"30\": \"LABEL_30\",\n",
      "    \"31\": \"LABEL_31\",\n",
      "    \"32\": \"LABEL_32\",\n",
      "    \"33\": \"LABEL_33\",\n",
      "    \"34\": \"LABEL_34\",\n",
      "    \"35\": \"LABEL_35\",\n",
      "    \"36\": \"LABEL_36\",\n",
      "    \"37\": \"LABEL_37\",\n",
      "    \"38\": \"LABEL_38\",\n",
      "    \"39\": \"LABEL_39\",\n",
      "    \"40\": \"LABEL_40\",\n",
      "    \"41\": \"LABEL_41\",\n",
      "    \"42\": \"LABEL_42\",\n",
      "    \"43\": \"LABEL_43\",\n",
      "    \"44\": \"LABEL_44\",\n",
      "    \"45\": \"LABEL_45\",\n",
      "    \"46\": \"LABEL_46\",\n",
      "    \"47\": \"LABEL_47\",\n",
      "    \"48\": \"LABEL_48\",\n",
      "    \"49\": \"LABEL_49\",\n",
      "    \"50\": \"LABEL_50\",\n",
      "    \"51\": \"LABEL_51\",\n",
      "    \"52\": \"LABEL_52\",\n",
      "    \"53\": \"LABEL_53\"\n",
      "  },\n",
      "  \"initializer_range\": 0.02,\n",
      "  \"label2id\": {\n",
      "    \"LABEL_0\": 0,\n",
      "    \"LABEL_1\": 1,\n",
      "    \"LABEL_10\": 10,\n",
      "    \"LABEL_11\": 11,\n",
      "    \"LABEL_12\": 12,\n",
      "    \"LABEL_13\": 13,\n",
      "    \"LABEL_14\": 14,\n",
      "    \"LABEL_15\": 15,\n",
      "    \"LABEL_16\": 16,\n",
      "    \"LABEL_17\": 17,\n",
      "    \"LABEL_18\": 18,\n",
      "    \"LABEL_19\": 19,\n",
      "    \"LABEL_2\": 2,\n",
      "    \"LABEL_20\": 20,\n",
      "    \"LABEL_21\": 21,\n",
      "    \"LABEL_22\": 22,\n",
      "    \"LABEL_23\": 23,\n",
      "    \"LABEL_24\": 24,\n",
      "    \"LABEL_25\": 25,\n",
      "    \"LABEL_26\": 26,\n",
      "    \"LABEL_27\": 27,\n",
      "    \"LABEL_28\": 28,\n",
      "    \"LABEL_29\": 29,\n",
      "    \"LABEL_3\": 3,\n",
      "    \"LABEL_30\": 30,\n",
      "    \"LABEL_31\": 31,\n",
      "    \"LABEL_32\": 32,\n",
      "    \"LABEL_33\": 33,\n",
      "    \"LABEL_34\": 34,\n",
      "    \"LABEL_35\": 35,\n",
      "    \"LABEL_36\": 36,\n",
      "    \"LABEL_37\": 37,\n",
      "    \"LABEL_38\": 38,\n",
      "    \"LABEL_39\": 39,\n",
      "    \"LABEL_4\": 4,\n",
      "    \"LABEL_40\": 40,\n",
      "    \"LABEL_41\": 41,\n",
      "    \"LABEL_42\": 42,\n",
      "    \"LABEL_43\": 43,\n",
      "    \"LABEL_44\": 44,\n",
      "    \"LABEL_45\": 45,\n",
      "    \"LABEL_46\": 46,\n",
      "    \"LABEL_47\": 47,\n",
      "    \"LABEL_48\": 48,\n",
      "    \"LABEL_49\": 49,\n",
      "    \"LABEL_5\": 5,\n",
      "    \"LABEL_50\": 50,\n",
      "    \"LABEL_51\": 51,\n",
      "    \"LABEL_52\": 52,\n",
      "    \"LABEL_53\": 53,\n",
      "    \"LABEL_6\": 6,\n",
      "    \"LABEL_7\": 7,\n",
      "    \"LABEL_8\": 8,\n",
      "    \"LABEL_9\": 9\n",
      "  },\n",
      "  \"max_position_embeddings\": 512,\n",
      "  \"model_type\": \"distilbert\",\n",
      "  \"n_heads\": 12,\n",
      "  \"n_layers\": 6,\n",
      "  \"pad_token_id\": 0,\n",
      "  \"qa_dropout\": 0.1,\n",
      "  \"seq_classif_dropout\": 0.2,\n",
      "  \"sinusoidal_pos_embds\": false,\n",
      "  \"tie_weights_\": true,\n",
      "  \"torch_dtype\": \"float32\",\n",
      "  \"transformers_version\": \"4.24.0\",\n",
      "  \"vocab_size\": 30522\n",
      "}\n",
      "\n",
      "loading weights file ./trained_text_model/pytorch_model.bin\n",
      "All model checkpoint weights were used when initializing DistilBertForSequenceClassification.\n",
      "\n",
      "All the weights of DistilBertForSequenceClassification were initialized from the model checkpoint at ./trained_text_model.\n",
      "If your task is similar to the task the model of the checkpoint was trained on, you can already use DistilBertForSequenceClassification for predictions without further training.\n",
      "PyTorch: setting up devices\n",
      "The default value for the training argument `--report_to` will change in v5 (from all installed integrations to none). In v5, you will need to use `--report_to all` to get the same behavior as now. You should start updating your code and make this info disappear :-).\n",
      "***** Running Prediction *****\n",
      "  Num examples = 783\n",
      "  Batch size = 6\n"
     ]
    },
    {
     "data": {
      "text/html": [],
      "text/plain": [
       "<IPython.core.display.HTML object>"
      ]
     },
     "metadata": {},
     "output_type": "display_data"
    }
   ],
   "source": [
    "# loading the model you previously trained\n",
    "model = AutoModelForSequenceClassification.from_pretrained(\"./trained_text_model\")\n",
    "\n",
    "# arguments for Trainer\n",
    "test_args = TrainingArguments(\n",
    "    output_dir = \".\",\n",
    "    do_train = False,\n",
    "    do_predict = True,\n",
    "    per_device_eval_batch_size = config[\"batch_size\"],   \n",
    "    dataloader_drop_last = False    \n",
    ")\n",
    "\n",
    "# init trainer\n",
    "trainer = Trainer(\n",
    "              model = model, \n",
    "              args = test_args\n",
    "              )\n",
    "\n",
    "test_results = trainer.predict(test_ds)"
   ]
  },
  {
   "cell_type": "code",
   "execution_count": null,
   "id": "543752f0-7b27-4b9d-bb9c-30ad418cbfce",
   "metadata": {
    "id": "543752f0-7b27-4b9d-bb9c-30ad418cbfce"
   },
   "outputs": [],
   "source": [
    "mapping = {0:1.0, 1:1.5, 2:2.0, 3:2.5, 4:3.0, 5:3.5, 6:4.0, 7:4.5, 8:5.0,}\n",
    "\n",
    "preds = [[mapping[pos] for pos in np.argmax(i.reshape(6,9), axis=1)] for i in test_results[0]]"
   ]
  },
  {
   "cell_type": "code",
   "execution_count": null,
   "id": "BfzdSyCIhciC",
   "metadata": {
    "id": "BfzdSyCIhciC"
   },
   "outputs": [],
   "source": [
    "labels = test[['cohesion', 'syntax', 'vocabulary', 'phraseology', 'grammar', 'conventions']].values"
   ]
  },
  {
   "cell_type": "code",
   "execution_count": null,
   "id": "LkEsQYHOl635",
   "metadata": {
    "colab": {
     "base_uri": "https://localhost:8080/",
     "height": 386
    },
    "id": "LkEsQYHOl635",
    "outputId": "925012d9-1d54-46b6-9672-67eced2b8e1f"
   },
   "outputs": [
    {
     "data": {
      "text/plain": [
       "<seaborn.axisgrid.FacetGrid at 0x7f6b170e9750>"
      ]
     },
     "execution_count": 93,
     "metadata": {},
     "output_type": "execute_result"
    },
    {
     "data": {
      "image/png": "[encoded data removed]",
      "text/plain": [
       "<Figure size 360x360 with 1 Axes>"
      ]
     },
     "metadata": {},
     "output_type": "display_data"
    }
   ],
   "source": [
    "sns.displot(np.sum((preds-labels)**2, axis=1))"
   ]
  },
  {
   "cell_type": "code",
   "execution_count": null,
   "id": "9e7tR0mbmpaJ",
   "metadata": {
    "colab": {
     "base_uri": "https://localhost:8080/",
     "height": 443
    },
    "id": "9e7tR0mbmpaJ",
    "outputId": "c601719a-f477-44a2-feb7-89ace04668e7"
   },
   "outputs": [
    {
     "data": {
      "image/png": "[encoded data removed]",
      "text/plain": [
       "<Figure size 1080x432 with 6 Axes>"
      ]
     },
     "metadata": {},
     "output_type": "display_data"
    }
   ],
   "source": [
    "targets = ['cohesion', 'syntax', 'vocabulary', 'phraseology', 'grammar', 'conventions']\n",
    "preds_df = pd.DataFrame(preds, columns = targets).astype(\"category\")\n",
    "\n",
    "fig, axes = plt.subplots(2, len(targets)//2, figsize=(15,6))\n",
    "\n",
    "for i, target in enumerate(targets):\n",
    "    ax = axes.flat[i]\n",
    "    sns.histplot(x=target, data=test, alpha=0.3, ax=ax, color=\"blue\")\n",
    "    sns.histplot(x=target, data=preds_df, alpha=0.3, ax=ax, color=\"orange\")\n",
    "    ax.set_title(target)\n",
    "    ax.set(xlabel=None, ylabel=None)\n",
    "    \n",
    "fig.suptitle('Output Variables')\n",
    "plt.tight_layout()\n",
    "plt.show()"
   ]
  },
  {
   "cell_type": "code",
   "execution_count": null,
   "id": "FwrG3P74nufK",
   "metadata": {
    "id": "FwrG3P74nufK"
   },
   "outputs": [],
   "source": []
  }
 ],
 "metadata": {
  "accelerator": "GPU",
  "colab": {
   "provenance": []
  },
  "gpuClass": "standard",
  "kernelspec": {
   "display_name": "Python 3 (ipykernel)",
   "language": "python",
   "name": "python3"
  },
  "language_info": {
   "codemirror_mode": {
    "name": "ipython",
    "version": 3
   },
   "file_extension": ".py",
   "mimetype": "text/x-python",
   "name": "python",
   "nbconvert_exporter": "python",
   "pygments_lexer": "ipython3",
   "version": "3.9.13"
  }
 },
 "nbformat": 4,
 "nbformat_minor": 5
}
