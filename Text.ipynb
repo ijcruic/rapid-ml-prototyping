{
  "cells": [
    {
      "cell_type": "code",
      "source": [
        "! pip install textstat transformers category_encoders"
      ],
      "metadata": {
        "id": "bLq4ukOSRRNP"
      },
      "id": "bLq4ukOSRRNP",
      "execution_count": null,
      "outputs": []
    },
    {
      "cell_type": "code",
      "execution_count": null,
      "id": "1781b328-1959-4806-8767-9e5fc062bca3",
      "metadata": {
        "id": "1781b328-1959-4806-8767-9e5fc062bca3"
      },
      "outputs": [],
      "source": [
        "import os, random, textstat, spacy, re, string, itertools\n",
        "from collections import defaultdict, Counter\n",
        "import numpy as np\n",
        "import pandas as pd\n",
        "from pandas.api.types import CategoricalDtype\n",
        "from tqdm.notebook import tqdm\n",
        "\n",
        "from transformers import AutoTokenizer, AutoModelForSequenceClassification, Trainer, TrainingArguments, pipeline\n",
        "from sklearn.model_selection import train_test_split\n",
        "import torch\n",
        "import torch.nn as nn\n",
        "\n",
        "from sklearn.feature_extraction.text import CountVectorizer\n",
        "import nltk\n",
        "nltk.download('stopwords')\n",
        "from nltk.corpus import stopwords\n",
        "import category_encoders as ce\n",
        "\n",
        "import seaborn as sns\n",
        "import matplotlib.pyplot as plt\n",
        "plt.style.use(\"seaborn-whitegrid\")\n",
        "plt.rc(\"figure\", autolayout=True)\n",
        "plt.rc(\n",
        "    \"axes\",\n",
        "    labelweight=\"bold\",\n",
        "    labelsize=\"large\",\n",
        "    titleweight=\"bold\",\n",
        "    titlesize=14,\n",
        "    titlepad=10,\n",
        ")"
      ]
    },
    {
      "cell_type": "code",
      "source": [
        "! gdown \"1o_QH7OB56BBgPFFJLYMBzkbAwKeNj9XC\""
      ],
      "metadata": {
        "id": "2DfYSustRE8h"
      },
      "id": "2DfYSustRE8h",
      "execution_count": null,
      "outputs": []
    },
    {
      "cell_type": "code",
      "execution_count": null,
      "id": "f7b22841-7486-4f72-b9f9-065eca28c4ee",
      "metadata": {
        "id": "f7b22841-7486-4f72-b9f9-065eca28c4ee"
      },
      "outputs": [],
      "source": [
        "'''Set dataset directory'''\n",
        "ROOT_DIR = \"/content\""
      ]
    },
    {
      "cell_type": "markdown",
      "id": "cc6ac1bd-f049-4dec-a682-c915a594487e",
      "metadata": {
        "id": "cc6ac1bd-f049-4dec-a682-c915a594487e"
      },
      "source": [
        "# 1. Exploratory Data Analysis"
      ]
    },
    {
      "cell_type": "markdown",
      "id": "212097fb-20c1-425a-860f-3b3d9de58a45",
      "metadata": {
        "id": "212097fb-20c1-425a-860f-3b3d9de58a45"
      },
      "source": [
        "## 1(a) Profile the dataset"
      ]
    },
    {
      "cell_type": "code",
      "execution_count": null,
      "id": "9e52094a-a275-4578-b7a6-23c29ef67e70",
      "metadata": {
        "id": "9e52094a-a275-4578-b7a6-23c29ef67e70"
      },
      "outputs": [],
      "source": [
        "df = pd.read_csv(os.path.join(ROOT_DIR, \"\"))\n",
        "\n",
        "display(df.head())"
      ]
    },
    {
      "cell_type": "code",
      "execution_count": null,
      "id": "015559ce-4d48-4f0b-bada-112cbd47df04",
      "metadata": {
        "id": "015559ce-4d48-4f0b-bada-112cbd47df04"
      },
      "outputs": [],
      "source": [
        "print(\"df shape:\", df.shape)"
      ]
    },
    {
      "cell_type": "code",
      "execution_count": null,
      "id": "f67f4db5-5821-48a9-ae67-98b38d2a68d1",
      "metadata": {
        "id": "f67f4db5-5821-48a9-ae67-98b38d2a68d1"
      },
      "outputs": [],
      "source": [
        "df.info()"
      ]
    },
    {
      "cell_type": "markdown",
      "id": "9927f2b6-8363-43e0-9dcc-880d4117c9ad",
      "metadata": {
        "id": "9927f2b6-8363-43e0-9dcc-880d4117c9ad"
      },
      "source": [
        "## 1(b) Look at the target variable"
      ]
    },
    {
      "cell_type": "code",
      "execution_count": null,
      "id": "474e0072-5b4c-4b92-8649-23805e23cf55",
      "metadata": {
        "id": "474e0072-5b4c-4b92-8649-23805e23cf55"
      },
      "outputs": [],
      "source": [
        "targets = []\n",
        "\n",
        "fig, axes = plt.subplots(2, len(targets)//2, figsize=(15,6))\n",
        "\n",
        "for i, target in enumerate(targets):\n",
        "    ax = axes.flat[i]\n",
        "    sns.histplot(x=target, data=df, linewidth=1.25, alpha=1, ax=ax, zorder=2)\n",
        "    ax.set_title(target)\n",
        "    ax.set(xlabel=None, ylabel=None)\n",
        "    \n",
        "fig.suptitle('Output Variables')\n",
        "plt.tight_layout()\n",
        "plt.show()"
      ]
    },
    {
      "cell_type": "code",
      "execution_count": null,
      "id": "723e6602-9e1a-4074-843c-b65a98e7aca5",
      "metadata": {
        "id": "723e6602-9e1a-4074-843c-b65a98e7aca5"
      },
      "outputs": [],
      "source": [
        "corr = df[targets].corr()\n",
        "fig, ax = plt.subplots(figsize=(8,8))        \n",
        "sns.heatmap(corr, xticklabels=corr.columns, yticklabels=corr.columns, square=True, annot=True, cmap=\"vlag\", fmt=\".2f\")\n",
        "plt.show()"
      ]
    },
    {
      "cell_type": "markdown",
      "id": "bb9826c8-2450-40dd-9f11-dbfb76ecefa7",
      "metadata": {
        "id": "bb9826c8-2450-40dd-9f11-dbfb76ecefa7"
      },
      "source": [
        "## 1(c) Text Analysis\n",
        "- look at word and document statistics, especially as they relate to the target variables\n",
        "- look at common words"
      ]
    },
    {
      "cell_type": "code",
      "execution_count": null,
      "id": "680cbf86-1360-4217-92a8-4ed9720e26bb",
      "metadata": {
        "id": "680cbf86-1360-4217-92a8-4ed9720e26bb"
      },
      "outputs": [],
      "source": [
        "fig = plt.figure(figsize=(16, 5))\n",
        "df['num_words'] = df['full_text'].apply(lambda x: len(x.split()))\n",
        "sns.histplot(data=df, x=\"num_words\")\n",
        "plt.title(\"Number of Words\")\n",
        "plt.show()"
      ]
    },
    {
      "cell_type": "code",
      "execution_count": null,
      "id": "bcf07477-31d5-45dc-9fa9-8b9e25a5f9e6",
      "metadata": {
        "id": "bcf07477-31d5-45dc-9fa9-8b9e25a5f9e6"
      },
      "outputs": [],
      "source": [
        "fig = plt.figure(figsize=(16, 5))\n",
        "df['mean_word_len'] = df['full_text'].str.split().apply(lambda x : np.mean([len(i) for i in x]))\n",
        "sns.histplot(data=df, x=\"mean_word_len\")\n",
        "plt.title(\"Average Word Length\")\n",
        "plt.show()"
      ]
    },
    {
      "cell_type": "code",
      "execution_count": null,
      "id": "ec8050e5-d3ca-4557-b426-0cf6b7fa7903",
      "metadata": {
        "id": "ec8050e5-d3ca-4557-b426-0cf6b7fa7903"
      },
      "outputs": [],
      "source": [
        "fig = plt.figure(figsize=(16, 5))\n",
        "df['grade_level'] = df['full_text'].apply(lambda x: textstat.text_standard(x, float_output=True))\n",
        "sns.histplot(data=df, x=\"grade_level\")\n",
        "plt.title(\"Grade Levels\")\n",
        "plt.show()"
      ]
    },
    {
      "cell_type": "code",
      "execution_count": null,
      "id": "1da878f5-0b7c-4fce-ad89-e41fa7505670",
      "metadata": {
        "id": "1da878f5-0b7c-4fce-ad89-e41fa7505670"
      },
      "outputs": [],
      "source": [
        "fig = plt.figure(figsize=(16, 5))\n",
        "df['reading_ease'] = df['full_text'].apply(lambda x: textstat.flesch_reading_ease(x))\n",
        "sns.histplot(data=df, x=\"reading_ease\")\n",
        "plt.title(\"Reading Ease\")\n",
        "plt.show()"
      ]
    },
    {
      "cell_type": "code",
      "execution_count": null,
      "id": "72d50cc7-0898-4a17-b197-1e9fe21db24b",
      "metadata": {
        "id": "72d50cc7-0898-4a17-b197-1e9fe21db24b"
      },
      "outputs": [],
      "source": [
        "'''Look at worst reading ease'''\n",
        "print(df[df['reading_ease']==df['reading_ease'].min()]['full_text'].values[0])"
      ]
    },
    {
      "cell_type": "code",
      "execution_count": null,
      "id": "9b08121b-2688-470e-99d5-7a763cd2d6fa",
      "metadata": {
        "id": "9b08121b-2688-470e-99d5-7a763cd2d6fa"
      },
      "outputs": [],
      "source": [
        "'''Look at best reading ease'''\n",
        "print(df[df['reading_ease']==df['reading_ease'].max()]['full_text'].values[0])"
      ]
    },
    {
      "cell_type": "code",
      "execution_count": null,
      "id": "9eb88680-ba1d-4479-9832-659c16753ac2",
      "metadata": {
        "id": "9eb88680-ba1d-4479-9832-659c16753ac2"
      },
      "outputs": [],
      "source": [
        "'''Look at highest grade level'''\n",
        "print(df[df['grade_level']==df['grade_level'].max()]['full_text'].values[0])"
      ]
    },
    {
      "cell_type": "code",
      "execution_count": null,
      "id": "526e55f1-0885-49e1-88d8-3e2ca21e8437",
      "metadata": {
        "id": "526e55f1-0885-49e1-88d8-3e2ca21e8437"
      },
      "outputs": [],
      "source": [
        "'''Look at lowest grade level'''\n",
        "print(df[df['grade_level']==df['grade_level'].min()]['full_text'].values[0])"
      ]
    },
    {
      "cell_type": "code",
      "execution_count": null,
      "id": "d1a7e196-13bb-4f07-bdc6-029608fcda8b",
      "metadata": {
        "id": "d1a7e196-13bb-4f07-bdc6-029608fcda8b"
      },
      "outputs": [],
      "source": [
        "fig = plt.figure(figsize=(15, 5))\n",
        "\n",
        "stop_words = set(stopwords.words('english'))\n",
        "corpus = ''.join(df.full_text).split()\n",
        "\n",
        "dic = defaultdict(int)\n",
        "for word in corpus:\n",
        "    if word in stop_words:\n",
        "        dic[word] += 1\n",
        "top_words = sorted(dic.items(), key=lambda x:x[1], reverse=True)[:15] \n",
        "x, y = zip(*top_words)\n",
        "plt.bar(x, y)\n",
        "plt.title('Common Stopwords')\n",
        "plt.show()"
      ]
    },
    {
      "cell_type": "code",
      "execution_count": null,
      "id": "9d463394-79b4-40be-b54b-5689b19e0eb9",
      "metadata": {
        "id": "9d463394-79b4-40be-b54b-5689b19e0eb9"
      },
      "outputs": [],
      "source": [
        "fig = plt.figure(figsize=(15, 5))\n",
        "\n",
        "counter = Counter(corpus)\n",
        "words = counter.most_common()\n",
        "\n",
        "x, y = [], []\n",
        "i = 0\n",
        "for word, count in words:\n",
        "    if (word not in stop_words):\n",
        "        x.append(word)\n",
        "        y.append(count)  \n",
        "        i += 1\n",
        "    if i > 15:\n",
        "        break\n",
        "plt.bar(x, y)\n",
        "plt.title('Common Words')\n",
        "plt.show()"
      ]
    },
    {
      "cell_type": "code",
      "source": [
        "special_characters = '''@#$%^*()-+_=<>'''\n",
        "fig = plt.figure(figsize=(16, 5))\n",
        "df['special_chars'] = df['full_text'].apply(lambda x: any(c in special_characters for c in x))\n",
        "np.unique(df['special_chars'], return_counts=True)"
      ],
      "metadata": {
        "id": "d2f-fkdwTOho"
      },
      "id": "d2f-fkdwTOho",
      "execution_count": null,
      "outputs": []
    },
    {
      "cell_type": "code",
      "source": [
        "print(df[df['special_chars']==True]['full_text'].values[0])"
      ],
      "metadata": {
        "id": "X3aFmGWbUimc"
      },
      "id": "X3aFmGWbUimc",
      "execution_count": null,
      "outputs": []
    },
    {
      "cell_type": "code",
      "execution_count": null,
      "id": "899d5b27-0e1e-4594-914d-914235a2147e",
      "metadata": {
        "id": "899d5b27-0e1e-4594-914d-914235a2147e"
      },
      "outputs": [],
      "source": [
        "corr = df[targets+['grade_level', 'reading_ease', 'mean_word_len', 'num_words']].corr()\n",
        "fig, ax = plt.subplots(figsize=(8,8))        \n",
        "sns.heatmap(corr, xticklabels=corr.columns, yticklabels=corr.columns, square=True, annot=True, cmap=\"vlag\", fmt=\".2f\")\n",
        "plt.show()"
      ]
    },
    {
      "cell_type": "markdown",
      "source": [
        "Look at possible labelings of the text"
      ],
      "metadata": {
        "id": "u2Tu1IJShLhG"
      },
      "id": "u2Tu1IJShLhG"
    },
    {
      "cell_type": "code",
      "source": [
        "zsc = pipeline(\"zero-shot-classification\", model=\"facebook/bart-large-mnli\", device=0)"
      ],
      "metadata": {
        "id": "XDYuVsTKhNc9"
      },
      "id": "XDYuVsTKhNc9",
      "execution_count": null,
      "outputs": []
    },
    {
      "cell_type": "code",
      "source": [
        "\n",
        "candidate_labels = []"
      ],
      "metadata": {
        "id": "lBgS54cShNh_"
      },
      "id": "lBgS54cShNh_",
      "execution_count": null,
      "outputs": []
    },
    {
      "cell_type": "code",
      "source": [
        "results = zsc(, candidate_labels, batch_size=22)"
      ],
      "metadata": {
        "id": "Nu71chUMhNzo"
      },
      "id": "Nu71chUMhNzo",
      "execution_count": null,
      "outputs": []
    },
    {
      "cell_type": "code",
      "source": [
        "zsc_labels = []\n",
        "for result in results:\n",
        "  label = result['labels'][np.argmax(result['scores'])]\n",
        "  zsc_labels.append(label)"
      ],
      "metadata": {
        "id": "l-0K4xKEhOBk"
      },
      "id": "l-0K4xKEhOBk",
      "execution_count": null,
      "outputs": []
    },
    {
      "cell_type": "code",
      "source": [
        "\n",
        "df[\"zsc_label\"] = zsc_labels"
      ],
      "metadata": {
        "id": "9HWySiuEhOJq"
      },
      "id": "9HWySiuEhOJq",
      "execution_count": null,
      "outputs": []
    },
    {
      "cell_type": "code",
      "source": [
        "fig = plt.figure(figsize=(15, 5))\n",
        "sns.histplot(data=df, x=\"zsc_label\")\n",
        "plt.title(\"Zero-shot Topics\")\n",
        "plt.show()"
      ],
      "metadata": {
        "id": "QnGt3S2JhOO6"
      },
      "id": "QnGt3S2JhOO6",
      "execution_count": null,
      "outputs": []
    },
    {
      "cell_type": "markdown",
      "id": "f8306509-c95b-4f5f-9068-ba6ad238afad",
      "metadata": {
        "id": "f8306509-c95b-4f5f-9068-ba6ad238afad"
      },
      "source": [
        "# 2. Import and Preprocess Data"
      ]
    },
    {
      "cell_type": "code",
      "execution_count": null,
      "id": "887b7ac0-a56c-474e-8756-76899b63f835",
      "metadata": {
        "id": "887b7ac0-a56c-474e-8756-76899b63f835"
      },
      "outputs": [],
      "source": [
        "def preprocess_data(df,  cat_features=None):\n",
        "    \n",
        "    # Specify categorical variables\n",
        "    if cat_features is not None:\n",
        "        for name in cat_features:\n",
        "            df[name] = df[name].astype(\"category\")\n",
        "            # Add a None category for missing values\n",
        "            if \"None\" not in df[name].cat.categories:\n",
        "                df[name].cat.add_categories(\"None\", inplace=True)\n",
        "                \n",
        "\n",
        "    # create test data set\n",
        "    train, test = train_test_split(df, test_size=0.2)\n",
        "\n",
        "\n",
        "    return train, test"
      ]
    },
    {
      "cell_type": "code",
      "execution_count": null,
      "id": "ca2b8030-d61a-4c8e-b65a-19551a62d713",
      "metadata": {
        "id": "ca2b8030-d61a-4c8e-b65a-19551a62d713"
      },
      "outputs": [],
      "source": [
        "df = pd.read_csv(os.path.join(ROOT_DIR, \"text.csv\"), index_col=\"text_id\")\n",
        "train, test = preprocess_data(df, cat_features=[])"
      ]
    },
    {
      "cell_type": "markdown",
      "id": "137c66e6-4130-4c5c-8c34-5a5e144fadc9",
      "metadata": {
        "id": "137c66e6-4130-4c5c-8c34-5a5e144fadc9"
      },
      "source": [
        "# 3. Set up Configuration"
      ]
    },
    {
      "cell_type": "code",
      "execution_count": null,
      "id": "7abadf82-cb44-442b-bb90-f0b2039aaa59",
      "metadata": {
        "id": "7abadf82-cb44-442b-bb90-f0b2039aaa59"
      },
      "outputs": [],
      "source": [
        "config = {\n",
        "    'model': 'distilbert-base-uncased',\n",
        "    'num_classes' :54,\n",
        "    'dropout': 0.,\n",
        "    'batch_size': 6,\n",
        "    'epochs': 2,\n",
        "    'lr': 2e-5,\n",
        "    'weight_decay': 0.01,\n",
        "    'warmup_steps' : 100,\n",
        "    'device': 'cuda' if torch.cuda.is_available() else 'cpu',\n",
        "    'tokenizer' :{\n",
        "        'max_length': 512,\n",
        "        'truncation':True\n",
        "    }\n",
        "}"
      ]
    },
    {
      "cell_type": "markdown",
      "id": "591f11b1-9640-4fb1-a04e-4af22af75f8c",
      "metadata": {
        "id": "591f11b1-9640-4fb1-a04e-4af22af75f8c"
      },
      "source": [
        "# 4. Create Datasets and Dataloaders\n",
        "- set the classes for the dataset module\n",
        "- define the tokenizer"
      ]
    },
    {
      "cell_type": "code",
      "execution_count": null,
      "id": "295da403-f8ea-44e2-aa83-b606d13e93dd",
      "metadata": {
        "id": "295da403-f8ea-44e2-aa83-b606d13e93dd"
      },
      "outputs": [],
      "source": [
        "class TextDataset:\n",
        "    def __init__(self, df, config, classes=None, tokenizer=None, is_test=False):\n",
        "        self.df = df.reset_index(drop=True)\n",
        "        self.classes = classes\n",
        "        self.max_len = config['tokenizer']['max_length']\n",
        "        self.truncation = config['tokenizer']['truncation']\n",
        "        self.tokenizer = tokenizer\n",
        "        self.is_test = is_test\n",
        "        \n",
        "    def __getitem__(self,idx):\n",
        "        sample = self.df['full_text'][idx]\n",
        "        tokenized = tokenizer.encode_plus(sample,\n",
        "                                          None,\n",
        "                                          add_special_tokens=True,\n",
        "                                          max_length=self.max_len,\n",
        "                                          truncation=self.truncation,\n",
        "                                          padding='max_length'\n",
        "                                         )\n",
        "        inputs = {\n",
        "            \"input_ids\": torch.tensor(tokenized['input_ids'], dtype=torch.long),\n",
        "            #\"token_type_ids\": torch.tensor(tokenized['token_type_ids'], dtype=torch.long),\n",
        "            \"attention_mask\": torch.tensor(tokenized['attention_mask'], dtype=torch.long)\n",
        "        }\n",
        "        \n",
        "        if self.is_test == True:\n",
        "            return inputs\n",
        "        \n",
        "        label = self.df.loc[idx,self.classes].to_list()\n",
        "        \n",
        "        '''NEED to check this for correct output'''\n",
        "        inputs[\"labels\"] = torch.tensor(label, dtype=torch.long)\n",
        "        \n",
        "        return inputs\n",
        "    \n",
        "    def __len__(self):\n",
        "        return len(self.df)"
      ]
    },
    {
      "cell_type": "code",
      "execution_count": null,
      "id": "bf87134e-921d-4c2f-86e3-156ac673ecf6",
      "metadata": {
        "id": "bf87134e-921d-4c2f-86e3-156ac673ecf6"
      },
      "outputs": [],
      "source": [
        "tokenizer = AutoTokenizer.from_pretrained(config['model'])"
      ]
    },
    {
      "cell_type": "code",
      "execution_count": null,
      "id": "0bc54a5f-1a65-4339-8282-34fbb89b0bad",
      "metadata": {
        "id": "0bc54a5f-1a65-4339-8282-34fbb89b0bad"
      },
      "outputs": [],
      "source": [
        "train_ds = TextDataset(train, config, classes= y_train.columns, tokenizer=tokenizer)\n",
        "test_ds = TextDataset(test, config, tokenizer=tokenizer, is_test=True)"
      ]
    },
    {
      "cell_type": "markdown",
      "id": "471dc259-a06e-40f8-bd1c-87080629533f",
      "metadata": {
        "id": "471dc259-a06e-40f8-bd1c-87080629533f"
      },
      "source": [
        "# 5. Define the Model"
      ]
    },
    {
      "cell_type": "code",
      "execution_count": null,
      "id": "8a1c292b-442b-40a7-a954-b5fbf69acf4f",
      "metadata": {
        "id": "8a1c292b-442b-40a7-a954-b5fbf69acf4f"
      },
      "outputs": [],
      "source": [
        "model = AutoModelForSequenceClassification.from_pretrained(config[\"model\"], num_labels=config[\"num_classes\"])"
      ]
    },
    {
      "cell_type": "markdown",
      "id": "b7703c76-9e7e-4095-bb6d-3896e4f849c8",
      "metadata": {
        "id": "b7703c76-9e7e-4095-bb6d-3896e4f849c8"
      },
      "source": [
        "# 6. Model Training\n",
        "\n",
        "https://huggingface.co/transformers/v3.2.0/custom_datasets.html\n",
        "https://colab.research.google.com/github/DhavalTaunk08/Transformers_scripts/blob/master/Transformers_multilabel_distilbert.ipynb#scrollTo=I4R39UTxNKTk\n",
        "\n",
        "Note, if you are not using multi-label classification, you can just use `Trainer` as is (i.e. no custom loss function)"
      ]
    },
    {
      "cell_type": "code",
      "source": [
        "class CustomTrainer(Trainer):\n",
        "    def compute_loss(self, model, inputs, return_outputs=False):\n",
        "        outputs = model(\n",
        "            input_ids=inputs['input_ids'],\n",
        "            attention_mask=inputs['attention_mask'],\n",
        "            #token_type_ids=inputs['token_type_ids']\n",
        "        )\n",
        "        loss = nn.BCEWithLogitsLoss()(outputs['logits'],\n",
        "                                          inputs['labels'].float())\n",
        "        return (loss, outputs) if return_outputs else loss"
      ],
      "metadata": {
        "id": "TZEILPZkam91"
      },
      "id": "TZEILPZkam91",
      "execution_count": null,
      "outputs": []
    },
    {
      "cell_type": "code",
      "execution_count": null,
      "id": "97d09327-1d92-4853-957f-5541e0c2c279",
      "metadata": {
        "id": "97d09327-1d92-4853-957f-5541e0c2c279"
      },
      "outputs": [],
      "source": [
        "training_args = TrainingArguments(\n",
        "    output_dir='./results',         \n",
        "    num_train_epochs=config['epochs'],              \n",
        "    per_device_train_batch_size=config['batch_size'],  \n",
        "    per_device_eval_batch_size=config['batch_size'],   \n",
        "    warmup_steps=config['warmup_steps'],               \n",
        "    weight_decay=config['weight_decay'],              \n",
        ")\n",
        "\n",
        "trainer = CustomTrainer(\n",
        "    model=model,                         \n",
        "    args=training_args,                  \n",
        "    train_dataset=train_ds,         \n",
        "    eval_dataset=test_ds           \n",
        ")"
      ]
    },
    {
      "cell_type": "code",
      "execution_count": null,
      "id": "32b7c1ba-7a96-4796-86f4-e178e88b99ad",
      "metadata": {
        "id": "32b7c1ba-7a96-4796-86f4-e178e88b99ad"
      },
      "outputs": [],
      "source": [
        "trainer.train()"
      ]
    },
    {
      "cell_type": "code",
      "source": [
        "trainer.save_model(\"trained_text_model\")"
      ],
      "metadata": {
        "id": "Pr637FZUepcY"
      },
      "id": "Pr637FZUepcY",
      "execution_count": null,
      "outputs": []
    },
    {
      "cell_type": "markdown",
      "id": "53f0bf01-5aa0-4708-aa57-f04d9a0457fd",
      "metadata": {
        "id": "53f0bf01-5aa0-4708-aa57-f04d9a0457fd"
      },
      "source": [
        "# 7. Check Predictions"
      ]
    },
    {
      "cell_type": "code",
      "execution_count": null,
      "id": "b6904cd3-e10c-4e53-bd3e-1d210b509248",
      "metadata": {
        "id": "b6904cd3-e10c-4e53-bd3e-1d210b509248"
      },
      "outputs": [],
      "source": [
        "# loading the model you previously trained\n",
        "model = AutoModelForSequenceClassification.from_pretrained(\"./trained_text_model\")\n",
        "\n",
        "# arguments for Trainer\n",
        "test_args = TrainingArguments(\n",
        "    output_dir = \".\",\n",
        "    do_train = False,\n",
        "    do_predict = True,\n",
        "    per_device_eval_batch_size = config[\"batch_size\"],   \n",
        "    dataloader_drop_last = False    \n",
        ")\n",
        "\n",
        "# init trainer\n",
        "trainer = Trainer(\n",
        "              model = model, \n",
        "              args = test_args\n",
        "              )\n",
        "\n",
        "test_results = trainer.predict(test_ds)"
      ]
    },
    {
      "cell_type": "code",
      "execution_count": null,
      "id": "543752f0-7b27-4b9d-bb9c-30ad418cbfce",
      "metadata": {
        "id": "543752f0-7b27-4b9d-bb9c-30ad418cbfce"
      },
      "outputs": [],
      "source": [
        "mapping = {0:1.0, 1:1.5, 2:2.0, 3:2.5, 4:3.0, 5:3.5, 6:4.0, 7:4.5, 8:5.0,}\n",
        "\n",
        "preds = [[mapping[pos] for pos in np.argmax(i.reshape(6,9), axis=1)] for i in test_results[0]]"
      ]
    },
    {
      "cell_type": "code",
      "source": [
        "labels = test[['cohesion', 'syntax', 'vocabulary', 'phraseology', 'grammar', 'conventions']].values"
      ],
      "metadata": {
        "id": "BfzdSyCIhciC"
      },
      "id": "BfzdSyCIhciC",
      "execution_count": null,
      "outputs": []
    },
    {
      "cell_type": "code",
      "source": [
        "sns.displot(np.sum((preds-labels)**2, axis=1))"
      ],
      "metadata": {
        "id": "LkEsQYHOl635"
      },
      "id": "LkEsQYHOl635",
      "execution_count": null,
      "outputs": []
    },
    {
      "cell_type": "code",
      "source": [
        "targets = ['cohesion', 'syntax', 'vocabulary', 'phraseology', 'grammar', 'conventions']\n",
        "preds_df = pd.DataFrame(preds, columns = targets).astype(\"category\")\n",
        "\n",
        "fig, axes = plt.subplots(2, len(targets)//2, figsize=(15,6))\n",
        "\n",
        "for i, target in enumerate(targets):\n",
        "    ax = axes.flat[i]\n",
        "    sns.histplot(x=target, data=test, alpha=0.3, ax=ax, color=\"blue\")\n",
        "    sns.histplot(x=target, data=preds_df, alpha=0.3, ax=ax, color=\"orange\")\n",
        "    ax.set_title(target)\n",
        "    ax.set(xlabel=None, ylabel=None)\n",
        "    \n",
        "fig.suptitle('Output Variables')\n",
        "plt.tight_layout()\n",
        "plt.show()"
      ],
      "metadata": {
        "id": "9e7tR0mbmpaJ"
      },
      "id": "9e7tR0mbmpaJ",
      "execution_count": null,
      "outputs": []
    },
    {
      "cell_type": "code",
      "source": [],
      "metadata": {
        "id": "FwrG3P74nufK"
      },
      "id": "FwrG3P74nufK",
      "execution_count": null,
      "outputs": []
    }
  ],
  "metadata": {
    "kernelspec": {
      "display_name": "Python 3 (ipykernel)",
      "language": "python",
      "name": "python3"
    },
    "language_info": {
      "codemirror_mode": {
        "name": "ipython",
        "version": 3
      },
      "file_extension": ".py",
      "mimetype": "text/x-python",
      "name": "python",
      "nbconvert_exporter": "python",
      "pygments_lexer": "ipython3",
      "version": "3.9.13"
    },
    "colab": {
      "provenance": []
    },
    "accelerator": "GPU",
    "gpuClass": "standard"
  },
  "nbformat": 4,
  "nbformat_minor": 5
}