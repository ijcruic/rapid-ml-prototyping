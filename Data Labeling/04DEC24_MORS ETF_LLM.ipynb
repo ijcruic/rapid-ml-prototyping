{
 "cells": [
  {
   "cell_type": "markdown",
   "metadata": {},
   "source": [
    "<h1 align=\"center\">Label YouTube Comments for their Stance toward the U.S. Army</h1>\n",
    "\n",
    "For this tutorial we are going to create labels for the [stance](https://www.sciencedirect.com/science/article/pii/S0306457322001728) of comments toward videos on the U.S. Army's official [YouTube Channel](https://www.youtube.com/USarmy). This type of labeling task is common for things like public affairs, political science, or marketing where we want yto get metrics on how certain messages are being received by the (a) public. \n",
    "\n",
    "In this context stance is defined as the opinion, either expressed or implied, of a user or text toward a target. Typically, stance is either labeled as 'for', 'against', 'neutral', and can include 'unrelated'."
   ]
  },
  {
   "cell_type": "code",
   "execution_count": null,
   "metadata": {},
   "outputs": [],
   "source": [
    "# install dependencies\n",
    "! pip install -r requirements.txt"
   ]
  },
  {
   "cell_type": "code",
   "execution_count": 1,
   "metadata": {},
   "outputs": [
    {
     "name": "stderr",
     "output_type": "stream",
     "text": [
      "2024-12-03 17:44:21.931836: I tensorflow/core/util/port.cc:153] oneDNN custom operations are on. You may see slightly different numerical results due to floating-point round-off errors from different computation orders. To turn them off, set the environment variable `TF_ENABLE_ONEDNN_OPTS=0`.\n",
      "2024-12-03 17:44:23.459464: E external/local_xla/xla/stream_executor/cuda/cuda_fft.cc:485] Unable to register cuFFT factory: Attempting to register factory for plugin cuFFT when one has already been registered\n",
      "2024-12-03 17:44:23.856477: E external/local_xla/xla/stream_executor/cuda/cuda_dnn.cc:8454] Unable to register cuDNN factory: Attempting to register factory for plugin cuDNN when one has already been registered\n",
      "2024-12-03 17:44:23.955539: E external/local_xla/xla/stream_executor/cuda/cuda_blas.cc:1452] Unable to register cuBLAS factory: Attempting to register factory for plugin cuBLAS when one has already been registered\n",
      "2024-12-03 17:44:24.900541: I tensorflow/core/platform/cpu_feature_guard.cc:210] This TensorFlow binary is optimized to use available CPU instructions in performance-critical operations.\n",
      "To enable the following instructions: AVX2 AVX512F AVX512_VNNI FMA, in other operations, rebuild TensorFlow with the appropriate compiler flags.\n",
      "2024-12-03 17:44:37.055368: W tensorflow/compiler/tf2tensorrt/utils/py_utils.cc:38] TF-TRT Warning: Could not find TensorRT\n",
      "/usr/local/lib/python3.10/dist-packages/torchvision/datapoints/__init__.py:12: UserWarning: The torchvision.datapoints and torchvision.transforms.v2 namespaces are still Beta. While we do not expect major breaking changes, some APIs may still change according to user feedback. Please submit any feedback you may have in this issue: https://github.com/pytorch/vision/issues/6753, and you can also check out https://github.com/pytorch/vision/issues/7319 to learn more about the APIs that we suspect might involve future changes. You can silence this warning by calling torchvision.disable_beta_transforms_warning().\n",
      "  warnings.warn(_BETA_TRANSFORMS_WARNING)\n",
      "/usr/local/lib/python3.10/dist-packages/torchvision/transforms/v2/__init__.py:54: UserWarning: The torchvision.datapoints and torchvision.transforms.v2 namespaces are still Beta. While we do not expect major breaking changes, some APIs may still change according to user feedback. Please submit any feedback you may have in this issue: https://github.com/pytorch/vision/issues/6753, and you can also check out https://github.com/pytorch/vision/issues/7319 to learn more about the APIs that we suspect might involve future changes. You can silence this warning by calling torchvision.disable_beta_transforms_warning().\n",
      "  warnings.warn(_BETA_TRANSFORMS_WARNING)\n"
     ]
    }
   ],
   "source": [
    "# Import packages for labeling data by LLM\n",
    "import pandas as pd  \n",
    "import numpy as np\n",
    "from tqdm import tqdm\n",
    "tqdm.pandas()\n",
    "\n",
    "from transformers import pipeline\n",
    "\n",
    "from langchain.prompts import PromptTemplate\n",
    "from langchain.prompts import FewShotPromptTemplate\n",
    "from langchain_core.runnables import RunnableLambda, RunnablePassthrough\n",
    "from langchain_huggingface import HuggingFacePipeline\n",
    "from langchain_core.output_parsers import StrOutputParser"
   ]
  },
  {
   "cell_type": "markdown",
   "metadata": {},
   "source": [
    "# Read in and inspect the dataset to be labeled\n",
    "\n",
    "We will read in the validation dataset, which has human annotations to compare to, for this exercise. The full data set is available [here](https://zenodo.org/records/10493803)"
   ]
  },
  {
   "cell_type": "code",
   "execution_count": 2,
   "metadata": {},
   "outputs": [],
   "source": [
    "DATA_PATH = \"@usarmy_comments_validation_set.csv\"\n",
    "\n",
    "df = pd.read_csv(DATA_PATH, index_col=0)"
   ]
  },
  {
   "cell_type": "code",
   "execution_count": 3,
   "metadata": {},
   "outputs": [
    {
     "data": {
      "text/plain": [
       "(1000, 21)"
      ]
     },
     "execution_count": 3,
     "metadata": {},
     "output_type": "execute_result"
    }
   ],
   "source": [
    "df.shape"
   ]
  },
  {
   "cell_type": "code",
   "execution_count": 4,
   "metadata": {},
   "outputs": [
    {
     "data": {
      "text/html": [
       "<div>\n",
       "<style scoped>\n",
       "    .dataframe tbody tr th:only-of-type {\n",
       "        vertical-align: middle;\n",
       "    }\n",
       "\n",
       "    .dataframe tbody tr th {\n",
       "        vertical-align: top;\n",
       "    }\n",
       "\n",
       "    .dataframe thead th {\n",
       "        text-align: right;\n",
       "    }\n",
       "</style>\n",
       "<table border=\"1\" class=\"dataframe\">\n",
       "  <thead>\n",
       "    <tr style=\"text-align: right;\">\n",
       "      <th></th>\n",
       "      <th>id</th>\n",
       "      <th>comment</th>\n",
       "      <th>author</th>\n",
       "      <th>author_channel</th>\n",
       "      <th>like_count</th>\n",
       "      <th>published_at</th>\n",
       "      <th>coversation_id</th>\n",
       "      <th>video_id</th>\n",
       "      <th>name</th>\n",
       "      <th>description</th>\n",
       "      <th>...</th>\n",
       "      <th>stance_toward_army_1</th>\n",
       "      <th>stance_toward_the_video_1</th>\n",
       "      <th>stance_toward_army_2</th>\n",
       "      <th>stance_toward_the_video_2</th>\n",
       "      <th>stance_toward_army_3</th>\n",
       "      <th>stance_toward_the_video_3</th>\n",
       "      <th>stance_toward_army_4</th>\n",
       "      <th>stance_toward_the_video_4</th>\n",
       "      <th>stance_toward_army</th>\n",
       "      <th>stance_toward_the_video</th>\n",
       "    </tr>\n",
       "    <tr>\n",
       "      <th>Column1</th>\n",
       "      <th></th>\n",
       "      <th></th>\n",
       "      <th></th>\n",
       "      <th></th>\n",
       "      <th></th>\n",
       "      <th></th>\n",
       "      <th></th>\n",
       "      <th></th>\n",
       "      <th></th>\n",
       "      <th></th>\n",
       "      <th></th>\n",
       "      <th></th>\n",
       "      <th></th>\n",
       "      <th></th>\n",
       "      <th></th>\n",
       "      <th></th>\n",
       "      <th></th>\n",
       "      <th></th>\n",
       "      <th></th>\n",
       "      <th></th>\n",
       "      <th></th>\n",
       "    </tr>\n",
       "  </thead>\n",
       "  <tbody>\n",
       "    <tr>\n",
       "      <th>22003</th>\n",
       "      <td>UgwoQjnFnu8oh8pn8gV4AaABAg</td>\n",
       "      <td>This looks fun</td>\n",
       "      <td>FinnWarrior</td>\n",
       "      <td>UCftLalD5oiEhoQ8fMjWVHYA</td>\n",
       "      <td>56</td>\n",
       "      <td>6/2/2023 9:08</td>\n",
       "      <td>UgwoQjnFnu8oh8pn8gV4AaABAg</td>\n",
       "      <td>YT6nY1MbAqY</td>\n",
       "      <td>How was your #Army week?</td>\n",
       "      <td>Training is complete! Enjoy the rest, #Soldier...</td>\n",
       "      <td>...</td>\n",
       "      <td>neutral</td>\n",
       "      <td>supports</td>\n",
       "      <td>NaN</td>\n",
       "      <td>NaN</td>\n",
       "      <td>NaN</td>\n",
       "      <td>NaN</td>\n",
       "      <td>neutral</td>\n",
       "      <td>supports</td>\n",
       "      <td>neutral</td>\n",
       "      <td>supports</td>\n",
       "    </tr>\n",
       "    <tr>\n",
       "      <th>129279</th>\n",
       "      <td>UgwIIyx_S9bFcAlTaXJ4AaABAg</td>\n",
       "      <td>Be a good goy and enlist today!</td>\n",
       "      <td>Crawlz</td>\n",
       "      <td>UCMRIsquChpFBwZ9e2CzyjIQ</td>\n",
       "      <td>9</td>\n",
       "      <td>4/3/2023 21:53</td>\n",
       "      <td>UgwIIyx_S9bFcAlTaXJ4AaABAg</td>\n",
       "      <td>Lwx-2R9swDg</td>\n",
       "      <td>Be All You Can Be - U.S. Army's new brand trai...</td>\n",
       "      <td>Soldiers know what it means to Be All You Can ...</td>\n",
       "      <td>...</td>\n",
       "      <td>against</td>\n",
       "      <td>against</td>\n",
       "      <td>NaN</td>\n",
       "      <td>NaN</td>\n",
       "      <td>NaN</td>\n",
       "      <td>NaN</td>\n",
       "      <td>against</td>\n",
       "      <td>against</td>\n",
       "      <td>against</td>\n",
       "      <td>against</td>\n",
       "    </tr>\n",
       "    <tr>\n",
       "      <th>35799</th>\n",
       "      <td>Ugyp3sxiuELgscnDhEt4AaABAg</td>\n",
       "      <td>I love U.S. army!</td>\n",
       "      <td>Mashal Azhar</td>\n",
       "      <td>UCEr0tOwggp9KeRNUb-MSF0w</td>\n",
       "      <td>2</td>\n",
       "      <td>9/7/2023 9:11</td>\n",
       "      <td>Ugyp3sxiuELgscnDhEt4AaABAg</td>\n",
       "      <td>oSp0kWcHJcc</td>\n",
       "      <td>Army 101: Ranks - Enlisted Ranks | U.S. Army</td>\n",
       "      <td>Enlisted ranks in the #USArmy. What are they, ...</td>\n",
       "      <td>...</td>\n",
       "      <td>supports</td>\n",
       "      <td>supports</td>\n",
       "      <td>NaN</td>\n",
       "      <td>NaN</td>\n",
       "      <td>NaN</td>\n",
       "      <td>NaN</td>\n",
       "      <td>supports</td>\n",
       "      <td>supports</td>\n",
       "      <td>supports</td>\n",
       "      <td>supports</td>\n",
       "    </tr>\n",
       "    <tr>\n",
       "      <th>109853</th>\n",
       "      <td>UgzTqqqHg0Sqp4UNoyN4AaABAg</td>\n",
       "      <td>Outstanding Cadets!  Keep busy!  Summer of 78!</td>\n",
       "      <td>Ralph Brogdon</td>\n",
       "      <td>UCPRlIt0Fxj09Tsu-ikOX0ZQ</td>\n",
       "      <td>6</td>\n",
       "      <td>7/6/2023 9:52</td>\n",
       "      <td>UgzTqqqHg0Sqp4UNoyN4AaABAg</td>\n",
       "      <td>koutUr0IWHk</td>\n",
       "      <td>So what's ROTC Summer training like?</td>\n",
       "      <td>ROTC cadets undergo #Armytraining every summer...</td>\n",
       "      <td>...</td>\n",
       "      <td>supports</td>\n",
       "      <td>supports</td>\n",
       "      <td>NaN</td>\n",
       "      <td>NaN</td>\n",
       "      <td>NaN</td>\n",
       "      <td>NaN</td>\n",
       "      <td>supports</td>\n",
       "      <td>supports</td>\n",
       "      <td>supports</td>\n",
       "      <td>supports</td>\n",
       "    </tr>\n",
       "    <tr>\n",
       "      <th>130430</th>\n",
       "      <td>UgwtIVJIVI_hL3kXRex4AaABAg</td>\n",
       "      <td>I hate people that say \"die for our country\" l...</td>\n",
       "      <td>nerdzilla1954</td>\n",
       "      <td>UCaJ7eXZ9mRczw2xLqX8CkCA</td>\n",
       "      <td>1</td>\n",
       "      <td>3/28/2023 1:55</td>\n",
       "      <td>UgwtIVJIVI_hL3kXRex4AaABAg</td>\n",
       "      <td>Lwx-2R9swDg</td>\n",
       "      <td>Be All You Can Be - U.S. Army's new brand trai...</td>\n",
       "      <td>Soldiers know what it means to Be All You Can ...</td>\n",
       "      <td>...</td>\n",
       "      <td>supports</td>\n",
       "      <td>neutral</td>\n",
       "      <td>NaN</td>\n",
       "      <td>NaN</td>\n",
       "      <td>NaN</td>\n",
       "      <td>NaN</td>\n",
       "      <td>supports</td>\n",
       "      <td>neutral</td>\n",
       "      <td>supports</td>\n",
       "      <td>neutral</td>\n",
       "    </tr>\n",
       "  </tbody>\n",
       "</table>\n",
       "<p>5 rows × 21 columns</p>\n",
       "</div>"
      ],
      "text/plain": [
       "                                 id  \\\n",
       "Column1                               \n",
       "22003    UgwoQjnFnu8oh8pn8gV4AaABAg   \n",
       "129279   UgwIIyx_S9bFcAlTaXJ4AaABAg   \n",
       "35799    Ugyp3sxiuELgscnDhEt4AaABAg   \n",
       "109853   UgzTqqqHg0Sqp4UNoyN4AaABAg   \n",
       "130430   UgwtIVJIVI_hL3kXRex4AaABAg   \n",
       "\n",
       "                                                   comment         author  \\\n",
       "Column1                                                                     \n",
       "22003                                       This looks fun    FinnWarrior   \n",
       "129279                     Be a good goy and enlist today!         Crawlz   \n",
       "35799                                    I love U.S. army!   Mashal Azhar   \n",
       "109853      Outstanding Cadets!  Keep busy!  Summer of 78!  Ralph Brogdon   \n",
       "130430   I hate people that say \"die for our country\" l...  nerdzilla1954   \n",
       "\n",
       "                   author_channel  like_count    published_at  \\\n",
       "Column1                                                         \n",
       "22003    UCftLalD5oiEhoQ8fMjWVHYA          56   6/2/2023 9:08   \n",
       "129279   UCMRIsquChpFBwZ9e2CzyjIQ           9  4/3/2023 21:53   \n",
       "35799    UCEr0tOwggp9KeRNUb-MSF0w           2   9/7/2023 9:11   \n",
       "109853   UCPRlIt0Fxj09Tsu-ikOX0ZQ           6   7/6/2023 9:52   \n",
       "130430   UCaJ7eXZ9mRczw2xLqX8CkCA           1  3/28/2023 1:55   \n",
       "\n",
       "                     coversation_id     video_id  \\\n",
       "Column1                                            \n",
       "22003    UgwoQjnFnu8oh8pn8gV4AaABAg  YT6nY1MbAqY   \n",
       "129279   UgwIIyx_S9bFcAlTaXJ4AaABAg  Lwx-2R9swDg   \n",
       "35799    Ugyp3sxiuELgscnDhEt4AaABAg  oSp0kWcHJcc   \n",
       "109853   UgzTqqqHg0Sqp4UNoyN4AaABAg  koutUr0IWHk   \n",
       "130430   UgwtIVJIVI_hL3kXRex4AaABAg  Lwx-2R9swDg   \n",
       "\n",
       "                                                      name  \\\n",
       "Column1                                                      \n",
       "22003                             How was your #Army week?   \n",
       "129279   Be All You Can Be - U.S. Army's new brand trai...   \n",
       "35799         Army 101: Ranks - Enlisted Ranks | U.S. Army   \n",
       "109853                So what's ROTC Summer training like?   \n",
       "130430   Be All You Can Be - U.S. Army's new brand trai...   \n",
       "\n",
       "                                               description  ...  \\\n",
       "Column1                                                     ...   \n",
       "22003    Training is complete! Enjoy the rest, #Soldier...  ...   \n",
       "129279   Soldiers know what it means to Be All You Can ...  ...   \n",
       "35799    Enlisted ranks in the #USArmy. What are they, ...  ...   \n",
       "109853   ROTC cadets undergo #Armytraining every summer...  ...   \n",
       "130430   Soldiers know what it means to Be All You Can ...  ...   \n",
       "\n",
       "        stance_toward_army_1 stance_toward_the_video_1 stance_toward_army_2  \\\n",
       "Column1                                                                       \n",
       "22003                neutral                  supports                  NaN   \n",
       "129279               against                   against                  NaN   \n",
       "35799               supports                  supports                  NaN   \n",
       "109853              supports                  supports                  NaN   \n",
       "130430              supports                   neutral                  NaN   \n",
       "\n",
       "        stance_toward_the_video_2 stance_toward_army_3  \\\n",
       "Column1                                                  \n",
       "22003                         NaN                  NaN   \n",
       "129279                        NaN                  NaN   \n",
       "35799                         NaN                  NaN   \n",
       "109853                        NaN                  NaN   \n",
       "130430                        NaN                  NaN   \n",
       "\n",
       "        stance_toward_the_video_3 stance_toward_army_4  \\\n",
       "Column1                                                  \n",
       "22003                         NaN              neutral   \n",
       "129279                        NaN              against   \n",
       "35799                         NaN             supports   \n",
       "109853                        NaN             supports   \n",
       "130430                        NaN             supports   \n",
       "\n",
       "        stance_toward_the_video_4 stance_toward_army stance_toward_the_video  \n",
       "Column1                                                                       \n",
       "22003                    supports            neutral                supports  \n",
       "129279                    against            against                 against  \n",
       "35799                    supports           supports                supports  \n",
       "109853                   supports           supports                supports  \n",
       "130430                    neutral           supports                 neutral  \n",
       "\n",
       "[5 rows x 21 columns]"
      ]
     },
     "execution_count": 4,
     "metadata": {},
     "output_type": "execute_result"
    }
   ],
   "source": [
    "df.head()"
   ]
  },
  {
   "cell_type": "code",
   "execution_count": 5,
   "metadata": {},
   "outputs": [
    {
     "data": {
      "text/plain": [
       "Index(['id', 'comment', 'author', 'author_channel', 'like_count',\n",
       "       'published_at', 'coversation_id', 'video_id', 'name', 'description',\n",
       "       'timestamp', 'stance_toward_army_1', 'stance_toward_the_video_1',\n",
       "       'stance_toward_army_2', 'stance_toward_the_video_2',\n",
       "       'stance_toward_army_3', 'stance_toward_the_video_3',\n",
       "       'stance_toward_army_4', 'stance_toward_the_video_4',\n",
       "       'stance_toward_army', 'stance_toward_the_video'],\n",
       "      dtype='object')"
      ]
     },
     "execution_count": 5,
     "metadata": {},
     "output_type": "execute_result"
    }
   ],
   "source": [
    "df.columns"
   ]
  },
  {
   "cell_type": "markdown",
   "metadata": {},
   "source": [
    "# Get an LLM working\n",
    "\n",
    "For this exercise, we will stand up a local (relatively) small LLM, in this case a [specially tuned T5 model](https://huggingface.co/declare-lab/flan-alpaca-gpt4-xl). It should be noted that if you want to use a decoder-only model (i.e., Llama, Mistral, etc.) you need to switch to a `text-generation` pipeline. Also, setting `return_full_text=False` when using a text-generation pipeline is also helpful as it just returns what the model generates and not the full prompt.\n",
    "\n",
    "Once we have the pipeline, we wrap it in langchain's pipeline class so that we can use it in chains.\n",
    "\n",
    "Finally, one can also use a closed-source model, like OpenAI as well. Just consult [the documentation](https://python.langchain.com/docs/integrations/chat/openai/) to see how to do this"
   ]
  },
  {
   "cell_type": "code",
   "execution_count": 7,
   "metadata": {},
   "outputs": [
    {
     "data": {
      "application/vnd.jupyter.widget-view+json": {
       "model_id": "87818eec540142ddb0fa5291c5d04e47",
       "version_major": 2,
       "version_minor": 0
      },
      "text/plain": [
       "Loading checkpoint shards:   0%|          | 0/2 [00:00<?, ?it/s]"
      ]
     },
     "metadata": {},
     "output_type": "display_data"
    }
   ],
   "source": [
    "# Load the model using Hugging Face pipeline\n",
    "hf_pipeline = pipeline(\n",
    "    \"text2text-generation\",\n",
    "    model=\"declare-lab/flan-alpaca-gpt4-xl\",\n",
    "    device=0,  # (-1 for CPU, other numbers for GPUs)\n",
    "    max_new_tokens = 100,\n",
    ")\n",
    "\n",
    "# Create the LangChain LLM using the HuggingFace pipeline\n",
    "llm = HuggingFacePipeline(pipeline=hf_pipeline)"
   ]
  },
  {
   "cell_type": "code",
   "execution_count": 8,
   "metadata": {},
   "outputs": [
    {
     "name": "stdout",
     "output_type": "stream",
     "text": [
      "against\n"
     ]
    }
   ],
   "source": [
    "# run some examples \n",
    "question = '''Analyze the following social media post and determine its stance towards the provided entity. Respond with a single word: \"for\", \"against\", \"neutral\", or \"unrelated\". Only return the stance as a single word, and no other text.\n",
    "entity: U.S. Army\n",
    "post: @vondeveen If the Army wants to actually recruit people, maybe stop breaking people and actually prosecute sexual assault #nomorewar.\n",
    "stance:'''\n",
    "print(llm.invoke(question))"
   ]
  },
  {
   "cell_type": "code",
   "execution_count": 9,
   "metadata": {},
   "outputs": [
    {
     "name": "stdout",
     "output_type": "stream",
     "text": [
      "neutral\n"
     ]
    }
   ],
   "source": [
    "question = '''Analyze the following social media post and determine its stance towards the provided entity. Respond with a single word: \"for\", \"against\", \"neutral\", or \"unrelated\". Only return the stance as a single word, and no other text.\n",
    "entity: U.S. Army\n",
    "post: @artfulask I have never seen a pink-eared duck before. #Army\n",
    "stance:'''\n",
    "print(llm.invoke(question))"
   ]
  },
  {
   "cell_type": "code",
   "execution_count": 10,
   "metadata": {},
   "outputs": [
    {
     "name": "stdout",
     "output_type": "stream",
     "text": [
      "for\n"
     ]
    }
   ],
   "source": [
    "question = '''Analyze the following social media post and determine its stance towards the provided entity. Respond with a single word: \"for\", \"against\", \"neutral\", or \"unrelated\". Only return the stance as a single word, and no other text.\n",
    "entity: U.S. Army\n",
    "post: I think the @Army helped me become disciplined. I would have surely flunked out of college chasing tail if I didn't get some discipline there. #SFL\n",
    "stance:'''\n",
    "print(llm.invoke(question))"
   ]
  },
  {
   "cell_type": "markdown",
   "metadata": {},
   "source": [
    "# Create prompt templates"
   ]
  },
  {
   "cell_type": "code",
   "execution_count": 11,
   "metadata": {},
   "outputs": [],
   "source": [
    "context_template = '''Analyze the following YouTube comment to a video posted by the U.S. Army named \"{title}\" and determine its stance towards the provided entity. Respond with a single word: \"for\", \"against\", \"neutral\", or \"unrelated\". Only return the stance as a single word, and no other text.\n",
    "entity: {entity}    \n",
    "comment: {statement}    \n",
    "stance:'''  \n",
    "\n",
    "# Initialize a PromptTemplate object  \n",
    "context_prompt = PromptTemplate(input_variables=[\"title\",\"entity\",\"statement\"], template=context_template) "
   ]
  },
  {
   "cell_type": "code",
   "execution_count": 12,
   "metadata": {},
   "outputs": [
    {
     "name": "stdout",
     "output_type": "stream",
     "text": [
      "Analyze the following YouTube comment to a video posted by the U.S. Army named \"How was your #Army week?\" and determine its stance towards the provided entity. Respond with a single word: \"for\", \"against\", \"neutral\", or \"unrelated\". Only return the stance as a single word, and no other text.\n",
      "entity: the U.S. Army    \n",
      "comment: This looks fun    \n",
      "stance:\n"
     ]
    }
   ],
   "source": [
    "example = df.iloc[0,:]\n",
    "\n",
    "formated_prompt = context_prompt.format(title=example['name'], \n",
    "                      entity = \"the U.S. Army\",\n",
    "                      statement = example['comment'])\n",
    "\n",
    "print(formated_prompt)"
   ]
  },
  {
   "cell_type": "markdown",
   "metadata": {},
   "source": [
    "# Create and Run a Labeling Chain\n",
    "\n",
    "In the newer versions of LangChain, you string together 'runnbales' using the pipe (|) format to create chains"
   ]
  },
  {
   "cell_type": "code",
   "execution_count": 13,
   "metadata": {},
   "outputs": [],
   "source": [
    "llm_chain = context_prompt | llm |  StrOutputParser()"
   ]
  },
  {
   "cell_type": "code",
   "execution_count": 14,
   "metadata": {},
   "outputs": [
    {
     "data": {
      "text/plain": [
       "'for'"
      ]
     },
     "execution_count": 14,
     "metadata": {},
     "output_type": "execute_result"
    }
   ],
   "source": [
    "llm_chain.invoke({\"title\":example['name'], \n",
    "                  \"entity\":\"the U.S. Army\",\n",
    "                  \"statement\":example['comment']})"
   ]
  },
  {
   "cell_type": "code",
   "execution_count": 15,
   "metadata": {},
   "outputs": [
    {
     "name": "stderr",
     "output_type": "stream",
     "text": [
      "Classifying rows:   1%|          | 6/1000 [00:00<02:03,  8.06it/s]You seem to be using the pipelines sequentially on GPU. In order to maximize efficiency please use a dataset\n",
      "Classifying rows:  73%|███████▎  | 732/1000 [01:32<00:36,  7.44it/s]Token indices sequence length is longer than the specified maximum sequence length for this model (593 > 512). Running this sequence through the model will result in indexing errors\n",
      "Classifying rows: 100%|██████████| 1000/1000 [02:06<00:00,  7.89it/s]\n"
     ]
    }
   ],
   "source": [
    "# now, we can programmatically produce labels!\n",
    "\n",
    "results = []\n",
    "\n",
    "for _, row in tqdm(df.iterrows(), total=len(df), desc=\"Classifying rows\"):\n",
    "    result = llm_chain.invoke({\n",
    "        \"title\": row['name'],\n",
    "        \"entity\": \"the U.S. Army\",\n",
    "        \"statement\": row['comment']\n",
    "    })\n",
    "    results.append(result)"
   ]
  },
  {
   "cell_type": "code",
   "execution_count": 16,
   "metadata": {},
   "outputs": [
    {
     "data": {
      "text/plain": [
       "(array(['The stance of the comment is \"for\" the U.S. Army.',\n",
       "        'The stance of the comment is neutral.', 'against', 'for',\n",
       "        'neutral', 'unrelated'], dtype='<U49'),\n",
       " array([  1,   1, 409, 352, 139,  98]))"
      ]
     },
     "execution_count": 16,
     "metadata": {},
     "output_type": "execute_result"
    }
   ],
   "source": [
    "np.unique(results, return_counts=True)"
   ]
  },
  {
   "cell_type": "markdown",
   "metadata": {},
   "source": [
    "As we can see in the output, sometimes we get extra text that we did not ask the LLM for. So, often we want a post-processing function to make sure everythign maps back to the labels we want"
   ]
  },
  {
   "cell_type": "code",
   "execution_count": 17,
   "metadata": {},
   "outputs": [],
   "source": [
    "def post_process_results(result):\n",
    "    \"\"\"\n",
    "    This function post-processes the result from a large language model to label text.\n",
    "\n",
    "    Args:\n",
    "        result (str): A string representing the LLM output word.\n",
    "\n",
    "    Returns:\n",
    "        str: A classification label ('disagree', 'neutral', 'agree', or 'unrelated').\n",
    "    \"\"\"\n",
    "    \n",
    "    # Words or phrases that indicate each stance category\n",
    "    disagree_indicators = ['against', 'denies', 'critical', 'deny', 'neg', 'oppose', 'opposes']\n",
    "    agree_indicators = ['support', 'supports', 'for', 'pro ', 'positive', 'agree', 'agrees']\n",
    "    neutral_indicators = ['neutral']\n",
    "\n",
    "    # Normalize the word to lower case and remove leading/trailing white spaces\n",
    "    normalized_word = str(result).strip().lower()\n",
    "\n",
    "    # Determine stance based on the indicators\n",
    "    if any(indicator in normalized_word for indicator in disagree_indicators):\n",
    "        # If the word is also found in agree_indicators or neutral_indicators, label it as 'neutral'\n",
    "        if any(indicator in normalized_word for indicator in agree_indicators) or any(indicator in normalized_word for indicator in neutral_indicators):\n",
    "            return 'neutral'\n",
    "        else:\n",
    "            return 'against'\n",
    "    elif any(indicator in normalized_word for indicator in neutral_indicators):\n",
    "        # If the word is also found in disagree_indicators or agree_indicators, label it as 'neutral'\n",
    "        if any(indicator in normalized_word for indicator in disagree_indicators) or any(indicator in normalized_word for indicator in agree_indicators):\n",
    "            return 'neutral'\n",
    "        else:\n",
    "            return 'neutral'\n",
    "    elif any(indicator in normalized_word for indicator in agree_indicators):\n",
    "        # If the word is also found in disagree_indicators or neutral_indicators, label it as 'neutral'\n",
    "        if any(indicator in normalized_word for indicator in disagree_indicators) or any(indicator in normalized_word for indicator in neutral_indicators):\n",
    "            return 'neutral'\n",
    "        else:\n",
    "            return 'for'\n",
    "    else:\n",
    "        # If no specific stance label is found, label it as unrelated\n",
    "        return 'unrelated'\n"
   ]
  },
  {
   "cell_type": "code",
   "execution_count": 18,
   "metadata": {},
   "outputs": [],
   "source": [
    "results = [post_process_results(i) for i in results]"
   ]
  },
  {
   "cell_type": "code",
   "execution_count": 19,
   "metadata": {},
   "outputs": [
    {
     "data": {
      "text/plain": [
       "(array(['against', 'for', 'neutral', 'unrelated'], dtype='<U9'),\n",
       " array([409, 353, 140,  98]))"
      ]
     },
     "execution_count": 19,
     "metadata": {},
     "output_type": "execute_result"
    }
   ],
   "source": [
    "np.unique(results, return_counts=True)"
   ]
  },
  {
   "cell_type": "code",
   "execution_count": 20,
   "metadata": {},
   "outputs": [],
   "source": [
    "# Now, lets save out our labels for later use\n",
    "df['llm_labels'] = results\n",
    "\n",
    "df.to_csv(\"@usarmy_comments_validation_set_labeled.csv\")"
   ]
  },
  {
   "cell_type": "markdown",
   "metadata": {},
   "source": [
    "# Prompt Engineering for Labeling Data by LLM\n",
    "\n",
    "Okay, having seen how we can classify the stance of the comments toward a target (in this case, the U.S. Army), lets look at how we can construct some other labeling prompts, based on some of the design patterns we talked about earlier. Specifically, lets look at:\n",
    "- few-shot prompting\n",
    "- chain-of-thought-prompting"
   ]
  },
  {
   "cell_type": "markdown",
   "metadata": {},
   "source": [
    "## Few-shot prompting\n",
    "\n",
    "key to making this work well is the examples you give the LLM to reason on for classifying the stance. these examples coule be drawn from the same dataset, a related dataset or even completely made up."
   ]
  },
  {
   "cell_type": "code",
   "execution_count": 21,
   "metadata": {},
   "outputs": [],
   "source": [
    "example_template = '''title: {title}\n",
    "entity: {entity}\n",
    "comment: {comment}\n",
    "stance: {stance}'''\n",
    "\n",
    "example_prompt = PromptTemplate(\n",
    "    input_variables=[\"title\", \"entity\", \"comment\", \"stance\"],\n",
    "    template=example_template\n",
    ")\n",
    "\n",
    "examples = [\n",
    "    {'title': \"New Recruitment Video\",\n",
    "     'entity': \"the U.S. Army\",\n",
    "     'comment': \"This is an amazing initiative by the Army.\",\n",
    "     'stance': 'for'},\n",
    "    \n",
    "    {'title': \"Training Highlights\",\n",
    "     'entity': \"the U.S. Army\",\n",
    "     'comment': \"This video shows the Army's commitment to readiness.\",\n",
    "     'stance': 'for'},\n",
    "    \n",
    "    {'title': \"Military Expenditure Analysis\",\n",
    "     'entity': \"the U.S. Army\",\n",
    "     'comment': \"Why is so much taxpayer money wasted on this?\",\n",
    "     'stance': 'against'},\n",
    "    \n",
    "    {'title': \"Veterans' Day Tribute\",\n",
    "     'entity': \"the U.S. Army\",\n",
    "     'comment': \"This is a neutral tribute, nothing special.\",\n",
    "     'stance': 'neutral'},\n",
    "    \n",
    "    {'title': \"New Recruitment Video\",\n",
    "     'entity': \"the U.S. Army\",\n",
    "     'comment': \"This has nothing to do with the Army, totally irrelevant.\",\n",
    "     'stance': 'unrelated'},\n",
    "]"
   ]
  },
  {
   "cell_type": "code",
   "execution_count": 22,
   "metadata": {},
   "outputs": [],
   "source": [
    "prefix = '''Stance classification is the task of determining the stance of a comment towards a specific entity. The following examples illustrate different stances a comment can take: \"for\", \"against\", \"neutral\", or \"unrelated\".'''\n",
    "\n",
    "suffix = '''Analyze the following YouTube comment to a video posted by the U.S. Army named \"{title}\" and determine its stance towards the provided entity. Respond with a single word: \"for\", \"against\", \"neutral\", or \"unrelated\". Only return the stance as a single word, and no other text.\n",
    "title: {title}\n",
    "entity: {entity}\n",
    "comment: {comment}\n",
    "stance:'''\n",
    "\n",
    "# Create the FewShotPromptTemplate using the updated prefix, suffix, and examples\n",
    "few_shot_prompt = FewShotPromptTemplate(\n",
    "    examples=examples,\n",
    "    example_prompt=example_prompt,\n",
    "    prefix=prefix,\n",
    "    suffix=suffix,\n",
    "    input_variables=[\"title\", \"entity\", \"comment\"],\n",
    "    example_separator=\"\\n\\n\"\n",
    ")"
   ]
  },
  {
   "cell_type": "code",
   "execution_count": 23,
   "metadata": {},
   "outputs": [
    {
     "name": "stdout",
     "output_type": "stream",
     "text": [
      "Stance classification is the task of determining the stance of a comment towards a specific entity. The following examples illustrate different stances a comment can take: \"for\", \"against\", \"neutral\", or \"unrelated\".\n",
      "\n",
      "title: New Recruitment Video\n",
      "entity: the U.S. Army\n",
      "comment: This is an amazing initiative by the Army.\n",
      "stance: for\n",
      "\n",
      "title: Training Highlights\n",
      "entity: the U.S. Army\n",
      "comment: This video shows the Army's commitment to readiness.\n",
      "stance: for\n",
      "\n",
      "title: Military Expenditure Analysis\n",
      "entity: the U.S. Army\n",
      "comment: Why is so much taxpayer money wasted on this?\n",
      "stance: against\n",
      "\n",
      "title: Veterans' Day Tribute\n",
      "entity: the U.S. Army\n",
      "comment: This is a neutral tribute, nothing special.\n",
      "stance: neutral\n",
      "\n",
      "title: New Recruitment Video\n",
      "entity: the U.S. Army\n",
      "comment: This has nothing to do with the Army, totally irrelevant.\n",
      "stance: unrelated\n",
      "\n",
      "Analyze the following YouTube comment to a video posted by the U.S. Army named \"How was your #Army week?\" and determine its stance towards the provided entity. Respond with a single word: \"for\", \"against\", \"neutral\", or \"unrelated\". Only return the stance as a single word, and no other text.\n",
      "title: How was your #Army week?\n",
      "entity: the U.S. Army\n",
      "comment: This looks fun\n",
      "stance:\n"
     ]
    }
   ],
   "source": [
    "formated_prompt = few_shot_prompt.format(title=example['name'], \n",
    "                      entity = \"the U.S. Army\",\n",
    "                      comment = example['comment'])\n",
    "\n",
    "print(formated_prompt)"
   ]
  },
  {
   "cell_type": "markdown",
   "metadata": {},
   "source": [
    "Now, we can simiarly define a chain for the few-shot prompting"
   ]
  },
  {
   "cell_type": "code",
   "execution_count": 24,
   "metadata": {},
   "outputs": [],
   "source": [
    "few_shot_chain = few_shot_prompt | llm |  StrOutputParser() | RunnableLambda(post_process_results)"
   ]
  },
  {
   "cell_type": "code",
   "execution_count": 25,
   "metadata": {},
   "outputs": [
    {
     "data": {
      "text/plain": [
       "'for'"
      ]
     },
     "execution_count": 25,
     "metadata": {},
     "output_type": "execute_result"
    }
   ],
   "source": [
    "few_shot_chain.invoke({\"title\":example['name'], \n",
    "                  \"entity\":\"the U.S. Army\",\n",
    "                  \"comment\":example['comment']})"
   ]
  },
  {
   "cell_type": "code",
   "execution_count": 27,
   "metadata": {},
   "outputs": [
    {
     "name": "stderr",
     "output_type": "stream",
     "text": [
      "Classifying rows: 100%|██████████| 1000/1000 [02:54<00:00,  5.73it/s]\n"
     ]
    }
   ],
   "source": [
    "# now, lets programmatically produce labels with few-shot prompting\n",
    "\n",
    "results = []\n",
    "\n",
    "for _, row in tqdm(df.iterrows(), total=len(df), desc=\"Classifying rows\"):\n",
    "    result = few_shot_chain.invoke({\n",
    "        \"title\": row['name'],\n",
    "        \"entity\": \"the U.S. Army\",\n",
    "        \"comment\": row['comment']\n",
    "    })\n",
    "    results.append(result)"
   ]
  },
  {
   "cell_type": "code",
   "execution_count": 28,
   "metadata": {},
   "outputs": [
    {
     "data": {
      "text/plain": [
       "(array(['against', 'for', 'neutral', 'unrelated'], dtype='<U9'),\n",
       " array([412, 359,  73, 156]))"
      ]
     },
     "execution_count": 28,
     "metadata": {},
     "output_type": "execute_result"
    }
   ],
   "source": [
    "np.unique(results, return_counts=True)"
   ]
  },
  {
   "cell_type": "code",
   "execution_count": 29,
   "metadata": {},
   "outputs": [],
   "source": [
    "# Now, lets save out our labels for later use\n",
    "df['llm_few_shot_labels'] = results\n",
    "\n",
    "df.to_csv(\"@usarmy_comments_validation_set_labeled.csv\")"
   ]
  },
  {
   "cell_type": "markdown",
   "metadata": {},
   "source": [
    "## Chain-of-thought prompting\n",
    "\n",
    "This method often requires constructing together multiple prompts, which breakdown and reason over the example to be classified."
   ]
  },
  {
   "cell_type": "code",
   "execution_count": 30,
   "metadata": {},
   "outputs": [],
   "source": [
    "# CoT template 1: reason about potential stances\n",
    "\n",
    "cot_template_1 = '''Analyze the following YouTube comment to a video named \"{title}\" posted by the U.S. Army. Consider the opinion, or stance, expressed in the comment about the provided entity. Provide reasoning for your analysis.\n",
    "title: {title}\n",
    "entity: {entity}\n",
    "comment: {comment}\n",
    "explanation:'''\n",
    "\n",
    "cot_prompt_1 = PromptTemplate(\n",
    "    input_variables=[\"title\", \"entity\", \"comment\"],\n",
    "    template=cot_template_1\n",
    ")\n",
    "\n",
    "cot_chain_1 = cot_prompt_1 | llm | StrOutputParser()\n"
   ]
  },
  {
   "cell_type": "code",
   "execution_count": 31,
   "metadata": {},
   "outputs": [
    {
     "data": {
      "text/plain": [
       "'The comment expresses an opinion about the U.S. Army. The user expresses a positive sentiment towards the video and its content. This indicates that the user has a positive view of the U.S. Army and its activities.'"
      ]
     },
     "execution_count": 31,
     "metadata": {},
     "output_type": "execute_result"
    }
   ],
   "source": [
    "cot_chain_1.invoke({\"title\":example['name'], \n",
    "                  \"entity\":\"the U.S. Army\",\n",
    "                  \"comment\":example['comment']})"
   ]
  },
  {
   "cell_type": "code",
   "execution_count": 32,
   "metadata": {},
   "outputs": [],
   "source": [
    "# CoT template 1: prodcue the final stance judgement\n",
    "\n",
    "cot_template_2 = '''Based on your explanation, \"{stance_reason}\", what is the final stance towards the provided entity? Respond with a single word: \"for\", \"against\", \"neutral\", or \"unrelated\". Only return the stance as a single word, and no other text.\n",
    "title: {title}\n",
    "entity: {entity}\n",
    "comment: {comment}\n",
    "stance:'''\n",
    "\n",
    "cot_prompt_2 = PromptTemplate(\n",
    "    input_variables=[\"title\", \"entity\", \"comment\", \"stance_reason\"],\n",
    "    template=cot_template_2\n",
    ")\n",
    "\n",
    "cot_chain_2 = cot_prompt_2 | llm | StrOutputParser()"
   ]
  },
  {
   "cell_type": "code",
   "execution_count": 33,
   "metadata": {},
   "outputs": [],
   "source": [
    "# Combine the chains together for labeling data points\n",
    "\n",
    "cot_chain = {\n",
    "    \"stance_reason\": cot_chain_1,\n",
    "    \"title\": RunnablePassthrough(),\n",
    "    \"entity\": RunnablePassthrough(),\n",
    "    \"comment\": RunnablePassthrough()\n",
    "} | cot_chain_2 | StrOutputParser() | RunnableLambda(post_process_results)"
   ]
  },
  {
   "cell_type": "code",
   "execution_count": 34,
   "metadata": {},
   "outputs": [
    {
     "data": {
      "text/plain": [
       "'for'"
      ]
     },
     "execution_count": 34,
     "metadata": {},
     "output_type": "execute_result"
    }
   ],
   "source": [
    "cot_chain.invoke({\"title\":example['name'], \n",
    "                  \"entity\":\"the U.S. Army\",\n",
    "                  \"comment\":example['comment']})"
   ]
  },
  {
   "cell_type": "code",
   "execution_count": 35,
   "metadata": {},
   "outputs": [
    {
     "name": "stderr",
     "output_type": "stream",
     "text": [
      "Classifying rows: 100%|██████████| 1000/1000 [51:52<00:00,  3.11s/it] \n"
     ]
    }
   ],
   "source": [
    "# now, lets programmatically produce labels with few-shot prompting\n",
    "\n",
    "results = []\n",
    "\n",
    "for _, row in tqdm(df.iterrows(), total=len(df), desc=\"Classifying rows\"):\n",
    "    result = cot_chain.invoke({\n",
    "        \"title\": row['name'],\n",
    "        \"entity\": \"the U.S. Army\",\n",
    "        \"comment\": row['comment']\n",
    "    })\n",
    "    results.append(result)"
   ]
  },
  {
   "cell_type": "code",
   "execution_count": 36,
   "metadata": {},
   "outputs": [
    {
     "data": {
      "text/plain": [
       "(array(['against', 'for', 'neutral', 'unrelated'], dtype='<U9'),\n",
       " array([466, 487,  42,   5]))"
      ]
     },
     "execution_count": 36,
     "metadata": {},
     "output_type": "execute_result"
    }
   ],
   "source": [
    "np.unique(results, return_counts=True)"
   ]
  },
  {
   "cell_type": "code",
   "execution_count": 37,
   "metadata": {},
   "outputs": [],
   "source": [
    "# Now, lets save out our labels for later use\n",
    "df['llm_cot_labels'] = results\n",
    "\n",
    "df.to_csv(\"@usarmy_comments_validation_set_labeled.csv\")"
   ]
  },
  {
   "cell_type": "code",
   "execution_count": null,
   "metadata": {},
   "outputs": [],
   "source": []
  }
 ],
 "metadata": {
  "kernelspec": {
   "display_name": "Python 3 (ipykernel)",
   "language": "python",
   "name": "python3"
  },
  "language_info": {
   "codemirror_mode": {
    "name": "ipython",
    "version": 3
   },
   "file_extension": ".py",
   "mimetype": "text/x-python",
   "name": "python",
   "nbconvert_exporter": "python",
   "pygments_lexer": "ipython3",
   "version": "3.10.12"
  }
 },
 "nbformat": 4,
 "nbformat_minor": 4
}
