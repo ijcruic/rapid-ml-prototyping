{
 "cells": [
  {
   "cell_type": "markdown",
   "metadata": {},
   "source": [
    "<h1 align=\"center\">Create Stance Labels for the Army's YouTube Comments</h1>\n",
    "We are now going to use snorkel (and its functionality with things like labeling functions) combined with the previous LLM labels in order to label the comments to the Army's YouTube videos for their stance toward the U.S. Army."
   ]
  },
  {
   "cell_type": "code",
   "execution_count": 1,
   "metadata": {},
   "outputs": [
    {
     "name": "stderr",
     "output_type": "stream",
     "text": [
      "2024-12-03 18:01:06.311088: I tensorflow/core/util/port.cc:153] oneDNN custom operations are on. You may see slightly different numerical results due to floating-point round-off errors from different computation orders. To turn them off, set the environment variable `TF_ENABLE_ONEDNN_OPTS=0`.\n",
      "2024-12-03 18:01:06.328710: E external/local_xla/xla/stream_executor/cuda/cuda_fft.cc:485] Unable to register cuFFT factory: Attempting to register factory for plugin cuFFT when one has already been registered\n",
      "2024-12-03 18:01:06.348499: E external/local_xla/xla/stream_executor/cuda/cuda_dnn.cc:8454] Unable to register cuDNN factory: Attempting to register factory for plugin cuDNN when one has already been registered\n",
      "2024-12-03 18:01:06.354315: E external/local_xla/xla/stream_executor/cuda/cuda_blas.cc:1452] Unable to register cuBLAS factory: Attempting to register factory for plugin cuBLAS when one has already been registered\n",
      "2024-12-03 18:01:06.368499: I tensorflow/core/platform/cpu_feature_guard.cc:210] This TensorFlow binary is optimized to use available CPU instructions in performance-critical operations.\n",
      "To enable the following instructions: AVX2 AVX512F AVX512_VNNI FMA, in other operations, rebuild TensorFlow with the appropriate compiler flags.\n",
      "2024-12-03 18:01:07.968330: W tensorflow/compiler/tf2tensorrt/utils/py_utils.cc:38] TF-TRT Warning: Could not find TensorRT\n",
      "/usr/local/lib/python3.10/dist-packages/torchvision/datapoints/__init__.py:12: UserWarning: The torchvision.datapoints and torchvision.transforms.v2 namespaces are still Beta. While we do not expect major breaking changes, some APIs may still change according to user feedback. Please submit any feedback you may have in this issue: https://github.com/pytorch/vision/issues/6753, and you can also check out https://github.com/pytorch/vision/issues/7319 to learn more about the APIs that we suspect might involve future changes. You can silence this warning by calling torchvision.disable_beta_transforms_warning().\n",
      "  warnings.warn(_BETA_TRANSFORMS_WARNING)\n",
      "/usr/local/lib/python3.10/dist-packages/torchvision/transforms/v2/__init__.py:54: UserWarning: The torchvision.datapoints and torchvision.transforms.v2 namespaces are still Beta. While we do not expect major breaking changes, some APIs may still change according to user feedback. Please submit any feedback you may have in this issue: https://github.com/pytorch/vision/issues/6753, and you can also check out https://github.com/pytorch/vision/issues/7319 to learn more about the APIs that we suspect might involve future changes. You can silence this warning by calling torchvision.disable_beta_transforms_warning().\n",
      "  warnings.warn(_BETA_TRANSFORMS_WARNING)\n"
     ]
    }
   ],
   "source": [
    "# Import packages\n",
    "\n",
    "import pandas as pd, numpy as np, os, hashlib\n",
    "from tqdm import tqdm\n",
    "tqdm.pandas()\n",
    "from sklearn.metrics import confusion_matrix\n",
    "from sklearn.metrics import accuracy_score, f1_score\n",
    "\n",
    "from snorkel.labeling import labeling_function, PandasLFApplier\n",
    "from snorkel.labeling import LFAnalysis\n",
    "from snorkel.labeling.model import LabelModel\n",
    "from snorkel.labeling.model.baselines import MajorityLabelVoter\n",
    "\n",
    "from transformers import pipeline\n",
    "\n",
    "import matplotlib.pyplot as plt\n",
    "import seaborn as sns"
   ]
  },
  {
   "cell_type": "code",
   "execution_count": 2,
   "metadata": {},
   "outputs": [],
   "source": [
    "# Define possible labels for the weak labelers\n",
    "\n",
    "SUPPORT = 1\n",
    "AGAINST = 2\n",
    "NEUTRAL = 0\n",
    "ABSTAIN = -1"
   ]
  },
  {
   "cell_type": "markdown",
   "metadata": {},
   "source": [
    "# Read in and inspect the dataset to be labeled\n",
    "\n",
    "We will read in the validation dataset, which we labeled earlier, for this exercise. The full data set is available [here](https://zenodo.org/records/10493803)"
   ]
  },
  {
   "cell_type": "code",
   "execution_count": 32,
   "metadata": {},
   "outputs": [],
   "source": [
    "DATA_PATH = \"@usarmy_comments_validation_set_labeled.csv\"\n",
    "\n",
    "df = pd.read_csv(DATA_PATH, index_col=0)"
   ]
  },
  {
   "cell_type": "code",
   "execution_count": 33,
   "metadata": {},
   "outputs": [
    {
     "data": {
      "text/plain": [
       "(1000, 24)"
      ]
     },
     "execution_count": 33,
     "metadata": {},
     "output_type": "execute_result"
    }
   ],
   "source": [
    "df.shape"
   ]
  },
  {
   "cell_type": "code",
   "execution_count": 34,
   "metadata": {},
   "outputs": [
    {
     "data": {
      "text/html": [
       "<div>\n",
       "<style scoped>\n",
       "    .dataframe tbody tr th:only-of-type {\n",
       "        vertical-align: middle;\n",
       "    }\n",
       "\n",
       "    .dataframe tbody tr th {\n",
       "        vertical-align: top;\n",
       "    }\n",
       "\n",
       "    .dataframe thead th {\n",
       "        text-align: right;\n",
       "    }\n",
       "</style>\n",
       "<table border=\"1\" class=\"dataframe\">\n",
       "  <thead>\n",
       "    <tr style=\"text-align: right;\">\n",
       "      <th></th>\n",
       "      <th>id</th>\n",
       "      <th>comment</th>\n",
       "      <th>author</th>\n",
       "      <th>author_channel</th>\n",
       "      <th>like_count</th>\n",
       "      <th>published_at</th>\n",
       "      <th>coversation_id</th>\n",
       "      <th>video_id</th>\n",
       "      <th>name</th>\n",
       "      <th>description</th>\n",
       "      <th>...</th>\n",
       "      <th>stance_toward_the_video_2</th>\n",
       "      <th>stance_toward_army_3</th>\n",
       "      <th>stance_toward_the_video_3</th>\n",
       "      <th>stance_toward_army_4</th>\n",
       "      <th>stance_toward_the_video_4</th>\n",
       "      <th>stance_toward_army</th>\n",
       "      <th>stance_toward_the_video</th>\n",
       "      <th>llm_labels</th>\n",
       "      <th>llm_few_shot_labels</th>\n",
       "      <th>llm_cot_labels</th>\n",
       "    </tr>\n",
       "    <tr>\n",
       "      <th>Column1</th>\n",
       "      <th></th>\n",
       "      <th></th>\n",
       "      <th></th>\n",
       "      <th></th>\n",
       "      <th></th>\n",
       "      <th></th>\n",
       "      <th></th>\n",
       "      <th></th>\n",
       "      <th></th>\n",
       "      <th></th>\n",
       "      <th></th>\n",
       "      <th></th>\n",
       "      <th></th>\n",
       "      <th></th>\n",
       "      <th></th>\n",
       "      <th></th>\n",
       "      <th></th>\n",
       "      <th></th>\n",
       "      <th></th>\n",
       "      <th></th>\n",
       "      <th></th>\n",
       "    </tr>\n",
       "  </thead>\n",
       "  <tbody>\n",
       "    <tr>\n",
       "      <th>22003</th>\n",
       "      <td>UgwoQjnFnu8oh8pn8gV4AaABAg</td>\n",
       "      <td>This looks fun</td>\n",
       "      <td>FinnWarrior</td>\n",
       "      <td>UCftLalD5oiEhoQ8fMjWVHYA</td>\n",
       "      <td>56</td>\n",
       "      <td>6/2/2023 9:08</td>\n",
       "      <td>UgwoQjnFnu8oh8pn8gV4AaABAg</td>\n",
       "      <td>YT6nY1MbAqY</td>\n",
       "      <td>How was your #Army week?</td>\n",
       "      <td>Training is complete! Enjoy the rest, #Soldier...</td>\n",
       "      <td>...</td>\n",
       "      <td>NaN</td>\n",
       "      <td>NaN</td>\n",
       "      <td>NaN</td>\n",
       "      <td>neutral</td>\n",
       "      <td>supports</td>\n",
       "      <td>neutral</td>\n",
       "      <td>supports</td>\n",
       "      <td>for</td>\n",
       "      <td>for</td>\n",
       "      <td>for</td>\n",
       "    </tr>\n",
       "    <tr>\n",
       "      <th>129279</th>\n",
       "      <td>UgwIIyx_S9bFcAlTaXJ4AaABAg</td>\n",
       "      <td>Be a good goy and enlist today!</td>\n",
       "      <td>Crawlz</td>\n",
       "      <td>UCMRIsquChpFBwZ9e2CzyjIQ</td>\n",
       "      <td>9</td>\n",
       "      <td>4/3/2023 21:53</td>\n",
       "      <td>UgwIIyx_S9bFcAlTaXJ4AaABAg</td>\n",
       "      <td>Lwx-2R9swDg</td>\n",
       "      <td>Be All You Can Be - U.S. Army's new brand trai...</td>\n",
       "      <td>Soldiers know what it means to Be All You Can ...</td>\n",
       "      <td>...</td>\n",
       "      <td>NaN</td>\n",
       "      <td>NaN</td>\n",
       "      <td>NaN</td>\n",
       "      <td>against</td>\n",
       "      <td>against</td>\n",
       "      <td>against</td>\n",
       "      <td>against</td>\n",
       "      <td>for</td>\n",
       "      <td>for</td>\n",
       "      <td>against</td>\n",
       "    </tr>\n",
       "    <tr>\n",
       "      <th>35799</th>\n",
       "      <td>Ugyp3sxiuELgscnDhEt4AaABAg</td>\n",
       "      <td>I love U.S. army!</td>\n",
       "      <td>Mashal Azhar</td>\n",
       "      <td>UCEr0tOwggp9KeRNUb-MSF0w</td>\n",
       "      <td>2</td>\n",
       "      <td>9/7/2023 9:11</td>\n",
       "      <td>Ugyp3sxiuELgscnDhEt4AaABAg</td>\n",
       "      <td>oSp0kWcHJcc</td>\n",
       "      <td>Army 101: Ranks - Enlisted Ranks | U.S. Army</td>\n",
       "      <td>Enlisted ranks in the #USArmy. What are they, ...</td>\n",
       "      <td>...</td>\n",
       "      <td>NaN</td>\n",
       "      <td>NaN</td>\n",
       "      <td>NaN</td>\n",
       "      <td>supports</td>\n",
       "      <td>supports</td>\n",
       "      <td>supports</td>\n",
       "      <td>supports</td>\n",
       "      <td>for</td>\n",
       "      <td>for</td>\n",
       "      <td>for</td>\n",
       "    </tr>\n",
       "    <tr>\n",
       "      <th>109853</th>\n",
       "      <td>UgzTqqqHg0Sqp4UNoyN4AaABAg</td>\n",
       "      <td>Outstanding Cadets!  Keep busy!  Summer of 78!</td>\n",
       "      <td>Ralph Brogdon</td>\n",
       "      <td>UCPRlIt0Fxj09Tsu-ikOX0ZQ</td>\n",
       "      <td>6</td>\n",
       "      <td>7/6/2023 9:52</td>\n",
       "      <td>UgzTqqqHg0Sqp4UNoyN4AaABAg</td>\n",
       "      <td>koutUr0IWHk</td>\n",
       "      <td>So what's ROTC Summer training like?</td>\n",
       "      <td>ROTC cadets undergo #Armytraining every summer...</td>\n",
       "      <td>...</td>\n",
       "      <td>NaN</td>\n",
       "      <td>NaN</td>\n",
       "      <td>NaN</td>\n",
       "      <td>supports</td>\n",
       "      <td>supports</td>\n",
       "      <td>supports</td>\n",
       "      <td>supports</td>\n",
       "      <td>for</td>\n",
       "      <td>for</td>\n",
       "      <td>for</td>\n",
       "    </tr>\n",
       "    <tr>\n",
       "      <th>130430</th>\n",
       "      <td>UgwtIVJIVI_hL3kXRex4AaABAg</td>\n",
       "      <td>I hate people that say \"die for our country\" l...</td>\n",
       "      <td>nerdzilla1954</td>\n",
       "      <td>UCaJ7eXZ9mRczw2xLqX8CkCA</td>\n",
       "      <td>1</td>\n",
       "      <td>3/28/2023 1:55</td>\n",
       "      <td>UgwtIVJIVI_hL3kXRex4AaABAg</td>\n",
       "      <td>Lwx-2R9swDg</td>\n",
       "      <td>Be All You Can Be - U.S. Army's new brand trai...</td>\n",
       "      <td>Soldiers know what it means to Be All You Can ...</td>\n",
       "      <td>...</td>\n",
       "      <td>NaN</td>\n",
       "      <td>NaN</td>\n",
       "      <td>NaN</td>\n",
       "      <td>supports</td>\n",
       "      <td>neutral</td>\n",
       "      <td>supports</td>\n",
       "      <td>neutral</td>\n",
       "      <td>against</td>\n",
       "      <td>against</td>\n",
       "      <td>against</td>\n",
       "    </tr>\n",
       "  </tbody>\n",
       "</table>\n",
       "<p>5 rows × 24 columns</p>\n",
       "</div>"
      ],
      "text/plain": [
       "                                 id  \\\n",
       "Column1                               \n",
       "22003    UgwoQjnFnu8oh8pn8gV4AaABAg   \n",
       "129279   UgwIIyx_S9bFcAlTaXJ4AaABAg   \n",
       "35799    Ugyp3sxiuELgscnDhEt4AaABAg   \n",
       "109853   UgzTqqqHg0Sqp4UNoyN4AaABAg   \n",
       "130430   UgwtIVJIVI_hL3kXRex4AaABAg   \n",
       "\n",
       "                                                   comment         author  \\\n",
       "Column1                                                                     \n",
       "22003                                       This looks fun    FinnWarrior   \n",
       "129279                     Be a good goy and enlist today!         Crawlz   \n",
       "35799                                    I love U.S. army!   Mashal Azhar   \n",
       "109853      Outstanding Cadets!  Keep busy!  Summer of 78!  Ralph Brogdon   \n",
       "130430   I hate people that say \"die for our country\" l...  nerdzilla1954   \n",
       "\n",
       "                   author_channel  like_count    published_at  \\\n",
       "Column1                                                         \n",
       "22003    UCftLalD5oiEhoQ8fMjWVHYA          56   6/2/2023 9:08   \n",
       "129279   UCMRIsquChpFBwZ9e2CzyjIQ           9  4/3/2023 21:53   \n",
       "35799    UCEr0tOwggp9KeRNUb-MSF0w           2   9/7/2023 9:11   \n",
       "109853   UCPRlIt0Fxj09Tsu-ikOX0ZQ           6   7/6/2023 9:52   \n",
       "130430   UCaJ7eXZ9mRczw2xLqX8CkCA           1  3/28/2023 1:55   \n",
       "\n",
       "                     coversation_id     video_id  \\\n",
       "Column1                                            \n",
       "22003    UgwoQjnFnu8oh8pn8gV4AaABAg  YT6nY1MbAqY   \n",
       "129279   UgwIIyx_S9bFcAlTaXJ4AaABAg  Lwx-2R9swDg   \n",
       "35799    Ugyp3sxiuELgscnDhEt4AaABAg  oSp0kWcHJcc   \n",
       "109853   UgzTqqqHg0Sqp4UNoyN4AaABAg  koutUr0IWHk   \n",
       "130430   UgwtIVJIVI_hL3kXRex4AaABAg  Lwx-2R9swDg   \n",
       "\n",
       "                                                      name  \\\n",
       "Column1                                                      \n",
       "22003                             How was your #Army week?   \n",
       "129279   Be All You Can Be - U.S. Army's new brand trai...   \n",
       "35799         Army 101: Ranks - Enlisted Ranks | U.S. Army   \n",
       "109853                So what's ROTC Summer training like?   \n",
       "130430   Be All You Can Be - U.S. Army's new brand trai...   \n",
       "\n",
       "                                               description  ...  \\\n",
       "Column1                                                     ...   \n",
       "22003    Training is complete! Enjoy the rest, #Soldier...  ...   \n",
       "129279   Soldiers know what it means to Be All You Can ...  ...   \n",
       "35799    Enlisted ranks in the #USArmy. What are they, ...  ...   \n",
       "109853   ROTC cadets undergo #Armytraining every summer...  ...   \n",
       "130430   Soldiers know what it means to Be All You Can ...  ...   \n",
       "\n",
       "        stance_toward_the_video_2 stance_toward_army_3  \\\n",
       "Column1                                                  \n",
       "22003                         NaN                  NaN   \n",
       "129279                        NaN                  NaN   \n",
       "35799                         NaN                  NaN   \n",
       "109853                        NaN                  NaN   \n",
       "130430                        NaN                  NaN   \n",
       "\n",
       "        stance_toward_the_video_3 stance_toward_army_4  \\\n",
       "Column1                                                  \n",
       "22003                         NaN              neutral   \n",
       "129279                        NaN              against   \n",
       "35799                         NaN             supports   \n",
       "109853                        NaN             supports   \n",
       "130430                        NaN             supports   \n",
       "\n",
       "        stance_toward_the_video_4 stance_toward_army stance_toward_the_video  \\\n",
       "Column1                                                                        \n",
       "22003                    supports            neutral                supports   \n",
       "129279                    against            against                 against   \n",
       "35799                    supports           supports                supports   \n",
       "109853                   supports           supports                supports   \n",
       "130430                    neutral           supports                 neutral   \n",
       "\n",
       "        llm_labels llm_few_shot_labels llm_cot_labels  \n",
       "Column1                                                \n",
       "22003          for                 for            for  \n",
       "129279         for                 for        against  \n",
       "35799          for                 for            for  \n",
       "109853         for                 for            for  \n",
       "130430     against             against        against  \n",
       "\n",
       "[5 rows x 24 columns]"
      ]
     },
     "execution_count": 34,
     "metadata": {},
     "output_type": "execute_result"
    }
   ],
   "source": [
    "df.head()"
   ]
  },
  {
   "cell_type": "code",
   "execution_count": 35,
   "metadata": {},
   "outputs": [
    {
     "data": {
      "text/plain": [
       "Index(['id', 'comment', 'author', 'author_channel', 'like_count',\n",
       "       'published_at', 'coversation_id', 'video_id', 'name', 'description',\n",
       "       'timestamp', 'stance_toward_army_1', 'stance_toward_the_video_1',\n",
       "       'stance_toward_army_2', 'stance_toward_the_video_2',\n",
       "       'stance_toward_army_3', 'stance_toward_the_video_3',\n",
       "       'stance_toward_army_4', 'stance_toward_the_video_4',\n",
       "       'stance_toward_army', 'stance_toward_the_video', 'llm_labels',\n",
       "       'llm_few_shot_labels', 'llm_cot_labels'],\n",
       "      dtype='object')"
      ]
     },
     "execution_count": 35,
     "metadata": {},
     "output_type": "execute_result"
    }
   ],
   "source": [
    "df.columns"
   ]
  },
  {
   "cell_type": "markdown",
   "metadata": {},
   "source": [
    "# Create the Weak Labels\n",
    "\n",
    "At this point, we now want to create labeling functions around all of our possible weak labels. These include:\n",
    "\n",
    "- LLM labeling\n",
    "- Other ML model labels\n",
    "- Hueristic Labels"
   ]
  },
  {
   "cell_type": "markdown",
   "metadata": {},
   "source": [
    "## Add in LLM Created Labels"
   ]
  },
  {
   "cell_type": "code",
   "execution_count": 36,
   "metadata": {},
   "outputs": [],
   "source": [
    "@labeling_function()\n",
    "def check_llm(row):\n",
    "    if row['llm_labels'] == 'for':\n",
    "        return SUPPORT\n",
    "    elif row['llm_labels'] == 'against':\n",
    "        return AGAINST\n",
    "    else:\n",
    "        return NEUTRAL"
   ]
  },
  {
   "cell_type": "code",
   "execution_count": 37,
   "metadata": {},
   "outputs": [],
   "source": [
    "@labeling_function()\n",
    "def check_few_shot(row):\n",
    "    if row['llm_few_shot_labels'] == 'for':\n",
    "        return SUPPORT\n",
    "    elif row['llm_few_shot_labels'] == 'against':\n",
    "        return AGAINST\n",
    "    else:\n",
    "        return NEUTRAL"
   ]
  },
  {
   "cell_type": "code",
   "execution_count": 38,
   "metadata": {},
   "outputs": [],
   "source": [
    "@labeling_function()\n",
    "def check_cot(row):\n",
    "    if row['llm_cot_labels'] == 'for':\n",
    "        return SUPPORT\n",
    "    elif row['llm_cot_labels'] == 'against':\n",
    "        return AGAINST\n",
    "    else:\n",
    "        return NEUTRAL"
   ]
  },
  {
   "cell_type": "markdown",
   "metadata": {},
   "source": [
    "## Add in Additonal ML-derived Weak Labels\n",
    "\n",
    "We can often use other Foundation ML models to label things related to the target label we want. For example, we could reason that stance is probably correlated with sentiment, as negative emotionality is usually used to express an opinion against something. Similarly, the presence of hate speech might also be indicative of a negative opinion towards something"
   ]
  },
  {
   "cell_type": "code",
   "execution_count": 41,
   "metadata": {},
   "outputs": [
    {
     "name": "stderr",
     "output_type": "stream",
     "text": [
      "/usr/local/lib/python3.10/dist-packages/transformers/pipelines/text_classification.py:106: UserWarning: `return_all_scores` is now deprecated,  if want a similar functionality use `top_k=None` instead of `return_all_scores=True` or `top_k=1` instead of `return_all_scores=False`.\n",
      "  warnings.warn(\n"
     ]
    }
   ],
   "source": [
    "sentiment_analysis_pipeline = pipeline( model=\"lxyuan/distilbert-base-multilingual-cased-sentiments-student\", \n",
    "                                        return_all_scores=True, device =-1)\n",
    "\n",
    "def get_sentiment(row):\n",
    "    \"\"\"\n",
    "    Classifies the sentiment of a text using a sentiment analysis pipeline.\n",
    "\n",
    "    Parameters:\n",
    "    - row (pd.Series): A row from a pandas DataFrame containing a 'comment' column.\n",
    "\n",
    "    Returns:\n",
    "    - str: 'positive', 'negative', or 'neutral' based on the sentiment analysis results.\n",
    "    \"\"\"\n",
    "    # Get the text from the row\n",
    "    text = row['comment']\n",
    "    \n",
    "    try:\n",
    "        # Perform sentiment analysis\n",
    "        results = sentiment_analysis_pipeline(text)\n",
    "        positive_score = results[0][0]['score'] if results[0][0]['label'] == 'positive' else 0\n",
    "        neutral_score = results[0][1]['score'] if results[0][1]['label'] == 'neutral' else 0\n",
    "        negative_score = results[0][2]['score'] if results[0][2]['label'] == 'negative' else 0\n",
    "    except:\n",
    "        positive_score, neutral_score, negative_score = 0, 0, 0\n",
    "\n",
    "    return positive_score, negative_score, neutral_score"
   ]
  },
  {
   "cell_type": "code",
   "execution_count": 42,
   "metadata": {},
   "outputs": [
    {
     "name": "stderr",
     "output_type": "stream",
     "text": [
      "100%|██████████| 1000/1000 [00:19<00:00, 51.72it/s]\n"
     ]
    }
   ],
   "source": [
    "df[['positive_score', 'negative_score', 'neutral_score']] = df.progress_apply(\n",
    "    lambda row: pd.Series(get_sentiment(row)), axis=1\n",
    ")"
   ]
  },
  {
   "cell_type": "code",
   "execution_count": 43,
   "metadata": {},
   "outputs": [],
   "source": [
    "@labeling_function()\n",
    "def check_sentiment(row):\n",
    "    positive_score = row['positive_score']\n",
    "    neutral_score = row['neutral_score']\n",
    "    negative_score = row['negative_score']\n",
    "\n",
    "    if positive_score > 0.75:\n",
    "        return SUPPORT\n",
    "    elif negative_score > 0.6:\n",
    "        return AGAINST\n",
    "    elif neutral_score > 0.6:\n",
    "        return NEUTRAL\n",
    "    else:\n",
    "        return ABSTAIN\n"
   ]
  },
  {
   "cell_type": "markdown",
   "metadata": {},
   "source": [
    "## Add in Hueristic Weak Labels\n",
    "\n",
    "We can also add in hueristically-defined labels for the targeted label. A common example is some key words are often associated with a particular label. So, based on some manual inspection, we'll use some key words that seem to correlate will with being for or against our target (i.e., the U.S. Army).\n",
    "\n",
    "Once again, note that we don't have to have full coverage with these words, as with weak supervision the weak labels can have an `abstain` designation as well."
   ]
  },
  {
   "cell_type": "code",
   "execution_count": 44,
   "metadata": {},
   "outputs": [],
   "source": [
    "@labeling_function()\n",
    "def check_for_negative_keywords(row):\n",
    "    \"\"\"\n",
    "    Check if the 'comment' column contains negative keywords.\n",
    "    \n",
    "    Parameters:\n",
    "    - row: pandas.Series, a row from a DataFrame\n",
    "    \n",
    "    Returns:\n",
    "    - str: 'AGAINST' if negative keywords are found, 'ABSTAIN' otherwise\n",
    "    \"\"\"\n",
    "    negative_keywords = {' suicide', ' PTSD', ' murder', ' criminal', ' woke', ' tranny', ' queer', ' equal rights', ' transgender', ' lgbt',\n",
    "                         ' rape', ' rapist', ' shame', ' bullshit', ' bs', ' disgusted', ' toxic',\n",
    "                         ' satan', ' corrupt', ' wtf', ' waste', ' lie', ' evil', ' imperialist',\n",
    "                         ' go air force', ' go navy', ' go marine', ' jew',\n",
    "                         ' white suprem', ' white men', ' white priv', ' whites', ' anti white',\n",
    "                         ' zog', ' goy', ' moms', ' sodom', ' misleading', ' empire', ' bloodshed', \n",
    "                         ' barbarian', ' culture shock', ' progressive', ' pronouns', ' rotten'\n",
    "                        }\n",
    "    \n",
    "    # Convert the comment text to lowercase for case-insensitive matching\n",
    "    comment_text = str(row['comment']).lower()\n",
    "    \n",
    "    # Check for the presence of negative keywords\n",
    "    if any(keyword in comment_text for keyword in negative_keywords):\n",
    "        return AGAINST\n",
    "    else:\n",
    "        return ABSTAIN"
   ]
  },
  {
   "cell_type": "code",
   "execution_count": 45,
   "metadata": {},
   "outputs": [],
   "source": [
    "@labeling_function()\n",
    "def check_for_political_keywords(row):\n",
    "    \"\"\"\n",
    "    Check if the 'comment' column contains keywords related to political or social issues.\n",
    "    \n",
    "    Parameters:\n",
    "    - row: pandas.Series, a row from a DataFrame\n",
    "    \n",
    "    Returns:\n",
    "    - str: 'AGAINST' if keywords related to political or social issues are found, 'ABSTAIN' otherwise\n",
    "    \"\"\"\n",
    "    political_keywords = {'afghanistan', 'iraq', 'military budget', 'veteran healthcare', 'drone strike', ' politician',\n",
    "                          'military spending', 'militarization of police', 'human rights violation', ' tax money', ' tax dollar', \n",
    "                          'genocide', 'war crime', 'intervention', 'propaganda'}\n",
    "    \n",
    "    comment_text = str(row['comment']).lower()\n",
    "    \n",
    "    if any(keyword in comment_text for keyword in political_keywords):\n",
    "        return AGAINST\n",
    "    else:\n",
    "        return ABSTAIN"
   ]
  },
  {
   "cell_type": "code",
   "execution_count": 46,
   "metadata": {},
   "outputs": [],
   "source": [
    "@labeling_function()\n",
    "def check_for_positive_keywords(row):\n",
    "    \"\"\"\n",
    "    Check if the 'comment' column contains positive keywords.\n",
    "    \n",
    "    Parameters:\n",
    "    - row: pandas.Series, a row from a DataFrame\n",
    "    \n",
    "    Returns:\n",
    "    - str: 'AGAINST' if negative keywords are found, 'ABSTAIN' otherwise\n",
    "    \"\"\"\n",
    "    positive_keywords = {'hooah', 'airborne', 'glad', 'thank you', 'respect', 'awesome', 'god bless',\n",
    "                        'hero', 'proud', 'best', 'go army', 'outstanding', 'excellent', 'well done', \n",
    "                         'rangers', 'motivating', 'love', 'dedicated', 'patriot', 'brave', \"👍\", \"❤️\", \"💪\", \"👏\"\n",
    "                        }\n",
    "    \n",
    "    # Convert the comment text to lowercase for case-insensitive matching\n",
    "    comment_text = str(row['comment']).lower()\n",
    "    \n",
    "    # Check for the presence of positive keywords\n",
    "    if any(keyword in comment_text for keyword in positive_keywords):\n",
    "        return SUPPORT\n",
    "    else:\n",
    "        return ABSTAIN"
   ]
  },
  {
   "cell_type": "markdown",
   "metadata": {},
   "source": [
    "We can also add heuristic labeling functions around other aspects than the text itself, such as the meta-data. So, perhaps we have an intuition that liked comments are more likely to be valenced."
   ]
  },
  {
   "cell_type": "code",
   "execution_count": 47,
   "metadata": {},
   "outputs": [
    {
     "data": {
      "image/png": "[encoded data removed]",
      "text/plain": [
       "<Figure size 640x480 with 1 Axes>"
      ]
     },
     "metadata": {},
     "output_type": "display_data"
    }
   ],
   "source": [
    "# Plot a histogram of the 'like_count' column\n",
    "sns.histplot(data=df, x='like_count', bins=30, kde=False)\n",
    "\n",
    "# Add labels and a title\n",
    "plt.xlabel('Like Count')\n",
    "plt.ylabel('Frequency')\n",
    "plt.title('Histogram of Like Counts')\n",
    "\n",
    "# Show the plot\n",
    "plt.show()"
   ]
  },
  {
   "cell_type": "code",
   "execution_count": 48,
   "metadata": {},
   "outputs": [],
   "source": [
    "@labeling_function()\n",
    "def check_comment_like_count(row):\n",
    "    like_count = row['like_count']\n",
    "    \n",
    "    if like_count <=1:\n",
    "        return NEUTRAL\n",
    "    else:\n",
    "        return ABSTAIN"
   ]
  },
  {
   "cell_type": "markdown",
   "metadata": {},
   "source": [
    "# Check labeling coverage and statistics"
   ]
  },
  {
   "cell_type": "code",
   "execution_count": 49,
   "metadata": {},
   "outputs": [],
   "source": [
    "lfs = [\n",
    "       check_llm,\n",
    "       check_few_shot,\n",
    "       check_cot,\n",
    "       check_sentiment,\n",
    "       check_for_negative_keywords,\n",
    "       check_for_political_keywords,\n",
    "       check_for_positive_keywords,\n",
    "       check_comment_like_count\n",
    "]"
   ]
  },
  {
   "cell_type": "code",
   "execution_count": 50,
   "metadata": {},
   "outputs": [
    {
     "name": "stderr",
     "output_type": "stream",
     "text": [
      "100%|██████████| 1000/1000 [00:00<00:00, 16136.03it/s]\n"
     ]
    }
   ],
   "source": [
    "applier = PandasLFApplier(lfs=lfs)\n",
    "L_army = applier.apply(df=df)"
   ]
  },
  {
   "cell_type": "code",
   "execution_count": 51,
   "metadata": {},
   "outputs": [
    {
     "data": {
      "text/html": [
       "<div>\n",
       "<style scoped>\n",
       "    .dataframe tbody tr th:only-of-type {\n",
       "        vertical-align: middle;\n",
       "    }\n",
       "\n",
       "    .dataframe tbody tr th {\n",
       "        vertical-align: top;\n",
       "    }\n",
       "\n",
       "    .dataframe thead th {\n",
       "        text-align: right;\n",
       "    }\n",
       "</style>\n",
       "<table border=\"1\" class=\"dataframe\">\n",
       "  <thead>\n",
       "    <tr style=\"text-align: right;\">\n",
       "      <th></th>\n",
       "      <th>j</th>\n",
       "      <th>Polarity</th>\n",
       "      <th>Coverage</th>\n",
       "      <th>Overlaps</th>\n",
       "      <th>Conflicts</th>\n",
       "    </tr>\n",
       "  </thead>\n",
       "  <tbody>\n",
       "    <tr>\n",
       "      <th>check_llm</th>\n",
       "      <td>0</td>\n",
       "      <td>[0, 1, 2]</td>\n",
       "      <td>1.000</td>\n",
       "      <td>1.000</td>\n",
       "      <td>0.554</td>\n",
       "    </tr>\n",
       "    <tr>\n",
       "      <th>check_few_shot</th>\n",
       "      <td>1</td>\n",
       "      <td>[0, 1, 2]</td>\n",
       "      <td>1.000</td>\n",
       "      <td>1.000</td>\n",
       "      <td>0.554</td>\n",
       "    </tr>\n",
       "    <tr>\n",
       "      <th>check_cot</th>\n",
       "      <td>2</td>\n",
       "      <td>[0, 1, 2]</td>\n",
       "      <td>1.000</td>\n",
       "      <td>1.000</td>\n",
       "      <td>0.554</td>\n",
       "    </tr>\n",
       "    <tr>\n",
       "      <th>check_sentiment</th>\n",
       "      <td>3</td>\n",
       "      <td>[0, 1, 2]</td>\n",
       "      <td>0.396</td>\n",
       "      <td>0.396</td>\n",
       "      <td>0.211</td>\n",
       "    </tr>\n",
       "    <tr>\n",
       "      <th>check_for_negative_keywords</th>\n",
       "      <td>4</td>\n",
       "      <td>[2]</td>\n",
       "      <td>0.087</td>\n",
       "      <td>0.087</td>\n",
       "      <td>0.036</td>\n",
       "    </tr>\n",
       "    <tr>\n",
       "      <th>check_for_political_keywords</th>\n",
       "      <td>5</td>\n",
       "      <td>[2]</td>\n",
       "      <td>0.027</td>\n",
       "      <td>0.027</td>\n",
       "      <td>0.017</td>\n",
       "    </tr>\n",
       "    <tr>\n",
       "      <th>check_for_positive_keywords</th>\n",
       "      <td>6</td>\n",
       "      <td>[1]</td>\n",
       "      <td>0.233</td>\n",
       "      <td>0.233</td>\n",
       "      <td>0.124</td>\n",
       "    </tr>\n",
       "    <tr>\n",
       "      <th>check_comment_like_count</th>\n",
       "      <td>7</td>\n",
       "      <td>[0]</td>\n",
       "      <td>0.393</td>\n",
       "      <td>0.393</td>\n",
       "      <td>0.377</td>\n",
       "    </tr>\n",
       "  </tbody>\n",
       "</table>\n",
       "</div>"
      ],
      "text/plain": [
       "                              j   Polarity  Coverage  Overlaps  Conflicts\n",
       "check_llm                     0  [0, 1, 2]     1.000     1.000      0.554\n",
       "check_few_shot                1  [0, 1, 2]     1.000     1.000      0.554\n",
       "check_cot                     2  [0, 1, 2]     1.000     1.000      0.554\n",
       "check_sentiment               3  [0, 1, 2]     0.396     0.396      0.211\n",
       "check_for_negative_keywords   4        [2]     0.087     0.087      0.036\n",
       "check_for_political_keywords  5        [2]     0.027     0.027      0.017\n",
       "check_for_positive_keywords   6        [1]     0.233     0.233      0.124\n",
       "check_comment_like_count      7        [0]     0.393     0.393      0.377"
      ]
     },
     "execution_count": 51,
     "metadata": {},
     "output_type": "execute_result"
    }
   ],
   "source": [
    "LFAnalysis(L=L_army, lfs=lfs).lf_summary()"
   ]
  },
  {
   "cell_type": "markdown",
   "metadata": {},
   "source": [
    "# Create Gold Standard Labels for Stance toward the U.S. Army"
   ]
  },
  {
   "cell_type": "code",
   "execution_count": 52,
   "metadata": {},
   "outputs": [],
   "source": [
    "label_model = LabelModel(cardinality=3, verbose=True)"
   ]
  },
  {
   "cell_type": "code",
   "execution_count": 53,
   "metadata": {},
   "outputs": [
    {
     "name": "stderr",
     "output_type": "stream",
     "text": [
      "INFO:root:Computing O...\n",
      "INFO:root:Estimating \\mu...\n",
      "  0%|          | 0/1000 [00:00<?, ?epoch/s]INFO:root:[0 epochs]: TRAIN:[loss=0.847]\n",
      "  9%|▉         | 90/1000 [00:00<00:01, 892.98epoch/s]INFO:root:[100 epochs]: TRAIN:[loss=0.003]\n",
      " 19%|█▉        | 190/1000 [00:00<00:00, 953.56epoch/s]INFO:root:[200 epochs]: TRAIN:[loss=0.003]\n",
      " 29%|██▊       | 287/1000 [00:00<00:00, 958.21epoch/s]INFO:root:[300 epochs]: TRAIN:[loss=0.003]\n",
      " 38%|███▊      | 383/1000 [00:00<00:00, 953.51epoch/s]INFO:root:[400 epochs]: TRAIN:[loss=0.003]\n",
      " 48%|████▊     | 481/1000 [00:00<00:00, 961.74epoch/s]INFO:root:[500 epochs]: TRAIN:[loss=0.003]\n",
      " 58%|█████▊    | 581/1000 [00:00<00:00, 962.88epoch/s]INFO:root:[600 epochs]: TRAIN:[loss=0.003]\n",
      " 68%|██████▊   | 681/1000 [00:00<00:00, 972.99epoch/s]INFO:root:[700 epochs]: TRAIN:[loss=0.003]\n",
      " 78%|███████▊  | 779/1000 [00:00<00:00, 952.51epoch/s]INFO:root:[800 epochs]: TRAIN:[loss=0.003]\n",
      " 88%|████████▊ | 878/1000 [00:00<00:00, 963.44epoch/s]INFO:root:[900 epochs]: TRAIN:[loss=0.003]\n",
      "100%|██████████| 1000/1000 [00:01<00:00, 948.34epoch/s]\n",
      "INFO:root:Finished Training\n"
     ]
    }
   ],
   "source": [
    "label_model.fit(L_train=L_army, n_epochs=1000, log_freq=100)"
   ]
  },
  {
   "cell_type": "code",
   "execution_count": 54,
   "metadata": {},
   "outputs": [
    {
     "data": {
      "text/plain": [
       "array([[6.64865294e-04, 9.99335135e-01, 5.01080474e-12],\n",
       "       [1.57323361e-01, 8.42672101e-01, 4.53856465e-06],\n",
       "       [1.05486090e-04, 9.99894514e-01, 7.54639078e-13],\n",
       "       ...,\n",
       "       [6.64865294e-04, 9.99335135e-01, 5.01080474e-12],\n",
       "       [9.99996287e-01, 3.70310189e-06, 9.84379195e-09],\n",
       "       [9.91517435e-03, 4.05712167e-06, 9.90080769e-01]])"
      ]
     },
     "execution_count": 54,
     "metadata": {},
     "output_type": "execute_result"
    }
   ],
   "source": [
    "label_model.predict_proba(L_army)"
   ]
  },
  {
   "cell_type": "code",
   "execution_count": 55,
   "metadata": {},
   "outputs": [],
   "source": [
    "df['machine_stance_toward_army'] = label_model.predict(L_army, tie_break_policy='abstain')\n",
    "df['machine_stance_toward_army'] = df['machine_stance_toward_army'].replace({1:'supports', 2:'against', 0:'neutral', -1:'abstain'})"
   ]
  },
  {
   "cell_type": "code",
   "execution_count": 56,
   "metadata": {},
   "outputs": [
    {
     "data": {
      "text/plain": [
       "machine_stance_toward_army\n",
       "against     364\n",
       "supports    342\n",
       "neutral     294\n",
       "Name: count, dtype: int64"
      ]
     },
     "execution_count": 56,
     "metadata": {},
     "output_type": "execute_result"
    }
   ],
   "source": [
    "df['machine_stance_toward_army'].value_counts()"
   ]
  },
  {
   "cell_type": "code",
   "execution_count": 57,
   "metadata": {},
   "outputs": [
    {
     "name": "stdout",
     "output_type": "stream",
     "text": [
      "weak labeler: check_llm, weight: 0.92\n",
      "weak labeler: check_few_shot, weight: 0.92\n",
      "weak labeler: check_cot, weight: 0.72\n",
      "weak labeler: check_sentiment, weight: 0.79\n",
      "weak labeler: check_for_negative_keywords, weight: 0.82\n",
      "weak labeler: check_for_political_keywords, weight: 0.68\n",
      "weak labeler: check_for_positive_keywords, weight: 0.78\n",
      "weak labeler: check_comment_like_count, weight: 0.4\n"
     ]
    },
    {
     "data": {
      "text/plain": [
       "[None, None, None, None, None, None, None, None]"
      ]
     },
     "execution_count": 57,
     "metadata": {},
     "output_type": "execute_result"
    }
   ],
   "source": [
    "[print(f\"weak labeler: {i[0].name}, weight: {i[1]}\") for i in zip(lfs, np.around(label_model.get_weights(), 2))]"
   ]
  },
  {
   "cell_type": "markdown",
   "metadata": {},
   "source": [
    "Finally, lets comapre our labels to the actual labels on this validation set"
   ]
  },
  {
   "cell_type": "code",
   "execution_count": 59,
   "metadata": {},
   "outputs": [
    {
     "name": "stdout",
     "output_type": "stream",
     "text": [
      "Accuracy Score for stance toward Army: 0.657\n",
      "Micro F1-Score for stance toward Army: 0.657\n"
     ]
    }
   ],
   "source": [
    "print(f\"Accuracy Score for stance toward Army: {accuracy_score(df['stance_toward_army'], df['machine_stance_toward_army'])}\")\n",
    "print(f\"Micro F1-Score for stance toward Army: {f1_score(df['stance_toward_army'], df['machine_stance_toward_army'], average='micro')}\")"
   ]
  },
  {
   "cell_type": "code",
   "execution_count": 60,
   "metadata": {},
   "outputs": [
    {
     "data": {
      "image/png": "[encoded data removed]",
      "text/plain": [
       "<Figure size 1000x600 with 1 Axes>"
      ]
     },
     "metadata": {},
     "output_type": "display_data"
    }
   ],
   "source": [
    "# Create the cross-tabulation\n",
    "cross_tab_df = pd.crosstab(df['stance_toward_army'], df['machine_stance_toward_army'])\n",
    "\n",
    "# Plot heatmap with updated font sizes and replacements\n",
    "plt.figure(figsize=(10, 6))  # Adjust figure size\n",
    "sns.heatmap(cross_tab_df, annot=True, fmt='d', cmap='coolwarm', cbar=False, annot_kws={'size': 16})  # Set annotation size\n",
    "plt.title('Confusion Matrix between Human and \\nMachine Labeled Stances toward Army', fontsize=18)  # Set title font size\n",
    "plt.xlabel('Machine Stance Toward Army', fontsize=14)  # Set x-axis label font size\n",
    "plt.ylabel('Human Stance Toward Army', fontsize=14)  # Set y-axis label font size\n",
    "plt.xticks(rotation=45, fontsize=12)  # Rotate x-axis tick labels and set font size\n",
    "plt.yticks(rotation=0, fontsize=12)  # Set y-axis tick labels and font size\n",
    "plt.tight_layout()  # Ensure the layout fits within the figure\n",
    "plt.show()"
   ]
  },
  {
   "cell_type": "code",
   "execution_count": null,
   "metadata": {},
   "outputs": [],
   "source": []
  }
 ],
 "metadata": {
  "kernelspec": {
   "display_name": "Python 3 (ipykernel)",
   "language": "python",
   "name": "python3"
  },
  "language_info": {
   "codemirror_mode": {
    "name": "ipython",
    "version": 3
   },
   "file_extension": ".py",
   "mimetype": "text/x-python",
   "name": "python",
   "nbconvert_exporter": "python",
   "pygments_lexer": "ipython3",
   "version": "3.10.12"
  }
 },
 "nbformat": 4,
 "nbformat_minor": 4
}
