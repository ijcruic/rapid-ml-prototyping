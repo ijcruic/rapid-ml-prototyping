{
 "cells": [
  {
   "cell_type": "markdown",
   "id": "d818f696-fd23-4e71-8bc1-72c9886f74e6",
   "metadata": {},
   "source": [
    "# Import neccessary Packages and Define Helper Functions\n",
    "- import neccessary packages, most especially HuggingFace, Torch, and LangChain\n",
    "- we will also import and install Google's API in order to get some data related to YouTube Comments"
   ]
  },
  {
   "cell_type": "code",
   "execution_count": null,
   "id": "41b2d003-047c-4b45-81a7-77dd233aca8c",
   "metadata": {
    "tags": []
   },
   "outputs": [],
   "source": [
    "! pip install google-api-python-client\n",
    "! pip install langchain --user\n",
    "! pip install openai --user"
   ]
  },
  {
   "cell_type": "code",
   "execution_count": 12,
   "id": "b4fd8d09-8a41-4f0b-9512-c01c52230b97",
   "metadata": {
    "tags": []
   },
   "outputs": [],
   "source": [
    "import os, numpy as np, pandas as pd\n",
    "\n",
    "from googleapiclient.discovery import build\n",
    "\n",
    "from transformers import pipeline\n",
    "from langchain.llms import HuggingFacePipeline\n",
    "from langchain.llms import OpenAI\n",
    "import torch\n",
    "\n",
    "from matplotlib import pyplot as plt\n",
    "import seaborn as sns"
   ]
  },
  {
   "cell_type": "code",
   "execution_count": 13,
   "id": "b1b754e0-f8ac-4374-9bd9-98ef2755f47e",
   "metadata": {
    "tags": []
   },
   "outputs": [],
   "source": [
    "device = 0 if torch.cuda.is_available() else -1"
   ]
  },
  {
   "cell_type": "markdown",
   "id": "bf58c737-4c6d-4476-b26b-35bf917f90b5",
   "metadata": {
    "tags": []
   },
   "source": [
    "# Create a Dataset\n",
    "- import comments from YouTube videos\n",
    "- look at some examples"
   ]
  },
  {
   "cell_type": "code",
   "execution_count": 126,
   "id": "707ca4d7-c30a-4b3e-84d6-34e98a0b52a1",
   "metadata": {
    "tags": []
   },
   "outputs": [],
   "source": [
    "def get_video_comments(video_id, api_key):\n",
    "    # empty list for storing reply\n",
    "    replies = []\n",
    " \n",
    "    # creating youtube resource object\n",
    "    youtube = build('youtube', 'v3',\n",
    "                    developerKey=api_key)\n",
    " \n",
    "    # retrieve youtube video results\n",
    "    video_response=youtube.commentThreads().list(\n",
    "        part='snippet',\n",
    "        maxResults=100,\n",
    "        videoId=video_id\n",
    "    ).execute()\n",
    " \n",
    "    # iterate video response\n",
    "    results = []\n",
    "    while video_response:\n",
    "       \n",
    "        # extracting required info\n",
    "        # from each result object\n",
    "        for item in video_response['items']:\n",
    "           \n",
    "            datum = {}\n",
    "            datum['id'] = item['id']\n",
    "            datum['comment'] = item['snippet']['topLevelComment']['snippet']['textOriginal']\n",
    "            datum['author'] = item['snippet']['topLevelComment']['snippet']['authorDisplayName']\n",
    "            datum['author_channel'] = item['snippet']['topLevelComment']['snippet']['authorChannelId']['value']\n",
    "            datum['like_count'] = item['snippet']['topLevelComment']['snippet']['likeCount']\n",
    "            datum['published_at'] = item['snippet']['topLevelComment']['snippet']['publishedAt']\n",
    "            datum['coversation_id'] = item['id']\n",
    "            results.append(datum)\n",
    "            if item['snippet']['totalReplyCount'] > 0:\n",
    "                results.extend(get_all_top_level_comment_replies(item['id'], [], None)) \n",
    " \n",
    "        # Again repeat\n",
    "        if 'nextPageToken' in video_response:\n",
    "            video_response = youtube.commentThreads().list(\n",
    "                    part = 'snippet',\n",
    "                    pageToken = video_response['nextPageToken'],\n",
    "                    videoId = video_id\n",
    "                ).execute()\n",
    "        else:\n",
    "            return results"
   ]
  },
  {
   "cell_type": "code",
   "execution_count": 127,
   "id": "4c83a4c7-f4cb-48de-8e62-493da463e9b0",
   "metadata": {
    "tags": []
   },
   "outputs": [],
   "source": [
    "def get_all_top_level_comment_replies(top_comment_id, replies, token):\n",
    "    replies_response=youtube.comments().list(part='snippet',\n",
    "                                               maxResults=100,\n",
    "                                               parentId=top_comment_id,\n",
    "                                               pageToken=token).execute()\n",
    "\n",
    "    for item in replies_response['items']:\n",
    "        datum = {}\n",
    "        datum['id'] = item['id']\n",
    "        datum['comment'] = item['snippet']['textOriginal']\n",
    "        datum['author'] = item['snippet']['authorDisplayName']\n",
    "        datum['author_channel'] = item['snippet']['authorChannelId']['value']\n",
    "        datum['like_count'] = item['snippet']['likeCount']\n",
    "        datum['published_at'] = item['snippet']['publishedAt']\n",
    "        datum['coversation_id'] = top_comment_id\n",
    "        replies.append(datum)\n",
    "\n",
    "    if \"nextPageToken\" in replies_response: \n",
    "        return get_all_top_level_comment_replies(top_comment_id, replies, replies_response['nextPageToken'])\n",
    "    else:\n",
    "        return replies"
   ]
  },
  {
   "cell_type": "code",
   "execution_count": 128,
   "id": "5976ee05-1f1f-455d-96c9-5f37a2a9fe03",
   "metadata": {
    "tags": []
   },
   "outputs": [],
   "source": [
    "with open(\"youtube_credentials.txt\") as f:\n",
    "    api_key = f.read()"
   ]
  },
  {
   "cell_type": "code",
   "execution_count": 135,
   "id": "0371a2ba-ee64-46c3-a920-74c914cba3c8",
   "metadata": {
    "tags": []
   },
   "outputs": [],
   "source": [
    "#video_id = \"Lwx-2R9swDg\" # Be All You Can Be - U.S. Army's new brand trailer - U.S. Army\n",
    "#video_id = \"-ZMzfihqOkQ\" # What Army Snipers Go Through At Sniper School - insider business\n",
    "video_id = \"nV8UZJNBY6Y\" # Adele - The Final Carpool Karaoke"
   ]
  },
  {
   "cell_type": "code",
   "execution_count": 136,
   "id": "4abd207b-1216-4442-bb88-263be20329a3",
   "metadata": {
    "tags": []
   },
   "outputs": [],
   "source": [
    "comments = get_video_comments(video_id, api_key)"
   ]
  },
  {
   "cell_type": "code",
   "execution_count": 137,
   "id": "69b7d10d-22d0-41da-867e-44e22bdd55b1",
   "metadata": {
    "tags": []
   },
   "outputs": [],
   "source": [
    "comments_df = pd.DataFrame(comments)"
   ]
  },
  {
   "cell_type": "code",
   "execution_count": 138,
   "id": "8fb9552e-03d3-4b57-b87a-6cd8e580f4ef",
   "metadata": {
    "tags": []
   },
   "outputs": [],
   "source": [
    "# save data\n",
    "comments_df.to_csv(\"video_comments_\"+video_id+\".csv\")\n",
    "\n",
    "# load data\n",
    "#comments_df = pd.read_csv(\"video_comments_\"+video_id+\".csv\", index_col=0)"
   ]
  },
  {
   "cell_type": "code",
   "execution_count": 139,
   "id": "4d443fdd-9112-4ea3-b87a-83dc42b8249f",
   "metadata": {
    "tags": []
   },
   "outputs": [
    {
     "data": {
      "text/plain": [
       "(12342, 7)"
      ]
     },
     "execution_count": 139,
     "metadata": {},
     "output_type": "execute_result"
    }
   ],
   "source": [
    "comments_df.shape"
   ]
  },
  {
   "cell_type": "code",
   "execution_count": 140,
   "id": "8e5ff8ef-e82f-45d8-93f7-91c244189fee",
   "metadata": {
    "tags": []
   },
   "outputs": [
    {
     "data": {
      "text/html": [
       "<div>\n",
       "<style scoped>\n",
       "    .dataframe tbody tr th:only-of-type {\n",
       "        vertical-align: middle;\n",
       "    }\n",
       "\n",
       "    .dataframe tbody tr th {\n",
       "        vertical-align: top;\n",
       "    }\n",
       "\n",
       "    .dataframe thead th {\n",
       "        text-align: right;\n",
       "    }\n",
       "</style>\n",
       "<table border=\"1\" class=\"dataframe\">\n",
       "  <thead>\n",
       "    <tr style=\"text-align: right;\">\n",
       "      <th></th>\n",
       "      <th>id</th>\n",
       "      <th>comment</th>\n",
       "      <th>author</th>\n",
       "      <th>author_channel</th>\n",
       "      <th>like_count</th>\n",
       "      <th>published_at</th>\n",
       "      <th>coversation_id</th>\n",
       "    </tr>\n",
       "  </thead>\n",
       "  <tbody>\n",
       "    <tr>\n",
       "      <th>0</th>\n",
       "      <td>UgzWUD0w2WFLoC57dlh4AaABAg</td>\n",
       "      <td>Adele is a national treasure, even though she ...</td>\n",
       "      <td>Frances Clare</td>\n",
       "      <td>UCGh4RfUqDY91cOXvaIoKBrg</td>\n",
       "      <td>0</td>\n",
       "      <td>2023-04-25T19:59:13Z</td>\n",
       "      <td>UgzWUD0w2WFLoC57dlh4AaABAg</td>\n",
       "    </tr>\n",
       "    <tr>\n",
       "      <th>1</th>\n",
       "      <td>UgwtMlFlwMW8e6IxBOF4AaABAg</td>\n",
       "      <td>James looks like he was gonna cry the whole ti...</td>\n",
       "      <td>Sarah Dunn</td>\n",
       "      <td>UCsyHMzUXrpqsZta-Px0xiVA</td>\n",
       "      <td>0</td>\n",
       "      <td>2023-04-25T19:59:12Z</td>\n",
       "      <td>UgwtMlFlwMW8e6IxBOF4AaABAg</td>\n",
       "    </tr>\n",
       "    <tr>\n",
       "      <th>2</th>\n",
       "      <td>UgxQYaTdTzlPSWZSGDh4AaABAg</td>\n",
       "      <td>Te amo</td>\n",
       "      <td>rocio torres</td>\n",
       "      <td>UCGlUXRVkQ-tXTteo5fPs-8A</td>\n",
       "      <td>0</td>\n",
       "      <td>2023-04-25T19:59:12Z</td>\n",
       "      <td>UgxQYaTdTzlPSWZSGDh4AaABAg</td>\n",
       "    </tr>\n",
       "    <tr>\n",
       "      <th>3</th>\n",
       "      <td>Ugy6AlRHwM0-ArfJGXl4AaABAg</td>\n",
       "      <td>Adele.!!👑😘</td>\n",
       "      <td>cristal G</td>\n",
       "      <td>UCj2ncc-6zaKI5EcdcMFtD_g</td>\n",
       "      <td>1</td>\n",
       "      <td>2023-04-25T19:59:10Z</td>\n",
       "      <td>Ugy6AlRHwM0-ArfJGXl4AaABAg</td>\n",
       "    </tr>\n",
       "    <tr>\n",
       "      <th>4</th>\n",
       "      <td>UgxI06aXMKee6U4aDmV4AaABAg</td>\n",
       "      <td>Makes you want to throw up 😅</td>\n",
       "      <td>Jesse Stone</td>\n",
       "      <td>UC968J5YEA6tz5EFda7pw6DQ</td>\n",
       "      <td>0</td>\n",
       "      <td>2023-04-25T19:59:03Z</td>\n",
       "      <td>UgxI06aXMKee6U4aDmV4AaABAg</td>\n",
       "    </tr>\n",
       "  </tbody>\n",
       "</table>\n",
       "</div>"
      ],
      "text/plain": [
       "                           id  \\\n",
       "0  UgzWUD0w2WFLoC57dlh4AaABAg   \n",
       "1  UgwtMlFlwMW8e6IxBOF4AaABAg   \n",
       "2  UgxQYaTdTzlPSWZSGDh4AaABAg   \n",
       "3  Ugy6AlRHwM0-ArfJGXl4AaABAg   \n",
       "4  UgxI06aXMKee6U4aDmV4AaABAg   \n",
       "\n",
       "                                             comment         author  \\\n",
       "0  Adele is a national treasure, even though she ...  Frances Clare   \n",
       "1  James looks like he was gonna cry the whole ti...     Sarah Dunn   \n",
       "2                                             Te amo   rocio torres   \n",
       "3                                         Adele.!!👑😘      cristal G   \n",
       "4                       Makes you want to throw up 😅    Jesse Stone   \n",
       "\n",
       "             author_channel  like_count          published_at  \\\n",
       "0  UCGh4RfUqDY91cOXvaIoKBrg           0  2023-04-25T19:59:13Z   \n",
       "1  UCsyHMzUXrpqsZta-Px0xiVA           0  2023-04-25T19:59:12Z   \n",
       "2  UCGlUXRVkQ-tXTteo5fPs-8A           0  2023-04-25T19:59:12Z   \n",
       "3  UCj2ncc-6zaKI5EcdcMFtD_g           1  2023-04-25T19:59:10Z   \n",
       "4  UC968J5YEA6tz5EFda7pw6DQ           0  2023-04-25T19:59:03Z   \n",
       "\n",
       "               coversation_id  \n",
       "0  UgzWUD0w2WFLoC57dlh4AaABAg  \n",
       "1  UgwtMlFlwMW8e6IxBOF4AaABAg  \n",
       "2  UgxQYaTdTzlPSWZSGDh4AaABAg  \n",
       "3  Ugy6AlRHwM0-ArfJGXl4AaABAg  \n",
       "4  UgxI06aXMKee6U4aDmV4AaABAg  "
      ]
     },
     "execution_count": 140,
     "metadata": {},
     "output_type": "execute_result"
    }
   ],
   "source": [
    "comments_df.head()"
   ]
  },
  {
   "cell_type": "markdown",
   "id": "f28e9aa2-7cfc-4d5b-bfaf-e65e52a39acd",
   "metadata": {},
   "source": [
    "# Zero-shot Text Labeling and Summarization\n",
    "- produce some candidate labels for the different comments\n",
    "- summarize the comments to get after some general themes"
   ]
  },
  {
   "cell_type": "code",
   "execution_count": 144,
   "id": "f76dd142-ee07-4b0e-841e-eab0ce4ac791",
   "metadata": {
    "tags": []
   },
   "outputs": [],
   "source": [
    "classifier = pipeline(model=\"facebook/bart-large-mnli\", task=\"zero-shot-classification\", device=0)"
   ]
  },
  {
   "cell_type": "code",
   "execution_count": 145,
   "id": "08b1205e-b83d-49ab-85ea-a2569fa11231",
   "metadata": {
    "tags": []
   },
   "outputs": [],
   "source": [
    "labels = [\"offensive_content\", \"supportive_content\"]"
   ]
  },
  {
   "cell_type": "code",
   "execution_count": 150,
   "id": "f2aa0ad8-3c56-48f2-b6ae-58808a324fe5",
   "metadata": {
    "tags": []
   },
   "outputs": [
    {
     "name": "stderr",
     "output_type": "stream",
     "text": [
      "\n",
      "KeyboardInterrupt\n",
      "\n"
     ]
    }
   ],
   "source": [
    "classifier(list(comments_df['comment']), candidate_labels = labels)"
   ]
  },
  {
   "cell_type": "markdown",
   "id": "9b116f5b-ff35-4913-878e-74ed5699e505",
   "metadata": {},
   "source": [
    "# Prompt Engineering for Various Tasks\n",
    "- comment our code\n",
    "- prompt engineer for specific tasks\n",
    "    - determining wether a comment is against or 'trolling' a video\n",
    "    - produce our own 'trolling' comments to another video\n",
    "    - save out these prompts for future use\n",
    "    - extract a link analysis diagram from text\n",
    "- do these prompt engineered tasks both locally and MaaS/SaaS"
   ]
  },
  {
   "cell_type": "code",
   "execution_count": null,
   "id": "b6c1b27c-c823-4630-9475-bee8d621cb1e",
   "metadata": {},
   "outputs": [],
   "source": []
  },
  {
   "cell_type": "markdown",
   "id": "08717b5c-152d-4f3d-bc25-8ba2d1cadcc6",
   "metadata": {},
   "source": [
    "# Fine Tune an LLM"
   ]
  },
  {
   "cell_type": "code",
   "execution_count": null,
   "id": "ec9340cd-42b6-49f6-90eb-f3f3c475f261",
   "metadata": {},
   "outputs": [],
   "source": []
  }
 ],
 "metadata": {
  "kernelspec": {
   "display_name": "Python 3 (ipykernel)",
   "language": "python",
   "name": "python3"
  },
  "language_info": {
   "codemirror_mode": {
    "name": "ipython",
    "version": 3
   },
   "file_extension": ".py",
   "mimetype": "text/x-python",
   "name": "python",
   "nbconvert_exporter": "python",
   "pygments_lexer": "ipython3",
   "version": "3.10.6"
  }
 },
 "nbformat": 4,
 "nbformat_minor": 5
}
